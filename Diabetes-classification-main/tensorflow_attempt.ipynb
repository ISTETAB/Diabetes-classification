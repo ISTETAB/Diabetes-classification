{
 "cells": [
  {
   "cell_type": "code",
   "execution_count": 5,
   "id": "initial_id",
   "metadata": {
    "collapsed": true,
    "ExecuteTime": {
     "end_time": "2024-02-25T12:53:58.806667Z",
     "start_time": "2024-02-25T12:53:58.163564Z"
    }
   },
   "outputs": [
    {
     "name": "stdout",
     "output_type": "stream",
     "text": [
      "1 Physical GPUs, 1 Logical GPUs\n"
     ]
    },
    {
     "name": "stderr",
     "output_type": "stream",
     "text": [
      "2024-02-25 14:53:58.421519: I external/local_xla/xla/stream_executor/cuda/cuda_executor.cc:887] could not open file to read NUMA node: /sys/bus/pci/devices/0000:01:00.0/numa_node\n",
      "Your kernel may have been built without NUMA support.\n",
      "2024-02-25 14:53:58.564634: I external/local_xla/xla/stream_executor/cuda/cuda_executor.cc:887] could not open file to read NUMA node: /sys/bus/pci/devices/0000:01:00.0/numa_node\n",
      "Your kernel may have been built without NUMA support.\n",
      "2024-02-25 14:53:58.564667: I external/local_xla/xla/stream_executor/cuda/cuda_executor.cc:887] could not open file to read NUMA node: /sys/bus/pci/devices/0000:01:00.0/numa_node\n",
      "Your kernel may have been built without NUMA support.\n",
      "2024-02-25 14:53:58.568782: I external/local_xla/xla/stream_executor/cuda/cuda_executor.cc:887] could not open file to read NUMA node: /sys/bus/pci/devices/0000:01:00.0/numa_node\n",
      "Your kernel may have been built without NUMA support.\n",
      "2024-02-25 14:53:58.568820: I external/local_xla/xla/stream_executor/cuda/cuda_executor.cc:887] could not open file to read NUMA node: /sys/bus/pci/devices/0000:01:00.0/numa_node\n",
      "Your kernel may have been built without NUMA support.\n",
      "2024-02-25 14:53:58.568838: I external/local_xla/xla/stream_executor/cuda/cuda_executor.cc:887] could not open file to read NUMA node: /sys/bus/pci/devices/0000:01:00.0/numa_node\n",
      "Your kernel may have been built without NUMA support.\n",
      "2024-02-25 14:53:58.802600: I external/local_xla/xla/stream_executor/cuda/cuda_executor.cc:887] could not open file to read NUMA node: /sys/bus/pci/devices/0000:01:00.0/numa_node\n",
      "Your kernel may have been built without NUMA support.\n",
      "2024-02-25 14:53:58.802649: I external/local_xla/xla/stream_executor/cuda/cuda_executor.cc:887] could not open file to read NUMA node: /sys/bus/pci/devices/0000:01:00.0/numa_node\n",
      "Your kernel may have been built without NUMA support.\n",
      "2024-02-25 14:53:58.802655: I tensorflow/core/common_runtime/gpu/gpu_device.cc:2022] Could not identify NUMA node of platform GPU id 0, defaulting to 0.  Your kernel may not have been built with NUMA support.\n",
      "2024-02-25 14:53:58.802683: I external/local_xla/xla/stream_executor/cuda/cuda_executor.cc:887] could not open file to read NUMA node: /sys/bus/pci/devices/0000:01:00.0/numa_node\n",
      "Your kernel may have been built without NUMA support.\n",
      "2024-02-25 14:53:58.802695: I tensorflow/core/common_runtime/gpu/gpu_device.cc:1929] Created device /job:localhost/replica:0/task:0/device:GPU:0 with 21770 MB memory:  -> device: 0, name: NVIDIA GeForce RTX 3090, pci bus id: 0000:01:00.0, compute capability: 8.6\n"
     ]
    }
   ],
   "source": [
    "import tensorflow as tf\n",
    "\n",
    "gpus = tf.config.experimental.list_physical_devices('GPU')\n",
    "if gpus:\n",
    "    try:\n",
    "        # Currently, memory growth needs to be the same across GPUs\n",
    "        for gpu in gpus:\n",
    "            tf.config.experimental.set_memory_growth(gpu, True)\n",
    "        logical_gpus = tf.config.experimental.list_logical_devices('GPU')\n",
    "        print(f\"{len(gpus)} Physical GPUs, {len(logical_gpus)} Logical GPUs\")\n",
    "    except RuntimeError as e:\n",
    "        # Memory growth must be set before GPUs have been initialized\n",
    "        print(e)\n"
   ]
  },
  {
   "cell_type": "code",
   "outputs": [],
   "source": [
    "import pandas as pd\n",
    "import numpy as np\n",
    "from sklearn.metrics import classification_report, accuracy_score, confusion_matrix\n",
    "from sklearn.model_selection import train_test_split\n",
    "from sklearn.preprocessing import MinMaxScaler\n",
    "from sklearn.ensemble import RandomForestClassifier\n",
    "import xgboost as xgb\n",
    "from sklearn.model_selection import RandomizedSearchCV\n",
    "from scipy.stats import randint, uniform\n",
    "\n",
    "df = pd.read_csv('diabetes_prediction_dataset.csv')\n",
    "df = df[df['age']>=18]\n",
    "df = df[df['bmi']<=40]\n",
    "#Preprocess the data\n",
    "numeric_col=[]\n",
    "non_numeric_col=[]\n",
    "for column in df.columns:\n",
    "    if pd.api.types.is_numeric_dtype(df[column]):\n",
    "        if(df[column].nunique()<5):\n",
    "            non_numeric_col.append(column)\n",
    "        else:\n",
    "            numeric_col.append(column)\n",
    "    else:\n",
    "        non_numeric_col.append(column)\n",
    "from sklearn.preprocessing import LabelEncoder\n",
    "le=LabelEncoder()\n",
    "df['smoking_history'] = df['smoking_history'].replace({'not current':'former','ever':'never'})\n",
    "df_copy = df.copy()\n",
    "for col in non_numeric_col:\n",
    "    df[col]=le.fit_transform(df[col])\n",
    "\n"
   ],
   "metadata": {
    "collapsed": false,
    "ExecuteTime": {
     "end_time": "2024-02-25T12:54:00.988914Z",
     "start_time": "2024-02-25T12:54:00.384443Z"
    }
   },
   "id": "55cb0f1640d0e79f",
   "execution_count": 6
  },
  {
   "cell_type": "code",
   "outputs": [],
   "source": [
    "y = df['diabetes']\n",
    "X = df.drop('diabetes', axis = 1)"
   ],
   "metadata": {
    "collapsed": false,
    "ExecuteTime": {
     "end_time": "2024-02-25T12:54:01.705811Z",
     "start_time": "2024-02-25T12:54:01.701644Z"
    }
   },
   "id": "cee8173b7a65bc95",
   "execution_count": 7
  },
  {
   "cell_type": "code",
   "outputs": [],
   "source": [
    "scale_pos_weight = y.value_counts()[0] /  y.value_counts()[1]"
   ],
   "metadata": {
    "collapsed": false,
    "ExecuteTime": {
     "end_time": "2024-02-25T12:54:03.184234Z",
     "start_time": "2024-02-25T12:54:03.179094Z"
    }
   },
   "id": "f0788172b85a6fa3",
   "execution_count": 8
  },
  {
   "cell_type": "code",
   "outputs": [],
   "source": [
    "#Normalize the data\n",
    "scaler = MinMaxScaler()\n",
    "X_train, X_test, y_train, y_test = train_test_split(X, y, test_size = 0.3, stratify = y)\n",
    "X_test, X_val, y_test, y_val = train_test_split(X_test, y_test, test_size = 0.5, stratify = y_test)\n",
    "X_train_scaled = scaler.fit_transform(X_train)\n",
    "X_test_scaled = scaler.transform(X_test)\n",
    "X_val_scaled = scaler.transform(X_val)\n",
    "combined_X_train = np.concatenate((X_train_scaled,X_val_scaled), axis = 0)\n",
    "combined_y_train = np.concatenate((y_train,y_val), axis = 0)"
   ],
   "metadata": {
    "collapsed": false,
    "ExecuteTime": {
     "end_time": "2024-02-25T13:11:03.906946Z",
     "start_time": "2024-02-25T13:11:03.881462Z"
    }
   },
   "id": "ae2d8dbae1b8ff36",
   "execution_count": 74
  },
  {
   "cell_type": "code",
   "outputs": [
    {
     "data": {
      "text/plain": "(99468, 8)"
     },
     "execution_count": 27,
     "metadata": {},
     "output_type": "execute_result"
    }
   ],
   "source": [
    "X_train_scaled.shape"
   ],
   "metadata": {
    "collapsed": false,
    "ExecuteTime": {
     "end_time": "2024-02-25T13:00:30.207139Z",
     "start_time": "2024-02-25T13:00:30.203578Z"
    }
   },
   "id": "8270ef52602d7056",
   "execution_count": 27
  },
  {
   "cell_type": "code",
   "outputs": [],
   "source": [
    "from keras.models import Model\n",
    "from keras.layers import Dense, BatchNormalization, Dropout, Input\n",
    "from keras.saving import register_keras_serializable\n",
    "\n",
    "@register_keras_serializable()\n",
    "class DiabetesClassifier(Model):\n",
    "    def __init__(self, data_input, num_of_dense_layers = 3, dense_number = 8, dropout = 0, l2 = 0.001, opt_threshold = 0):\n",
    "        super(DiabetesClassifier, self).__init__()\n",
    "        self.opt_threshold = opt_threshold\n",
    "        self.num_of_dense_layers = num_of_dense_layers\n",
    "        self.dense_number = dense_number\n",
    "        self.dropout = dropout\n",
    "        self.data_input = data_input\n",
    "        self.l2 = l2\n",
    "        self.model = self.build_model()\n",
    "    \n",
    "    def call(self, inputs):\n",
    "        return self.model(inputs)\n",
    "    \n",
    "    def build_model(self):\n",
    "        inp = Input(shape = self.data_input)\n",
    "        reg = keras.regularizers.l2(self.l2)\n",
    "        x = Dense(self.data_input, activation = 'relu', kernel_regularizer=reg)(inp)\n",
    "        for i in range(self.num_of_dense_layers):\n",
    "            x = Dense(units = self.dense_number, activation = 'relu', kernel_regularizer=reg)(x)\n",
    "            x = BatchNormalization()(x)\n",
    "            x = Dropout(self.dropout)(x)\n",
    "        output = Dense(units =1, activation = 'sigmoid')(x)\n",
    "        model = Model(inputs = inp, outputs = output)\n",
    "        return model"
   ],
   "metadata": {
    "collapsed": false,
    "ExecuteTime": {
     "end_time": "2024-02-25T12:54:08.971275Z",
     "start_time": "2024-02-25T12:54:08.967057Z"
    }
   },
   "id": "6823cc7e6d4ac4fe",
   "execution_count": 11
  },
  {
   "cell_type": "code",
   "outputs": [],
   "source": [
    "from keras import metrics\n",
    "import keras"
   ],
   "metadata": {
    "collapsed": false,
    "ExecuteTime": {
     "end_time": "2024-02-25T12:54:11.120652Z",
     "start_time": "2024-02-25T12:54:11.118230Z"
    }
   },
   "id": "e818d4e5dcd36b77",
   "execution_count": 12
  },
  {
   "cell_type": "code",
   "outputs": [],
   "source": [
    "import optuna\n",
    "from sklearn.model_selection import StratifiedKFold\n",
    "from sklearn.metrics import precision_recall_curve, f1_score, precision_score, recall_score\n",
    "\n",
    "\n",
    "def objective(trial):\n",
    "    num_of_layers = trial.suggest_int('num_of_layers', 2, 3, step = 1)\n",
    "    dense_num_of_neurons = trial.suggest_int('num_of_neurons', 5, 8, step = 1)\n",
    "    dense_num_of_neurons = 2 ** dense_num_of_neurons\n",
    "    dropout = trial.suggest_float('dropout', 0.2, 0.4)\n",
    "    l2 = trial.suggest_float('l2', 0.001, 0.01, log = True)\n",
    "    learning_rate = trial.suggest_float('learning_rate', 0.001, 0.01, log = True)\n",
    "    scale_pos_weight_multiplier = trial.suggest_int('scale_pos_weight_multiplier', 1, 3)\n",
    "    \n",
    "    model = DiabetesClassifier(X_train_scaled.shape[1], num_of_dense_layers =num_of_layers, dense_number =dense_num_of_neurons, dropout = dropout, l2 = l2)\n",
    "    tensorboard = keras.callbacks.TensorBoard(log_dir='logs')\n",
    "    optimizer = keras.optimizers.Adam(learning_rate = learning_rate)\n",
    "    model.compile(optimizer = optimizer, loss = 'binary_crossentropy', metrics = [metrics.AUC(), metrics.Precision(), metrics.Recall(), metrics.Accuracy()])\n",
    "    epochs = trial.suggest_int('epochs', 20,100, step = 10)\n",
    "    model.fit(X_train_scaled, y_train, validation_data = (X_val_scaled, y_val), batch_size =4092, epochs = 20, class_weight = {1: scale_pos_weight/scale_pos_weight_multiplier, 0: 1}, callbacks = [tensorboard])\n",
    "\n",
    "    n_splits = 5  # Number of folds for StratifiedKFold\n",
    "    cv = StratifiedKFold(n_splits=n_splits, shuffle=True, random_state=42)\n",
    "    \n",
    "    opt_thresholds = []\n",
    "    f1_scores = []\n",
    "    recall_lis = []\n",
    "    precision_lis = []\n",
    "    # Choose the beta value you want.\n",
    "    beta = 1.45    \n",
    "    for train_index, val_index in cv.split(combined_X_train, combined_y_train):\n",
    "        # Split data into training and validation for the current fold\n",
    "        X_train_curr, X_val_curr = combined_X_train[train_index], combined_X_train[val_index]\n",
    "        y_train_curr, y_val_curr = combined_y_train[train_index], combined_y_train[val_index]\n",
    "        # Predict probabilities for the positive class on the validation data\n",
    "        y_pred_prob = model.predict(X_val_curr).ravel()\n",
    "    \n",
    "        # Compute precision-recall curve\n",
    "        precision, recall, thresholds = precision_recall_curve(y_val_curr, y_pred_prob)\n",
    "    \n",
    "        # Calculate F1 scores for each threshold\n",
    "        # f1_scores_fold = [2 * (p * r) / (p + r) if (p + r) > 0 else 0 for p, r in zip(precision, recall)]\n",
    "        f1_scores_fold = [(1 + beta**2) * (prec * rec) / ((beta**2 * prec) + rec) for prec, rec in zip(precision, recall)]\n",
    "\n",
    "    # Find the index of the maximum F1 score\n",
    "        opt_idx = np.argmax(f1_scores_fold)\n",
    "        opt_threshold = thresholds[opt_idx] if opt_idx < len(thresholds) else 1.0\n",
    "        \n",
    "        # Store the optimal threshold for this fold\n",
    "        opt_thresholds.append(opt_threshold)\n",
    "        f1_scores.append(f1_scores_fold[opt_idx])\n",
    "        y_pred = (y_pred_prob > opt_threshold).astype(int)\n",
    "        recall_lis.append(recall_score(y_val_curr, y_pred))\n",
    "        precision_lis.append(precision_score(y_val_curr, y_pred))\n",
    "    \n",
    "    average_opt_threshold = np.mean(opt_thresholds)\n",
    "    average_f1_score = np.mean(f1_scores)\n",
    "    trial.set_user_attr('average_opt_threshold', average_opt_threshold)\n",
    "    trial.set_user_attr('Recall', np.mean(recall_lis))\n",
    "    trial.set_user_attr('Precision', np.mean(precision_lis))\n",
    "    return average_f1_score\n",
    "    \n",
    "study = optuna.create_study(direction='maximize')\n",
    "study.sampler = optuna.samplers.TPESampler(multivariate=True)\n",
    "study.optimize(objective, n_trials=40)\n",
    "\n",
    "print('Number of finished trials:', len(study.trials))\n",
    "print('Best result: ', study.best_trial.value)\n",
    "print('Best trial:', study.best_trial.params)\n",
    "# To use the best parameters:\n",
    "best_params = study.best_trial.params\n",
    "best_threshold = study.best_trial.user_attrs['average_opt_threshold']\n",
    "df = study.trials_dataframe()\n",
    "# Save to a CSV file for further analysis\n",
    "df.to_csv(\"optuna_trials.csv\", index=False, mode = 'a')\n"
   ],
   "metadata": {
    "collapsed": false
   },
   "id": "8018fad01dc1b433",
   "execution_count": null
  },
  {
   "cell_type": "code",
   "outputs": [],
   "source": [
    "# extracted the best params from the CSV file\n",
    "dropout, l2, learning_rate, num_of_layers, num_of_neurons, scale_pos_weight_multiplier = 0.283041005,\t0.002680608,\t0.001094543,\t3,\t7,\t2\n",
    "best_params = {'dropout':dropout, 'l2': l2, 'learning_rate':learning_rate,'num_of_layers': num_of_layers, 'num_of_neurons':num_of_neurons, 'scale_pos_weight_multiplier':scale_pos_weight_multiplier}\n"
   ],
   "metadata": {
    "collapsed": false,
    "ExecuteTime": {
     "end_time": "2024-02-25T13:07:09.183552Z",
     "start_time": "2024-02-25T13:07:09.181068Z"
    }
   },
   "id": "8f64033385afbdf1",
   "execution_count": 60
  },
  {
   "cell_type": "code",
   "outputs": [
    {
     "name": "stdout",
     "output_type": "stream",
     "text": [
      "Epoch 1/80\n",
      "14/14 [==============================] - 2s 38ms/step - loss: 1.6828 - auc_13: 0.7891 - precision_13: 0.1732 - recall_13: 0.7985 - accuracy: 0.0000e+00 - val_loss: 1.3200 - val_auc_13: 0.8667 - val_precision_13: 0.7329 - val_recall_13: 0.2074 - val_accuracy: 0.0000e+00\n",
      "Epoch 2/80\n",
      "14/14 [==============================] - 0s 14ms/step - loss: 1.4327 - auc_13: 0.8309 - precision_13: 0.2214 - recall_13: 0.7890 - accuracy: 0.0000e+00 - val_loss: 1.1736 - val_auc_13: 0.8967 - val_precision_13: 1.0000 - val_recall_13: 0.0018 - val_accuracy: 0.0000e+00\n",
      "Epoch 3/80\n",
      "14/14 [==============================] - 0s 14ms/step - loss: 1.2921 - auc_13: 0.8573 - precision_13: 0.2602 - recall_13: 0.7892 - accuracy: 0.0000e+00 - val_loss: 1.0554 - val_auc_13: 0.9046 - val_precision_13: 0.0000e+00 - val_recall_13: 0.0000e+00 - val_accuracy: 0.0000e+00\n",
      "Epoch 4/80\n",
      "14/14 [==============================] - 0s 14ms/step - loss: 1.1743 - auc_13: 0.8742 - precision_13: 0.2984 - recall_13: 0.7870 - accuracy: 3.6499e-05 - val_loss: 0.9441 - val_auc_13: 0.9056 - val_precision_13: 0.0000e+00 - val_recall_13: 0.0000e+00 - val_accuracy: 0.0000e+00\n",
      "Epoch 5/80\n",
      "14/14 [==============================] - 0s 14ms/step - loss: 1.0848 - auc_13: 0.8840 - precision_13: 0.3346 - recall_13: 0.7744 - accuracy: 1.8250e-05 - val_loss: 0.8692 - val_auc_13: 0.9020 - val_precision_13: 0.0000e+00 - val_recall_13: 0.0000e+00 - val_accuracy: 0.0000e+00\n",
      "Epoch 6/80\n",
      "14/14 [==============================] - 0s 14ms/step - loss: 1.0035 - auc_13: 0.8930 - precision_13: 0.3617 - recall_13: 0.7635 - accuracy: 5.4749e-05 - val_loss: 0.7988 - val_auc_13: 0.9063 - val_precision_13: 0.0000e+00 - val_recall_13: 0.0000e+00 - val_accuracy: 0.0000e+00\n",
      "Epoch 7/80\n",
      "14/14 [==============================] - 0s 14ms/step - loss: 0.9227 - auc_13: 0.9062 - precision_13: 0.3890 - recall_13: 0.7770 - accuracy: 9.1248e-05 - val_loss: 0.7397 - val_auc_13: 0.9146 - val_precision_13: 0.0000e+00 - val_recall_13: 0.0000e+00 - val_accuracy: 0.0000e+00\n",
      "Epoch 8/80\n",
      "14/14 [==============================] - 0s 14ms/step - loss: 0.8510 - auc_13: 0.9172 - precision_13: 0.4233 - recall_13: 0.7813 - accuracy: 2.7374e-04 - val_loss: 0.6846 - val_auc_13: 0.9300 - val_precision_13: 0.0000e+00 - val_recall_13: 0.0000e+00 - val_accuracy: 0.0000e+00\n",
      "Epoch 9/80\n",
      "14/14 [==============================] - 0s 14ms/step - loss: 0.7871 - auc_13: 0.9271 - precision_13: 0.4590 - recall_13: 0.7872 - accuracy: 7.8473e-04 - val_loss: 0.6419 - val_auc_13: 0.9373 - val_precision_13: 0.0000e+00 - val_recall_13: 0.0000e+00 - val_accuracy: 0.0000e+00\n",
      "Epoch 10/80\n",
      "14/14 [==============================] - 0s 16ms/step - loss: 0.7361 - auc_13: 0.9334 - precision_13: 0.4818 - recall_13: 0.7859 - accuracy: 0.0010 - val_loss: 0.6074 - val_auc_13: 0.9453 - val_precision_13: 0.0000e+00 - val_recall_13: 0.0000e+00 - val_accuracy: 0.0000e+00\n",
      "Epoch 11/80\n",
      "14/14 [==============================] - 0s 17ms/step - loss: 0.6941 - auc_13: 0.9372 - precision_13: 0.5147 - recall_13: 0.7803 - accuracy: 0.0016 - val_loss: 0.5778 - val_auc_13: 0.9455 - val_precision_13: 0.0000e+00 - val_recall_13: 0.0000e+00 - val_accuracy: 0.0000e+00\n",
      "Epoch 12/80\n",
      "14/14 [==============================] - 0s 19ms/step - loss: 0.6589 - auc_13: 0.9413 - precision_13: 0.5090 - recall_13: 0.7795 - accuracy: 0.0019 - val_loss: 0.5454 - val_auc_13: 0.9450 - val_precision_13: 0.0000e+00 - val_recall_13: 0.0000e+00 - val_accuracy: 0.0000e+00\n",
      "Epoch 13/80\n",
      "14/14 [==============================] - 0s 16ms/step - loss: 0.6261 - auc_13: 0.9449 - precision_13: 0.5224 - recall_13: 0.7841 - accuracy: 0.0022 - val_loss: 0.5232 - val_auc_13: 0.9453 - val_precision_13: 0.0000e+00 - val_recall_13: 0.0000e+00 - val_accuracy: 0.0000e+00\n",
      "Epoch 14/80\n",
      "14/14 [==============================] - 0s 16ms/step - loss: 0.6032 - auc_13: 0.9452 - precision_13: 0.5335 - recall_13: 0.7764 - accuracy: 0.0028 - val_loss: 0.5018 - val_auc_13: 0.9467 - val_precision_13: 0.0000e+00 - val_recall_13: 0.0000e+00 - val_accuracy: 0.0000e+00\n",
      "Epoch 15/80\n",
      "14/14 [==============================] - 0s 16ms/step - loss: 0.5808 - auc_13: 0.9463 - precision_13: 0.5390 - recall_13: 0.7758 - accuracy: 0.0032 - val_loss: 0.4810 - val_auc_13: 0.9474 - val_precision_13: 0.0000e+00 - val_recall_13: 0.0000e+00 - val_accuracy: 0.0000e+00\n",
      "Epoch 16/80\n",
      "14/14 [==============================] - 0s 15ms/step - loss: 0.5579 - auc_13: 0.9480 - precision_13: 0.5479 - recall_13: 0.7746 - accuracy: 0.0046 - val_loss: 0.4620 - val_auc_13: 0.9490 - val_precision_13: 0.0000e+00 - val_recall_13: 0.0000e+00 - val_accuracy: 0.0000e+00\n",
      "Epoch 17/80\n",
      "14/14 [==============================] - 0s 15ms/step - loss: 0.5386 - auc_13: 0.9499 - precision_13: 0.5347 - recall_13: 0.7760 - accuracy: 0.0045 - val_loss: 0.4475 - val_auc_13: 0.9446 - val_precision_13: 0.0000e+00 - val_recall_13: 0.0000e+00 - val_accuracy: 0.0000e+00\n",
      "Epoch 18/80\n",
      "14/14 [==============================] - 0s 15ms/step - loss: 0.5194 - auc_13: 0.9507 - precision_13: 0.5642 - recall_13: 0.7748 - accuracy: 0.0072 - val_loss: 0.4330 - val_auc_13: 0.9486 - val_precision_13: 0.0000e+00 - val_recall_13: 0.0000e+00 - val_accuracy: 0.0000e+00\n",
      "Epoch 19/80\n",
      "14/14 [==============================] - 0s 15ms/step - loss: 0.5057 - auc_13: 0.9509 - precision_13: 0.5751 - recall_13: 0.7673 - accuracy: 0.0085 - val_loss: 0.4180 - val_auc_13: 0.9455 - val_precision_13: 0.0000e+00 - val_recall_13: 0.0000e+00 - val_accuracy: 0.0000e+00\n",
      "Epoch 20/80\n",
      "14/14 [==============================] - 0s 15ms/step - loss: 0.4910 - auc_13: 0.9520 - precision_13: 0.5669 - recall_13: 0.7704 - accuracy: 0.0116 - val_loss: 0.4020 - val_auc_13: 0.9498 - val_precision_13: 0.0000e+00 - val_recall_13: 0.0000e+00 - val_accuracy: 0.0000e+00\n",
      "Epoch 21/80\n",
      "14/14 [==============================] - 0s 17ms/step - loss: 0.4733 - auc_13: 0.9539 - precision_13: 0.5733 - recall_13: 0.7706 - accuracy: 0.0119 - val_loss: 0.3900 - val_auc_13: 0.9474 - val_precision_13: 0.0000e+00 - val_recall_13: 0.0000e+00 - val_accuracy: 0.0000e+00\n",
      "Epoch 22/80\n",
      "14/14 [==============================] - 0s 19ms/step - loss: 0.4569 - auc_13: 0.9560 - precision_13: 0.5693 - recall_13: 0.7843 - accuracy: 0.0149 - val_loss: 0.3858 - val_auc_13: 0.9482 - val_precision_13: 0.0000e+00 - val_recall_13: 0.0000e+00 - val_accuracy: 0.0000e+00\n",
      "Epoch 23/80\n",
      "14/14 [==============================] - 0s 20ms/step - loss: 0.4440 - auc_13: 0.9569 - precision_13: 0.5886 - recall_13: 0.7732 - accuracy: 0.0175 - val_loss: 0.3767 - val_auc_13: 0.9469 - val_precision_13: 0.0000e+00 - val_recall_13: 0.0000e+00 - val_accuracy: 0.0000e+00\n",
      "Epoch 24/80\n",
      "14/14 [==============================] - 0s 19ms/step - loss: 0.4282 - auc_13: 0.9589 - precision_13: 0.5889 - recall_13: 0.7874 - accuracy: 0.0191 - val_loss: 0.3667 - val_auc_13: 0.9451 - val_precision_13: 0.0000e+00 - val_recall_13: 0.0000e+00 - val_accuracy: 0.0000e+00\n",
      "Epoch 25/80\n",
      "14/14 [==============================] - 0s 19ms/step - loss: 0.4178 - auc_13: 0.9596 - precision_13: 0.5981 - recall_13: 0.7831 - accuracy: 0.0202 - val_loss: 0.3677 - val_auc_13: 0.9420 - val_precision_13: 0.0000e+00 - val_recall_13: 0.0000e+00 - val_accuracy: 0.0000e+00\n",
      "Epoch 26/80\n",
      "14/14 [==============================] - 0s 15ms/step - loss: 0.4058 - auc_13: 0.9609 - precision_13: 0.6113 - recall_13: 0.7764 - accuracy: 0.0212 - val_loss: 0.3550 - val_auc_13: 0.9432 - val_precision_13: 0.0000e+00 - val_recall_13: 0.0000e+00 - val_accuracy: 0.0000e+00\n",
      "Epoch 27/80\n",
      "14/14 [==============================] - 0s 15ms/step - loss: 0.3986 - auc_13: 0.9608 - precision_13: 0.6148 - recall_13: 0.7752 - accuracy: 0.0232 - val_loss: 0.3465 - val_auc_13: 0.9367 - val_precision_13: 0.0000e+00 - val_recall_13: 0.0000e+00 - val_accuracy: 0.0000e+00\n",
      "Epoch 28/80\n",
      "14/14 [==============================] - 0s 15ms/step - loss: 0.3870 - auc_13: 0.9624 - precision_13: 0.6026 - recall_13: 0.7944 - accuracy: 0.0258 - val_loss: 0.3439 - val_auc_13: 0.9364 - val_precision_13: 0.0000e+00 - val_recall_13: 0.0000e+00 - val_accuracy: 0.0000e+00\n",
      "Epoch 29/80\n",
      "14/14 [==============================] - 0s 15ms/step - loss: 0.3785 - auc_13: 0.9630 - precision_13: 0.6024 - recall_13: 0.7870 - accuracy: 0.0276 - val_loss: 0.3330 - val_auc_13: 0.9307 - val_precision_13: 0.0000e+00 - val_recall_13: 0.0000e+00 - val_accuracy: 0.0000e+00\n",
      "Epoch 30/80\n",
      "14/14 [==============================] - 0s 15ms/step - loss: 0.3673 - auc_13: 0.9650 - precision_13: 0.6124 - recall_13: 0.7930 - accuracy: 0.0278 - val_loss: 0.3243 - val_auc_13: 0.9339 - val_precision_13: 0.0000e+00 - val_recall_13: 0.0000e+00 - val_accuracy: 0.0000e+00\n",
      "Epoch 31/80\n",
      "14/14 [==============================] - 0s 15ms/step - loss: 0.3603 - auc_13: 0.9655 - precision_13: 0.6142 - recall_13: 0.7961 - accuracy: 0.0285 - val_loss: 0.3133 - val_auc_13: 0.9309 - val_precision_13: 1.0000 - val_recall_13: 0.0424 - val_accuracy: 0.0000e+00\n",
      "Epoch 32/80\n",
      "14/14 [==============================] - 0s 15ms/step - loss: 0.3578 - auc_13: 0.9648 - precision_13: 0.6145 - recall_13: 0.7930 - accuracy: 0.0296 - val_loss: 0.3057 - val_auc_13: 0.9438 - val_precision_13: 1.0000 - val_recall_13: 0.1060 - val_accuracy: 0.0000e+00\n",
      "Epoch 33/80\n",
      "14/14 [==============================] - 0s 15ms/step - loss: 0.3540 - auc_13: 0.9648 - precision_13: 0.6049 - recall_13: 0.7999 - accuracy: 0.0300 - val_loss: 0.3084 - val_auc_13: 0.9299 - val_precision_13: 1.0000 - val_recall_13: 0.1410 - val_accuracy: 0.0000e+00\n",
      "Epoch 34/80\n",
      "14/14 [==============================] - 0s 19ms/step - loss: 0.3476 - auc_13: 0.9658 - precision_13: 0.6091 - recall_13: 0.7963 - accuracy: 0.0316 - val_loss: 0.2894 - val_auc_13: 0.9316 - val_precision_13: 1.0000 - val_recall_13: 0.1355 - val_accuracy: 0.0000e+00\n",
      "Epoch 35/80\n",
      "14/14 [==============================] - 0s 19ms/step - loss: 0.3423 - auc_13: 0.9661 - precision_13: 0.6013 - recall_13: 0.8021 - accuracy: 0.0309 - val_loss: 0.2796 - val_auc_13: 0.9309 - val_precision_13: 1.0000 - val_recall_13: 0.2258 - val_accuracy: 0.0000e+00\n",
      "Epoch 36/80\n",
      "14/14 [==============================] - 0s 19ms/step - loss: 0.3369 - auc_13: 0.9670 - precision_13: 0.5951 - recall_13: 0.8060 - accuracy: 0.0325 - val_loss: 0.2686 - val_auc_13: 0.9287 - val_precision_13: 1.0000 - val_recall_13: 0.2028 - val_accuracy: 0.0000e+00\n",
      "Epoch 37/80\n",
      "14/14 [==============================] - 0s 20ms/step - loss: 0.3334 - auc_13: 0.9671 - precision_13: 0.6083 - recall_13: 0.7975 - accuracy: 0.0328 - val_loss: 0.2581 - val_auc_13: 0.9339 - val_precision_13: 1.0000 - val_recall_13: 0.2194 - val_accuracy: 0.0000e+00\n",
      "Epoch 38/80\n",
      "14/14 [==============================] - 0s 15ms/step - loss: 0.3250 - auc_13: 0.9684 - precision_13: 0.6163 - recall_13: 0.8082 - accuracy: 0.0335 - val_loss: 0.2486 - val_auc_13: 0.9383 - val_precision_13: 1.0000 - val_recall_13: 0.3051 - val_accuracy: 0.0000e+00\n",
      "Epoch 39/80\n",
      "14/14 [==============================] - 0s 16ms/step - loss: 0.3249 - auc_13: 0.9678 - precision_13: 0.6235 - recall_13: 0.7973 - accuracy: 0.0341 - val_loss: 0.2332 - val_auc_13: 0.9453 - val_precision_13: 1.0000 - val_recall_13: 0.3097 - val_accuracy: 0.0000e+00\n",
      "Epoch 40/80\n",
      "14/14 [==============================] - 0s 15ms/step - loss: 0.3213 - auc_13: 0.9680 - precision_13: 0.6163 - recall_13: 0.8044 - accuracy: 0.0342 - val_loss: 0.2211 - val_auc_13: 0.9507 - val_precision_13: 1.0000 - val_recall_13: 0.3419 - val_accuracy: 0.0000e+00\n",
      "Epoch 41/80\n",
      "14/14 [==============================] - 0s 15ms/step - loss: 0.3168 - auc_13: 0.9686 - precision_13: 0.6140 - recall_13: 0.8064 - accuracy: 0.0354 - val_loss: 0.2053 - val_auc_13: 0.9538 - val_precision_13: 1.0000 - val_recall_13: 0.3714 - val_accuracy: 0.0000e+00\n",
      "Epoch 42/80\n",
      "14/14 [==============================] - 0s 15ms/step - loss: 0.3139 - auc_13: 0.9689 - precision_13: 0.6096 - recall_13: 0.8086 - accuracy: 0.0345 - val_loss: 0.2112 - val_auc_13: 0.9437 - val_precision_13: 1.0000 - val_recall_13: 0.3650 - val_accuracy: 0.0000e+00\n",
      "Epoch 43/80\n",
      "14/14 [==============================] - 0s 16ms/step - loss: 0.3159 - auc_13: 0.9680 - precision_13: 0.6207 - recall_13: 0.8009 - accuracy: 0.0345 - val_loss: 0.2053 - val_auc_13: 0.9524 - val_precision_13: 1.0000 - val_recall_13: 0.3889 - val_accuracy: 0.0000e+00\n",
      "Epoch 44/80\n",
      "14/14 [==============================] - 0s 15ms/step - loss: 0.3115 - auc_13: 0.9686 - precision_13: 0.6322 - recall_13: 0.7991 - accuracy: 0.0357 - val_loss: 0.1919 - val_auc_13: 0.9535 - val_precision_13: 1.0000 - val_recall_13: 0.4461 - val_accuracy: 0.0000e+00\n",
      "Epoch 45/80\n",
      "14/14 [==============================] - 0s 15ms/step - loss: 0.3093 - auc_13: 0.9686 - precision_13: 0.6079 - recall_13: 0.8102 - accuracy: 0.0366 - val_loss: 0.1820 - val_auc_13: 0.9582 - val_precision_13: 1.0000 - val_recall_13: 0.4544 - val_accuracy: 4.2579e-04\n",
      "Epoch 46/80\n",
      "14/14 [==============================] - 0s 19ms/step - loss: 0.3073 - auc_13: 0.9690 - precision_13: 0.6142 - recall_13: 0.8109 - accuracy: 0.0362 - val_loss: 0.1794 - val_auc_13: 0.9585 - val_precision_13: 1.0000 - val_recall_13: 0.4848 - val_accuracy: 0.0073\n",
      "Epoch 47/80\n",
      "14/14 [==============================] - 0s 19ms/step - loss: 0.3066 - auc_13: 0.9688 - precision_13: 0.6196 - recall_13: 0.8072 - accuracy: 0.0363 - val_loss: 0.1739 - val_auc_13: 0.9604 - val_precision_13: 1.0000 - val_recall_13: 0.4710 - val_accuracy: 0.0106\n",
      "Epoch 48/80\n",
      "14/14 [==============================] - 0s 20ms/step - loss: 0.3014 - auc_13: 0.9695 - precision_13: 0.6234 - recall_13: 0.8131 - accuracy: 0.0364 - val_loss: 0.1715 - val_auc_13: 0.9590 - val_precision_13: 1.0000 - val_recall_13: 0.4728 - val_accuracy: 0.0120\n",
      "Epoch 49/80\n",
      "14/14 [==============================] - 0s 19ms/step - loss: 0.3015 - auc_13: 0.9693 - precision_13: 0.6344 - recall_13: 0.8090 - accuracy: 0.0366 - val_loss: 0.1652 - val_auc_13: 0.9624 - val_precision_13: 0.9892 - val_recall_13: 0.5060 - val_accuracy: 0.0138\n",
      "Epoch 50/80\n",
      "14/14 [==============================] - 0s 15ms/step - loss: 0.3005 - auc_13: 0.9693 - precision_13: 0.6291 - recall_13: 0.8026 - accuracy: 0.0368 - val_loss: 0.1637 - val_auc_13: 0.9617 - val_precision_13: 0.9878 - val_recall_13: 0.5235 - val_accuracy: 0.0136\n",
      "Epoch 51/80\n",
      "14/14 [==============================] - 0s 15ms/step - loss: 0.3012 - auc_13: 0.9688 - precision_13: 0.5983 - recall_13: 0.8129 - accuracy: 0.0369 - val_loss: 0.1679 - val_auc_13: 0.9599 - val_precision_13: 1.0000 - val_recall_13: 0.4811 - val_accuracy: 0.0131\n",
      "Epoch 52/80\n",
      "14/14 [==============================] - 0s 15ms/step - loss: 0.3004 - auc_13: 0.9690 - precision_13: 0.6240 - recall_13: 0.8042 - accuracy: 0.0364 - val_loss: 0.1499 - val_auc_13: 0.9675 - val_precision_13: 1.0000 - val_recall_13: 0.5843 - val_accuracy: 0.0198\n",
      "Epoch 53/80\n",
      "14/14 [==============================] - 0s 15ms/step - loss: 0.2998 - auc_13: 0.9687 - precision_13: 0.6174 - recall_13: 0.8044 - accuracy: 0.0375 - val_loss: 0.1509 - val_auc_13: 0.9643 - val_precision_13: 0.9903 - val_recall_13: 0.5668 - val_accuracy: 0.0162\n",
      "Epoch 54/80\n",
      "14/14 [==============================] - 0s 15ms/step - loss: 0.2978 - auc_13: 0.9691 - precision_13: 0.6415 - recall_13: 0.7983 - accuracy: 0.0373 - val_loss: 0.1425 - val_auc_13: 0.9662 - val_precision_13: 0.9145 - val_recall_13: 0.6111 - val_accuracy: 0.0218\n",
      "Epoch 55/80\n",
      "14/14 [==============================] - 0s 15ms/step - loss: 0.2968 - auc_13: 0.9693 - precision_13: 0.6079 - recall_13: 0.8127 - accuracy: 0.0361 - val_loss: 0.1489 - val_auc_13: 0.9658 - val_precision_13: 0.9055 - val_recall_13: 0.6184 - val_accuracy: 0.0211\n",
      "Epoch 56/80\n",
      "14/14 [==============================] - 0s 15ms/step - loss: 0.2983 - auc_13: 0.9687 - precision_13: 0.6182 - recall_13: 0.8013 - accuracy: 0.0370 - val_loss: 0.1436 - val_auc_13: 0.9651 - val_precision_13: 0.8827 - val_recall_13: 0.6101 - val_accuracy: 0.0181\n",
      "Epoch 57/80\n",
      "14/14 [==============================] - 0s 15ms/step - loss: 0.2945 - auc_13: 0.9695 - precision_13: 0.6211 - recall_13: 0.8102 - accuracy: 0.0358 - val_loss: 0.1442 - val_auc_13: 0.9669 - val_precision_13: 0.8961 - val_recall_13: 0.6359 - val_accuracy: 0.0227\n",
      "Epoch 58/80\n",
      "14/14 [==============================] - 0s 19ms/step - loss: 0.2938 - auc_13: 0.9696 - precision_13: 0.6147 - recall_13: 0.8155 - accuracy: 0.0371 - val_loss: 0.1449 - val_auc_13: 0.9644 - val_precision_13: 0.9399 - val_recall_13: 0.5908 - val_accuracy: 0.0226\n",
      "Epoch 59/80\n",
      "14/14 [==============================] - 0s 19ms/step - loss: 0.2952 - auc_13: 0.9692 - precision_13: 0.6296 - recall_13: 0.8032 - accuracy: 0.0365 - val_loss: 0.1498 - val_auc_13: 0.9664 - val_precision_13: 0.8280 - val_recall_13: 0.6654 - val_accuracy: 0.0238\n",
      "Epoch 60/80\n",
      "14/14 [==============================] - 0s 19ms/step - loss: 0.2899 - auc_13: 0.9702 - precision_13: 0.6264 - recall_13: 0.8113 - accuracy: 0.0368 - val_loss: 0.1511 - val_auc_13: 0.9675 - val_precision_13: 0.8013 - val_recall_13: 0.6912 - val_accuracy: 0.0284\n",
      "Epoch 61/80\n",
      "14/14 [==============================] - 0s 19ms/step - loss: 0.2936 - auc_13: 0.9693 - precision_13: 0.6089 - recall_13: 0.8121 - accuracy: 0.0373 - val_loss: 0.1513 - val_auc_13: 0.9665 - val_precision_13: 0.8419 - val_recall_13: 0.6627 - val_accuracy: 0.0283\n",
      "Epoch 62/80\n",
      "14/14 [==============================] - 0s 15ms/step - loss: 0.2910 - auc_13: 0.9698 - precision_13: 0.6186 - recall_13: 0.8153 - accuracy: 0.0369 - val_loss: 0.1507 - val_auc_13: 0.9696 - val_precision_13: 0.8095 - val_recall_13: 0.7051 - val_accuracy: 0.0288\n",
      "Epoch 63/80\n",
      "14/14 [==============================] - 0s 15ms/step - loss: 0.2883 - auc_13: 0.9702 - precision_13: 0.6357 - recall_13: 0.8070 - accuracy: 0.0373 - val_loss: 0.1538 - val_auc_13: 0.9688 - val_precision_13: 0.7773 - val_recall_13: 0.7272 - val_accuracy: 0.0280\n",
      "Epoch 64/80\n",
      "14/14 [==============================] - 0s 15ms/step - loss: 0.2898 - auc_13: 0.9698 - precision_13: 0.6178 - recall_13: 0.8100 - accuracy: 0.0381 - val_loss: 0.1437 - val_auc_13: 0.9684 - val_precision_13: 0.7781 - val_recall_13: 0.7207 - val_accuracy: 0.0273\n",
      "Epoch 65/80\n",
      "14/14 [==============================] - 0s 15ms/step - loss: 0.2885 - auc_13: 0.9698 - precision_13: 0.6116 - recall_13: 0.8131 - accuracy: 0.0373 - val_loss: 0.1483 - val_auc_13: 0.9643 - val_precision_13: 0.8660 - val_recall_13: 0.6553 - val_accuracy: 0.0286\n",
      "Epoch 66/80\n",
      "14/14 [==============================] - 0s 15ms/step - loss: 0.2920 - auc_13: 0.9694 - precision_13: 0.6356 - recall_13: 0.7999 - accuracy: 0.0362 - val_loss: 0.1501 - val_auc_13: 0.9668 - val_precision_13: 0.7919 - val_recall_13: 0.7014 - val_accuracy: 0.0294\n",
      "Epoch 67/80\n",
      "14/14 [==============================] - 0s 15ms/step - loss: 0.2899 - auc_13: 0.9694 - precision_13: 0.6233 - recall_13: 0.8023 - accuracy: 0.0364 - val_loss: 0.1436 - val_auc_13: 0.9726 - val_precision_13: 0.7337 - val_recall_13: 0.7696 - val_accuracy: 0.0349\n",
      "Epoch 68/80\n",
      "14/14 [==============================] - 0s 15ms/step - loss: 0.2883 - auc_13: 0.9698 - precision_13: 0.6333 - recall_13: 0.8123 - accuracy: 0.0373 - val_loss: 0.1431 - val_auc_13: 0.9710 - val_precision_13: 0.7560 - val_recall_13: 0.7567 - val_accuracy: 0.0318\n",
      "Epoch 69/80\n",
      "14/14 [==============================] - 0s 15ms/step - loss: 0.2869 - auc_13: 0.9701 - precision_13: 0.6251 - recall_13: 0.8117 - accuracy: 0.0365 - val_loss: 0.1363 - val_auc_13: 0.9697 - val_precision_13: 0.8468 - val_recall_13: 0.6931 - val_accuracy: 0.0326\n",
      "Epoch 70/80\n",
      "14/14 [==============================] - 0s 18ms/step - loss: 0.2856 - auc_13: 0.9702 - precision_13: 0.6447 - recall_13: 0.8034 - accuracy: 0.0372 - val_loss: 0.1460 - val_auc_13: 0.9722 - val_precision_13: 0.7188 - val_recall_13: 0.7751 - val_accuracy: 0.0382\n",
      "Epoch 71/80\n",
      "14/14 [==============================] - 0s 20ms/step - loss: 0.2850 - auc_13: 0.9703 - precision_13: 0.6354 - recall_13: 0.8076 - accuracy: 0.0378 - val_loss: 0.1399 - val_auc_13: 0.9729 - val_precision_13: 0.7664 - val_recall_13: 0.7558 - val_accuracy: 0.0342\n",
      "Epoch 72/80\n",
      "14/14 [==============================] - 0s 20ms/step - loss: 0.2873 - auc_13: 0.9699 - precision_13: 0.6145 - recall_13: 0.8135 - accuracy: 0.0377 - val_loss: 0.1409 - val_auc_13: 0.9696 - val_precision_13: 0.8486 - val_recall_13: 0.6820 - val_accuracy: 0.0330\n",
      "Epoch 73/80\n",
      "14/14 [==============================] - 0s 20ms/step - loss: 0.2900 - auc_13: 0.9692 - precision_13: 0.6217 - recall_13: 0.8046 - accuracy: 0.0376 - val_loss: 0.1364 - val_auc_13: 0.9681 - val_precision_13: 0.8259 - val_recall_13: 0.7171 - val_accuracy: 0.0346\n",
      "Epoch 74/80\n",
      "14/14 [==============================] - 0s 16ms/step - loss: 0.2894 - auc_13: 0.9691 - precision_13: 0.6337 - recall_13: 0.8032 - accuracy: 0.0381 - val_loss: 0.1325 - val_auc_13: 0.9694 - val_precision_13: 0.7931 - val_recall_13: 0.7456 - val_accuracy: 0.0380\n",
      "Epoch 75/80\n",
      "14/14 [==============================] - 0s 16ms/step - loss: 0.2846 - auc_13: 0.9703 - precision_13: 0.6219 - recall_13: 0.8139 - accuracy: 0.0380 - val_loss: 0.1543 - val_auc_13: 0.9730 - val_precision_13: 0.7273 - val_recall_13: 0.7816 - val_accuracy: 0.0359\n",
      "Epoch 76/80\n",
      "14/14 [==============================] - 0s 16ms/step - loss: 0.2862 - auc_13: 0.9699 - precision_13: 0.6316 - recall_13: 0.8090 - accuracy: 0.0387 - val_loss: 0.1516 - val_auc_13: 0.9717 - val_precision_13: 0.7516 - val_recall_13: 0.7641 - val_accuracy: 0.0341\n",
      "Epoch 77/80\n",
      "14/14 [==============================] - 0s 16ms/step - loss: 0.2853 - auc_13: 0.9699 - precision_13: 0.6349 - recall_13: 0.8072 - accuracy: 0.0381 - val_loss: 0.1425 - val_auc_13: 0.9717 - val_precision_13: 0.8462 - val_recall_13: 0.7097 - val_accuracy: 0.0341\n",
      "Epoch 78/80\n",
      "14/14 [==============================] - 0s 16ms/step - loss: 0.2849 - auc_13: 0.9699 - precision_13: 0.6322 - recall_13: 0.8026 - accuracy: 0.0383 - val_loss: 0.1322 - val_auc_13: 0.9725 - val_precision_13: 0.7924 - val_recall_13: 0.7456 - val_accuracy: 0.0352\n",
      "Epoch 79/80\n",
      "14/14 [==============================] - 0s 16ms/step - loss: 0.2835 - auc_13: 0.9700 - precision_13: 0.6342 - recall_13: 0.8046 - accuracy: 0.0376 - val_loss: 0.1483 - val_auc_13: 0.9719 - val_precision_13: 0.7044 - val_recall_13: 0.7908 - val_accuracy: 0.0355\n",
      "Epoch 80/80\n",
      "14/14 [==============================] - 0s 16ms/step - loss: 0.2827 - auc_13: 0.9703 - precision_13: 0.6406 - recall_13: 0.8066 - accuracy: 0.0383 - val_loss: 0.1517 - val_auc_13: 0.9667 - val_precision_13: 0.7318 - val_recall_13: 0.7594 - val_accuracy: 0.0341\n"
     ]
    },
    {
     "data": {
      "text/plain": "<keras.src.callbacks.History at 0x7f10b677db40>"
     },
     "execution_count": 75,
     "metadata": {},
     "output_type": "execute_result"
    }
   ],
   "source": [
    "model = DiabetesClassifier(X_train_scaled.shape[1], num_of_dense_layers =best_params['num_of_layers'], dense_number = 2 ** best_params['num_of_neurons'], dropout = best_params['dropout'], l2 = best_params['l2'])\n",
    "tensorboard = keras.callbacks.TensorBoard(log_dir='logs')\n",
    "optimizer = keras.optimizers.Adam(learning_rate = best_params['learning_rate'])\n",
    "model.compile(optimizer = optimizer, loss = 'binary_crossentropy', metrics = [metrics.AUC(), metrics.Precision(), metrics.Recall(), metrics.Accuracy()])\n",
    "model.fit(X_train_scaled, y_train, validation_data = (X_val_scaled, y_val), batch_size =4092, epochs = 80, class_weight = {1: scale_pos_weight/best_params['scale_pos_weight_multiplier'], 0: 1}, callbacks = [tensorboard])"
   ],
   "metadata": {
    "collapsed": false,
    "ExecuteTime": {
     "end_time": "2024-02-25T13:11:31.848418Z",
     "start_time": "2024-02-25T13:11:11.768488Z"
    }
   },
   "id": "f70db62ec72a909c",
   "execution_count": 75
  },
  {
   "cell_type": "code",
   "outputs": [
    {
     "name": "stdout",
     "output_type": "stream",
     "text": [
      "416/416 [==============================] - 1s 2ms/step\n",
      "416/416 [==============================] - 1s 2ms/step\n",
      "416/416 [==============================] - 1s 2ms/step\n",
      "416/416 [==============================] - 1s 2ms/step\n",
      "416/416 [==============================] - 1s 2ms/step\n",
      "Fold 1: Optimal threshold: 0.5391228199005127, F1 Score: 0.7596661028649636\n",
      "Fold 2: Optimal threshold: 0.5223883390426636, F1 Score: 0.7383446393231858\n",
      "Fold 3: Optimal threshold: 0.5060943961143494, F1 Score: 0.7415705021453342\n",
      "Fold 4: Optimal threshold: 0.5399326086044312, F1 Score: 0.7735631880635606\n",
      "Fold 5: Optimal threshold: 0.5187482833862305, F1 Score: 0.7567127746135069\n",
      "Average Optimal Threshold: 0.5252572894096375, Average F1 Score: 0.7539714414021101\n"
     ]
    }
   ],
   "source": [
    "from sklearn.model_selection import StratifiedKFold\n",
    "from sklearn.metrics import precision_recall_curve\n",
    "n_splits = 5  # Number of folds for StratifiedKFold\n",
    "beta= 1.45\n",
    "cv = StratifiedKFold(n_splits=n_splits, shuffle=True, random_state=42)\n",
    "\n",
    "opt_thresholds = []\n",
    "f1_scores = []\n",
    "\n",
    "for train_index, val_index in cv.split(combined_X_train, combined_y_train):\n",
    "    # Split data into training and validation for the current fold\n",
    "    X_train_curr, X_val_curr = combined_X_train[train_index], combined_X_train[val_index]\n",
    "    y_train_curr, y_val_curr = combined_y_train[train_index], combined_y_train[val_index]\n",
    "\n",
    "    # Predict probabilities for the positive class on the validation data\n",
    "    y_pred_prob = model.predict(X_val_curr).ravel()\n",
    "\n",
    "    # Compute precision-recall curve\n",
    "    precision, recall, thresholds = precision_recall_curve(y_val_curr, y_pred_prob)\n",
    "\n",
    "    # Calculate F1 scores for each threshold\n",
    "    # f1_scores_fold = [2 * (p * r) / (p + r) if (p + r) > 0 else 0 for p, r in zip(precision, recall)]\n",
    "    f1_scores_fold = [(1 + beta**2) * (prec * rec) / ((beta**2 * prec) + rec) for prec, rec in zip(precision, recall)]\n",
    "\n",
    "    # Find the index of the maximum F1 score\n",
    "    opt_idx = np.argmax(f1_scores_fold)\n",
    "    opt_threshold = thresholds[opt_idx] if opt_idx < len(thresholds) else 1.0\n",
    "\n",
    "    # Store the optimal threshold for this fold\n",
    "    opt_thresholds.append(opt_threshold)\n",
    "    f1_scores.append(f1_scores_fold[opt_idx])\n",
    "\n",
    "# Optionally, you can print or analyze the optimal thresholds and F1 scores for each fold\n",
    "for i, (threshold, f1_score) in enumerate(zip(opt_thresholds, f1_scores)):\n",
    "    print(f\"Fold {i+1}: Optimal threshold: {threshold}, F1 Score: {f1_score}\")\n",
    "\n",
    "# You might also calculate and print the average optimal threshold and F1 score across folds if desired\n",
    "average_opt_threshold = np.mean(opt_thresholds)\n",
    "average_f1_score = np.mean(f1_scores)\n",
    "print(f\"Average Optimal Threshold: {average_opt_threshold}, Average F1 Score: {average_f1_score}\")"
   ],
   "metadata": {
    "collapsed": false,
    "ExecuteTime": {
     "end_time": "2024-02-25T13:11:36.829380Z",
     "start_time": "2024-02-25T13:11:31.849596Z"
    }
   },
   "id": "b31a75cd65f0506b",
   "execution_count": 76
  },
  {
   "cell_type": "code",
   "outputs": [
    {
     "name": "stdout",
     "output_type": "stream",
     "text": [
      "367/367 [==============================] - 1s 2ms/step\n",
      "              precision    recall  f1-score   support\n",
      "\n",
      "           0       0.97      0.98      0.98     10658\n",
      "           1       0.77      0.75      0.76      1085\n",
      "\n",
      "    accuracy                           0.96     11743\n",
      "   macro avg       0.87      0.86      0.87     11743\n",
      "weighted avg       0.96      0.96      0.96     11743\n",
      "367/367 [==============================] - 1s 2ms/step\n",
      "              precision    recall  f1-score   support\n",
      "\n",
      "           0       0.97      0.97      0.97     10658\n",
      "           1       0.74      0.73      0.74      1084\n",
      "\n",
      "    accuracy                           0.95     11742\n",
      "   macro avg       0.86      0.85      0.85     11742\n",
      "weighted avg       0.95      0.95      0.95     11742\n"
     ]
    }
   ],
   "source": [
    "y_pred_prob = (model.predict(X_val_scaled) > average_opt_threshold).astype(int)\n",
    "print(classification_report(y_val, y_pred_prob))\n",
    "y_pred_prob = (model.predict(X_test_scaled).ravel() >= average_opt_threshold).astype(int)\n",
    "print(classification_report(y_test, y_pred_prob))"
   ],
   "metadata": {
    "collapsed": false,
    "ExecuteTime": {
     "end_time": "2024-02-25T13:11:38.416446Z",
     "start_time": "2024-02-25T13:11:36.830387Z"
    }
   },
   "id": "21db19c29c0ecab8",
   "execution_count": 77
  },
  {
   "cell_type": "code",
   "outputs": [
    {
     "name": "stdout",
     "output_type": "stream",
     "text": [
      "INFO:tensorflow:Assets written to: model/assets\n"
     ]
    },
    {
     "name": "stderr",
     "output_type": "stream",
     "text": [
      "INFO:tensorflow:Assets written to: model/assets\n"
     ]
    }
   ],
   "source": [
    "model.save('model')"
   ],
   "metadata": {
    "collapsed": false,
    "ExecuteTime": {
     "end_time": "2024-02-23T00:15:55.584037Z",
     "start_time": "2024-02-23T00:15:54.697064Z"
    }
   },
   "id": "cdbf591c6ded3d29",
   "execution_count": 16
  },
  {
   "cell_type": "code",
   "outputs": [
    {
     "name": "stdout",
     "output_type": "stream",
     "text": [
      "INFO:tensorflow:Assets written to: /tmp/tmpf4066eal/assets\n"
     ]
    },
    {
     "name": "stderr",
     "output_type": "stream",
     "text": [
      "INFO:tensorflow:Assets written to: /tmp/tmpf4066eal/assets\n",
      "2024-02-23 02:15:57.231097: W tensorflow/compiler/mlir/lite/python/tf_tfl_flatbuffer_helpers.cc:378] Ignored output_format.\n",
      "2024-02-23 02:15:57.231125: W tensorflow/compiler/mlir/lite/python/tf_tfl_flatbuffer_helpers.cc:381] Ignored drop_control_dependency.\n",
      "2024-02-23 02:15:57.231388: I tensorflow/cc/saved_model/reader.cc:83] Reading SavedModel from: /tmp/tmpf4066eal\n",
      "2024-02-23 02:15:57.232453: I tensorflow/cc/saved_model/reader.cc:51] Reading meta graph with tags { serve }\n",
      "2024-02-23 02:15:57.232461: I tensorflow/cc/saved_model/reader.cc:146] Reading SavedModel debug info (if present) from: /tmp/tmpf4066eal\n",
      "2024-02-23 02:15:57.235180: I tensorflow/compiler/mlir/mlir_graph_optimization_pass.cc:388] MLIR V1 optimization pass is not enabled\n",
      "2024-02-23 02:15:57.236013: I tensorflow/cc/saved_model/loader.cc:233] Restoring SavedModel bundle.\n",
      "2024-02-23 02:15:57.258547: I tensorflow/cc/saved_model/loader.cc:217] Running initialization op on SavedModel bundle at path: /tmp/tmpf4066eal\n",
      "2024-02-23 02:15:57.266933: I tensorflow/cc/saved_model/loader.cc:316] SavedModel load for tags { serve }; Status: success: OK. Took 35532 microseconds.\n",
      "Summary on the non-converted ops:\n",
      "---------------------------------\n",
      " * Accepted dialects: tfl, builtin, func\n",
      " * Non-Converted Ops: 7, Total Ops 19, % non-converted = 36.84 %\n",
      " * 7 ARITH ops\n",
      "\n",
      "- arith.constant:    7 occurrences  (f32: 7)\n",
      "\n",
      "\n",
      "\n",
      "  (f32: 5)\n",
      "  (f32: 1)\n",
      "  (uq_8: 3)\n"
     ]
    }
   ],
   "source": [
    "# Create a converter object\n",
    "ae = tf.keras.models.load_model('model')\n",
    "converter = tf.lite.TFLiteConverter.from_keras_model(ae)\n",
    "converter.target_spec.supported_ops = [\n",
    "    tf.lite.OpsSet.TFLITE_BUILTINS,  # Enable TensorFlow Lite ops.\n",
    "    tf.lite.OpsSet.SELECT_TF_OPS  # Enable TensorFlow ops.\n",
    "]\n",
    "# This example enables dynamic range quantization\n",
    "converter.allow_custom_ops = True  # Allow for the possibility of custom operations\n",
    "\n",
    "# Enable verbose logging\n",
    "converter.experimental_new_converter = True\n",
    "converter.optimizations = [tf.lite.Optimize.DEFAULT]\n",
    "\n",
    "\n",
    "# Perform the conversion\n",
    "tflite_model = converter.convert()\n",
    "# Replace 'converted_model.tflite' with the desired path for your .tflite model\n",
    "with open('converted_model.tflite', 'wb') as f:\n",
    "    f.write(tflite_model)\n"
   ],
   "metadata": {
    "collapsed": false,
    "ExecuteTime": {
     "end_time": "2024-02-23T00:15:57.362840Z",
     "start_time": "2024-02-23T00:15:55.585272Z"
    }
   },
   "id": "72feffd99f6b7a07",
   "execution_count": 17
  }
 ],
 "metadata": {
  "kernelspec": {
   "display_name": "Python 3",
   "language": "python",
   "name": "python3"
  },
  "language_info": {
   "codemirror_mode": {
    "name": "ipython",
    "version": 2
   },
   "file_extension": ".py",
   "mimetype": "text/x-python",
   "name": "python",
   "nbconvert_exporter": "python",
   "pygments_lexer": "ipython2",
   "version": "2.7.6"
  }
 },
 "nbformat": 4,
 "nbformat_minor": 5
}
