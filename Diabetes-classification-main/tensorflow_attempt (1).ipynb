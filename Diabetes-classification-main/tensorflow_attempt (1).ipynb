{
 "cells": [
  {
   "cell_type": "code",
   "execution_count": 1,
   "id": "initial_id",
   "metadata": {
    "collapsed": true,
    "ExecuteTime": {
     "end_time": "2024-02-21T00:49:52.262678Z",
     "start_time": "2024-02-21T00:49:50.794295Z"
    }
   },
   "outputs": [
    {
     "name": "stderr",
     "output_type": "stream",
     "text": [
      "2024-02-21 02:49:51.015910: E external/local_xla/xla/stream_executor/cuda/cuda_dnn.cc:9261] Unable to register cuDNN factory: Attempting to register factory for plugin cuDNN when one has already been registered\n",
      "2024-02-21 02:49:51.015954: E external/local_xla/xla/stream_executor/cuda/cuda_fft.cc:607] Unable to register cuFFT factory: Attempting to register factory for plugin cuFFT when one has already been registered\n",
      "2024-02-21 02:49:51.016473: E external/local_xla/xla/stream_executor/cuda/cuda_blas.cc:1515] Unable to register cuBLAS factory: Attempting to register factory for plugin cuBLAS when one has already been registered\n",
      "2024-02-21 02:49:51.019701: I tensorflow/core/platform/cpu_feature_guard.cc:182] This TensorFlow binary is optimized to use available CPU instructions in performance-critical operations.\n",
      "To enable the following instructions: AVX2 FMA, in other operations, rebuild TensorFlow with the appropriate compiler flags.\n",
      "2024-02-21 02:49:51.495955: W tensorflow/compiler/tf2tensorrt/utils/py_utils.cc:38] TF-TRT Warning: Could not find TensorRT\n"
     ]
    },
    {
     "name": "stdout",
     "output_type": "stream",
     "text": [
      "1 Physical GPUs, 1 Logical GPUs\n"
     ]
    },
    {
     "name": "stderr",
     "output_type": "stream",
     "text": [
      "2024-02-21 02:49:52.116941: I external/local_xla/xla/stream_executor/cuda/cuda_executor.cc:887] could not open file to read NUMA node: /sys/bus/pci/devices/0000:01:00.0/numa_node\n",
      "Your kernel may have been built without NUMA support.\n",
      "2024-02-21 02:49:52.141826: I external/local_xla/xla/stream_executor/cuda/cuda_executor.cc:887] could not open file to read NUMA node: /sys/bus/pci/devices/0000:01:00.0/numa_node\n",
      "Your kernel may have been built without NUMA support.\n",
      "2024-02-21 02:49:52.141878: I external/local_xla/xla/stream_executor/cuda/cuda_executor.cc:887] could not open file to read NUMA node: /sys/bus/pci/devices/0000:01:00.0/numa_node\n",
      "Your kernel may have been built without NUMA support.\n",
      "2024-02-21 02:49:52.145105: I external/local_xla/xla/stream_executor/cuda/cuda_executor.cc:887] could not open file to read NUMA node: /sys/bus/pci/devices/0000:01:00.0/numa_node\n",
      "Your kernel may have been built without NUMA support.\n",
      "2024-02-21 02:49:52.145149: I external/local_xla/xla/stream_executor/cuda/cuda_executor.cc:887] could not open file to read NUMA node: /sys/bus/pci/devices/0000:01:00.0/numa_node\n",
      "Your kernel may have been built without NUMA support.\n",
      "2024-02-21 02:49:52.145169: I external/local_xla/xla/stream_executor/cuda/cuda_executor.cc:887] could not open file to read NUMA node: /sys/bus/pci/devices/0000:01:00.0/numa_node\n",
      "Your kernel may have been built without NUMA support.\n",
      "2024-02-21 02:49:52.258367: I external/local_xla/xla/stream_executor/cuda/cuda_executor.cc:887] could not open file to read NUMA node: /sys/bus/pci/devices/0000:01:00.0/numa_node\n",
      "Your kernel may have been built without NUMA support.\n",
      "2024-02-21 02:49:52.258407: I external/local_xla/xla/stream_executor/cuda/cuda_executor.cc:887] could not open file to read NUMA node: /sys/bus/pci/devices/0000:01:00.0/numa_node\n",
      "Your kernel may have been built without NUMA support.\n",
      "2024-02-21 02:49:52.258414: I tensorflow/core/common_runtime/gpu/gpu_device.cc:2022] Could not identify NUMA node of platform GPU id 0, defaulting to 0.  Your kernel may not have been built with NUMA support.\n",
      "2024-02-21 02:49:52.258436: I external/local_xla/xla/stream_executor/cuda/cuda_executor.cc:887] could not open file to read NUMA node: /sys/bus/pci/devices/0000:01:00.0/numa_node\n",
      "Your kernel may have been built without NUMA support.\n",
      "2024-02-21 02:49:52.258450: I tensorflow/core/common_runtime/gpu/gpu_device.cc:1929] Created device /job:localhost/replica:0/task:0/device:GPU:0 with 21770 MB memory:  -> device: 0, name: NVIDIA GeForce RTX 3090, pci bus id: 0000:01:00.0, compute capability: 8.6\n"
     ]
    }
   ],
   "source": [
    "import tensorflow as tf\n",
    "\n",
    "gpus = tf.config.experimental.list_physical_devices('GPU')\n",
    "if gpus:\n",
    "    try:\n",
    "        # Currently, memory growth needs to be the same across GPUs\n",
    "        for gpu in gpus:\n",
    "            tf.config.experimental.set_memory_growth(gpu, True)\n",
    "        logical_gpus = tf.config.experimental.list_logical_devices('GPU')\n",
    "        print(f\"{len(gpus)} Physical GPUs, {len(logical_gpus)} Logical GPUs\")\n",
    "    except RuntimeError as e:\n",
    "        # Memory growth must be set before GPUs have been initialized\n",
    "        print(e)\n"
   ]
  },
  {
   "cell_type": "code",
   "outputs": [],
   "source": [
    "import pandas as pd\n",
    "import numpy as np\n",
    "from sklearn.metrics import classification_report, accuracy_score, confusion_matrix\n",
    "from sklearn.model_selection import train_test_split\n",
    "from sklearn.preprocessing import MinMaxScaler\n",
    "from sklearn.ensemble import RandomForestClassifier\n",
    "import xgboost as xgb\n",
    "from sklearn.model_selection import RandomizedSearchCV\n",
    "from scipy.stats import randint, uniform\n",
    "\n",
    "df = pd.read_csv('diabetes_prediction_dataset.csv')\n",
    "df = df[df['age']>=18]\n",
    "df = df[df['bmi']<=40]\n",
    "#Preprocess the data\n",
    "numeric_col=[]\n",
    "non_numeric_col=[]\n",
    "for column in df.columns:\n",
    "    if pd.api.types.is_numeric_dtype(df[column]):\n",
    "        if(df[column].nunique()<5):\n",
    "            non_numeric_col.append(column)\n",
    "        else:\n",
    "            numeric_col.append(column)\n",
    "    else:\n",
    "        non_numeric_col.append(column)\n",
    "from sklearn.preprocessing import LabelEncoder\n",
    "le=LabelEncoder()\n",
    "df['smoking_history'] = df['smoking_history'].replace({'not current':'former','ever':'never'})\n",
    "df_copy = df.copy()\n",
    "for col in non_numeric_col:\n",
    "    df[col]=le.fit_transform(df[col])\n",
    "\n"
   ],
   "metadata": {
    "collapsed": false,
    "ExecuteTime": {
     "end_time": "2024-02-21T00:49:52.502915Z",
     "start_time": "2024-02-21T00:49:52.263840Z"
    }
   },
   "id": "55cb0f1640d0e79f",
   "execution_count": 2
  },
  {
   "cell_type": "code",
   "outputs": [],
   "source": [
    "y = df['diabetes']\n",
    "X = df.drop('diabetes', axis = 1)"
   ],
   "metadata": {
    "collapsed": false,
    "ExecuteTime": {
     "end_time": "2024-02-21T00:49:52.672118Z",
     "start_time": "2024-02-21T00:49:52.668250Z"
    }
   },
   "id": "cee8173b7a65bc95",
   "execution_count": 3
  },
  {
   "cell_type": "code",
   "outputs": [],
   "source": [
    "scale_pos_weight = y.value_counts()[0] /  y.value_counts()[1]"
   ],
   "metadata": {
    "collapsed": false,
    "ExecuteTime": {
     "end_time": "2024-02-21T00:49:53.187734Z",
     "start_time": "2024-02-21T00:49:53.184232Z"
    }
   },
   "id": "f0788172b85a6fa3",
   "execution_count": 4
  },
  {
   "cell_type": "code",
   "outputs": [],
   "source": [
    "#Normalize the data\n",
    "scaler = MinMaxScaler()\n",
    "X_train, X_test, y_train, y_test = train_test_split(X, y, test_size = 0.3, stratify = y)\n",
    "X_test, X_val, y_test, y_val = train_test_split(X_test, y_test, test_size = 0.5, stratify = y_test)\n",
    "X_train_scaled = scaler.fit_transform(X_train)\n",
    "X_test_scaled = scaler.transform(X_test)\n",
    "X_val_scaled = scaler.transform(X_val)\n",
    "combined_X_train = np.concatenate((X_train_scaled,X_val_scaled), axis = 0)\n",
    "combined_y_train = np.concatenate((y_train,y_val), axis = 0)"
   ],
   "metadata": {
    "collapsed": false,
    "ExecuteTime": {
     "end_time": "2024-02-21T00:49:53.960986Z",
     "start_time": "2024-02-21T00:49:53.922788Z"
    }
   },
   "id": "ae2d8dbae1b8ff36",
   "execution_count": 5
  },
  {
   "cell_type": "code",
   "outputs": [],
   "source": [
    "from imblearn.over_sampling import SMOTE\n",
    "smote = SMOTE(random_state=42)\n",
    "X_train_scaled, y_train = smote.fit_resample(X_train_scaled, y_train)"
   ],
   "metadata": {
    "collapsed": false,
    "ExecuteTime": {
     "end_time": "2024-02-21T00:49:55.095202Z",
     "start_time": "2024-02-21T00:49:55.008937Z"
    }
   },
   "id": "39b34a245d8d6829",
   "execution_count": 6
  },
  {
   "cell_type": "code",
   "outputs": [
    {
     "name": "stdout",
     "output_type": "stream",
     "text": [
      "(66539, 8)\n"
     ]
    }
   ],
   "source": [
    "print(combined_X_train.shape)"
   ],
   "metadata": {
    "collapsed": false,
    "ExecuteTime": {
     "end_time": "2024-02-21T00:49:55.775204Z",
     "start_time": "2024-02-21T00:49:55.772741Z"
    }
   },
   "id": "8270ef52602d7056",
   "execution_count": 7
  },
  {
   "cell_type": "code",
   "outputs": [],
   "source": [
    "from keras.models import Model\n",
    "from keras.layers import Dense, BatchNormalization, Dropout, Input\n",
    "from keras.saving import register_keras_serializable\n",
    "\n",
    "@register_keras_serializable()\n",
    "class DiabetesClassifier(Model):\n",
    "    def __init__(self, data_input, num_of_dense_layers = 3, dense_number = 8, dropout = 0, l2 = 0.001, opt_threshold = 0):\n",
    "        super(DiabetesClassifier, self).__init__()\n",
    "        self.opt_threshold = opt_threshold\n",
    "        self.num_of_dense_layers = num_of_dense_layers\n",
    "        self.dense_number = dense_number\n",
    "        self.dropout = dropout\n",
    "        self.data_input = data_input\n",
    "        self.l2 = l2\n",
    "        self.model = self.build_model()\n",
    "    \n",
    "    def call(self, inputs):\n",
    "        return self.model(inputs)\n",
    "    \n",
    "    def build_model(self):\n",
    "        inp = Input(shape = self.data_input)\n",
    "        reg = keras.regularizers.l2(self.l2)\n",
    "        x = Dense(self.data_input, activation = 'relu', kernel_regularizer=reg)(inp)\n",
    "        for i in range(self.num_of_dense_layers):\n",
    "            x = Dense(units = self.dense_number, activation = 'relu', kernel_regularizer=reg)(x)\n",
    "            x = BatchNormalization()(x)\n",
    "            x = Dropout(self.dropout)(x)\n",
    "        output = Dense(units =1, activation = 'sigmoid')(x)\n",
    "        model = Model(inputs = inp, outputs = output)\n",
    "        return model"
   ],
   "metadata": {
    "collapsed": false,
    "ExecuteTime": {
     "end_time": "2024-02-21T00:49:58.936515Z",
     "start_time": "2024-02-21T00:49:58.930648Z"
    }
   },
   "id": "6823cc7e6d4ac4fe",
   "execution_count": 8
  },
  {
   "cell_type": "code",
   "outputs": [],
   "source": [
    "from keras import metrics\n",
    "import keras"
   ],
   "metadata": {
    "collapsed": false,
    "ExecuteTime": {
     "end_time": "2024-02-21T00:50:01.371Z",
     "start_time": "2024-02-21T00:50:01.367742Z"
    }
   },
   "id": "e818d4e5dcd36b77",
   "execution_count": 9
  },
  {
   "cell_type": "code",
   "outputs": [
    {
     "name": "stdout",
     "output_type": "stream",
     "text": [
      "Epoch 1/20\n",
      "3109/3109 [==============================] - 64s 20ms/step - loss: 1.3005 - auc_2: 0.8605 - precision_2: 0.6198 - recall_2: 0.9667 - accuracy: 1.0053e-05 - val_loss: 0.9896 - val_auc_2: 0.9514 - val_precision_2: 0.1836 - val_recall_2: 0.9954 - val_accuracy: 0.0000e+00\n",
      "Epoch 2/20\n",
      "3109/3109 [==============================] - 59s 19ms/step - loss: 0.8791 - auc_2: 0.9309 - precision_2: 0.6835 - recall_2: 0.9898 - accuracy: 2.0107e-05 - val_loss: 0.8389 - val_auc_2: 0.9546 - val_precision_2: 0.1934 - val_recall_2: 0.9991 - val_accuracy: 0.0000e+00\n",
      "Epoch 3/20\n",
      "3109/3109 [==============================] - 62s 20ms/step - loss: 0.7988 - auc_2: 0.9382 - precision_2: 0.7069 - recall_2: 0.9919 - accuracy: 0.0000e+00 - val_loss: 0.9485 - val_auc_2: 0.9582 - val_precision_2: 0.1931 - val_recall_2: 1.0000 - val_accuracy: 0.0000e+00\n",
      "Epoch 4/20\n",
      "3109/3109 [==============================] - 63s 20ms/step - loss: 0.7603 - auc_2: 0.9420 - precision_2: 0.7142 - recall_2: 0.9926 - accuracy: 0.0000e+00 - val_loss: 0.5805 - val_auc_2: 0.9576 - val_precision_2: 0.2452 - val_recall_2: 0.9797 - val_accuracy: 0.0000e+00\n",
      "Epoch 5/20\n",
      "3109/3109 [==============================] - 62s 20ms/step - loss: 0.7289 - auc_2: 0.9443 - precision_2: 0.7173 - recall_2: 0.9939 - accuracy: 7.0374e-05 - val_loss: 0.7862 - val_auc_2: 0.9622 - val_precision_2: 0.1980 - val_recall_2: 1.0000 - val_accuracy: 0.0000e+00\n",
      "Epoch 6/20\n",
      "3109/3109 [==============================] - 62s 20ms/step - loss: 0.7048 - auc_2: 0.9467 - precision_2: 0.7201 - recall_2: 0.9951 - accuracy: 4.3230e-04 - val_loss: 0.8543 - val_auc_2: 0.9628 - val_precision_2: 0.1959 - val_recall_2: 1.0000 - val_accuracy: 0.0000e+00\n",
      "Epoch 7/20\n",
      "3109/3109 [==============================] - 62s 20ms/step - loss: 0.6963 - auc_2: 0.9478 - precision_2: 0.7194 - recall_2: 0.9950 - accuracy: 5.3283e-04 - val_loss: 0.7931 - val_auc_2: 0.9645 - val_precision_2: 0.1997 - val_recall_2: 1.0000 - val_accuracy: 0.0000e+00\n",
      "Epoch 8/20\n",
      "3109/3109 [==============================] - 62s 20ms/step - loss: 0.6874 - auc_2: 0.9495 - precision_2: 0.7193 - recall_2: 0.9956 - accuracy: 9.5508e-04 - val_loss: 0.9620 - val_auc_2: 0.9629 - val_precision_2: 0.1931 - val_recall_2: 1.0000 - val_accuracy: 0.0000e+00\n",
      "Epoch 9/20\n",
      "3109/3109 [==============================] - 66s 21ms/step - loss: 0.6806 - auc_2: 0.9507 - precision_2: 0.7191 - recall_2: 0.9957 - accuracy: 0.0015 - val_loss: 0.7250 - val_auc_2: 0.9644 - val_precision_2: 0.1927 - val_recall_2: 1.0000 - val_accuracy: 0.0000e+00\n",
      "Epoch 10/20\n",
      "3109/3109 [==============================] - 61s 20ms/step - loss: 0.6721 - auc_2: 0.9523 - precision_2: 0.7229 - recall_2: 0.9954 - accuracy: 9.0481e-04 - val_loss: 0.8256 - val_auc_2: 0.9646 - val_precision_2: 0.1912 - val_recall_2: 1.0000 - val_accuracy: 0.0000e+00\n",
      "Epoch 11/20\n",
      "3109/3109 [==============================] - 62s 20ms/step - loss: 0.6691 - auc_2: 0.9525 - precision_2: 0.7222 - recall_2: 0.9957 - accuracy: 0.0012 - val_loss: 0.7819 - val_auc_2: 0.9656 - val_precision_2: 0.1996 - val_recall_2: 1.0000 - val_accuracy: 0.0000e+00\n",
      "Epoch 12/20\n",
      "3109/3109 [==============================] - 63s 20ms/step - loss: 0.6591 - auc_2: 0.9532 - precision_2: 0.7213 - recall_2: 0.9962 - accuracy: 9.7519e-04 - val_loss: 0.7151 - val_auc_2: 0.9639 - val_precision_2: 0.1978 - val_recall_2: 1.0000 - val_accuracy: 0.0000e+00\n",
      "Epoch 13/20\n",
      "3109/3109 [==============================] - 60s 19ms/step - loss: 0.6617 - auc_2: 0.9537 - precision_2: 0.7223 - recall_2: 0.9956 - accuracy: 7.9423e-04 - val_loss: 0.8731 - val_auc_2: 0.9670 - val_precision_2: 0.2013 - val_recall_2: 1.0000 - val_accuracy: 0.0000e+00\n",
      "Epoch 14/20\n",
      "3109/3109 [==============================] - 60s 19ms/step - loss: 0.6575 - auc_2: 0.9546 - precision_2: 0.7231 - recall_2: 0.9955 - accuracy: 8.4449e-04 - val_loss: 0.7700 - val_auc_2: 0.9671 - val_precision_2: 0.1993 - val_recall_2: 1.0000 - val_accuracy: 0.0000e+00\n",
      "Epoch 15/20\n",
      "3109/3109 [==============================] - 63s 20ms/step - loss: 0.6643 - auc_2: 0.9543 - precision_2: 0.7207 - recall_2: 0.9960 - accuracy: 0.0014 - val_loss: 0.7003 - val_auc_2: 0.9672 - val_precision_2: 0.2001 - val_recall_2: 0.9991 - val_accuracy: 0.0000e+00\n",
      "Epoch 16/20\n",
      "3109/3109 [==============================] - 64s 21ms/step - loss: 0.6663 - auc_2: 0.9537 - precision_2: 0.7194 - recall_2: 0.9953 - accuracy: 0.0011 - val_loss: 0.8107 - val_auc_2: 0.9653 - val_precision_2: 0.2033 - val_recall_2: 0.9991 - val_accuracy: 0.0000e+00\n",
      "Epoch 17/20\n",
      "3109/3109 [==============================] - 63s 20ms/step - loss: 0.6584 - auc_2: 0.9548 - precision_2: 0.7199 - recall_2: 0.9959 - accuracy: 0.0014 - val_loss: 0.7990 - val_auc_2: 0.9676 - val_precision_2: 0.1975 - val_recall_2: 1.0000 - val_accuracy: 0.0000e+00\n",
      "Epoch 18/20\n",
      "3109/3109 [==============================] - 62s 20ms/step - loss: 0.6534 - auc_2: 0.9562 - precision_2: 0.7234 - recall_2: 0.9953 - accuracy: 0.0013 - val_loss: 0.6915 - val_auc_2: 0.9673 - val_precision_2: 0.1982 - val_recall_2: 1.0000 - val_accuracy: 0.0000e+00\n",
      "Epoch 19/20\n",
      "3109/3109 [==============================] - 64s 21ms/step - loss: 0.6479 - auc_2: 0.9569 - precision_2: 0.7249 - recall_2: 0.9952 - accuracy: 0.0016 - val_loss: 0.7833 - val_auc_2: 0.9667 - val_precision_2: 0.1937 - val_recall_2: 1.0000 - val_accuracy: 0.0000e+00\n",
      "Epoch 20/20\n",
      "3109/3109 [==============================] - 62s 20ms/step - loss: 0.6496 - auc_2: 0.9576 - precision_2: 0.7243 - recall_2: 0.9948 - accuracy: 0.0025 - val_loss: 0.8075 - val_auc_2: 0.9684 - val_precision_2: 0.2290 - val_recall_2: 0.9963 - val_accuracy: 0.0000e+00\n"
     ]
    },
    {
     "data": {
      "text/plain": "<keras.src.callbacks.History at 0x7fe2417445b0>"
     },
     "execution_count": 39,
     "metadata": {},
     "output_type": "execute_result"
    }
   ],
   "source": [
    "model = DiabetesClassifier(X_train_scaled.shape[1], num_of_dense_layers =5, dense_number =16, dropout = 0.2, l2 = 0.001)\n",
    "tensorboard = keras.callbacks.TensorBoard(log_dir='logs')\n",
    "optimizer = keras.optimizers.Adam(0.001)\n",
    "model.compile(optimizer = optimizer, loss = 'binary_crossentropy', metrics = [metrics.AUC(), metrics.Precision(), metrics.Recall(), metrics.Accuracy()])\n",
    "model.fit(X_train_scaled, y_train, validation_data = (X_val_scaled, y_val), batch_size =32, epochs = 20, class_weight = {1: scale_pos_weight, 0: 1}, callbacks = [tensorboard])\n",
    "\n"
   ],
   "metadata": {
    "collapsed": false,
    "ExecuteTime": {
     "end_time": "2024-02-21T00:44:31.062106Z",
     "start_time": "2024-02-21T00:23:44.799738Z"
    }
   },
   "id": "6d8127f8a6b03524",
   "execution_count": 39
  },
  {
   "cell_type": "code",
   "outputs": [
    {
     "name": "stdout",
     "output_type": "stream",
     "text": [
      "416/416 [==============================] - 1s 3ms/step\n",
      "416/416 [==============================] - 1s 2ms/step\n",
      "416/416 [==============================] - 1s 3ms/step\n",
      "416/416 [==============================] - 1s 3ms/step\n",
      "416/416 [==============================] - 1s 3ms/step\n",
      "Fold 1: Optimal threshold: 0.9860290884971619, F1 Score: 0.7775131014768937\n",
      "Fold 2: Optimal threshold: 0.9865700602531433, F1 Score: 0.8\n",
      "Fold 3: Optimal threshold: 0.9863243699073792, F1 Score: 0.7822349570200574\n",
      "Fold 4: Optimal threshold: 0.9865864515304565, F1 Score: 0.7896226415094341\n",
      "Fold 5: Optimal threshold: 0.9822980165481567, F1 Score: 0.7978142076502731\n",
      "Average Optimal Threshold: 0.9855615496635437, Average F1 Score: 0.7894369815313317\n"
     ]
    }
   ],
   "source": [
    "from sklearn.model_selection import StratifiedKFold\n",
    "from sklearn.metrics import precision_recall_curve\n",
    "n_splits = 5  # Number of folds for StratifiedKFold\n",
    "cv = StratifiedKFold(n_splits=n_splits, shuffle=True, random_state=42)\n",
    "\n",
    "opt_thresholds = []\n",
    "f1_scores = []\n",
    "\n",
    "for train_index, val_index in cv.split(combined_X_train, combined_y_train):\n",
    "    # Split data into training and validation for the current fold\n",
    "    X_train_curr, X_val_curr = combined_X_train[train_index], combined_X_train[val_index]\n",
    "    y_train_curr, y_val_curr = combined_y_train[train_index], combined_y_train[val_index]\n",
    "\n",
    "    # Predict probabilities for the positive class on the validation data\n",
    "    y_pred_prob = model.predict(X_val_curr).ravel()\n",
    "\n",
    "    # Compute precision-recall curve\n",
    "    precision, recall, thresholds = precision_recall_curve(y_val_curr, y_pred_prob)\n",
    "\n",
    "    # Calculate F1 scores for each threshold\n",
    "    f1_scores_fold = [2 * (p * r) / (p + r) if (p + r) > 0 else 0 for p, r in zip(precision, recall)]\n",
    "\n",
    "    # Find the index of the maximum F1 score\n",
    "    opt_idx = np.argmax(f1_scores_fold)\n",
    "    opt_threshold = thresholds[opt_idx] if opt_idx < len(thresholds) else 1.0\n",
    "\n",
    "    # Store the optimal threshold for this fold\n",
    "    opt_thresholds.append(opt_threshold)\n",
    "    f1_scores.append(f1_scores_fold[opt_idx])\n",
    "\n",
    "# Optionally, you can print or analyze the optimal thresholds and F1 scores for each fold\n",
    "for i, (threshold, f1_score) in enumerate(zip(opt_thresholds, f1_scores)):\n",
    "    print(f\"Fold {i+1}: Optimal threshold: {threshold}, F1 Score: {f1_score}\")\n",
    "\n",
    "# You might also calculate and print the average optimal threshold and F1 score across folds if desired\n",
    "average_opt_threshold = np.mean(opt_thresholds)\n",
    "average_f1_score = np.mean(f1_scores)\n",
    "print(f\"Average Optimal Threshold: {average_opt_threshold}, Average F1 Score: {average_f1_score}\")"
   ],
   "metadata": {
    "collapsed": false,
    "ExecuteTime": {
     "end_time": "2024-02-21T00:45:44.404495Z",
     "start_time": "2024-02-21T00:45:38.038627Z"
    }
   },
   "id": "dd87475ee12bea6a",
   "execution_count": 45
  },
  {
   "cell_type": "code",
   "outputs": [
    {
     "name": "stdout",
     "output_type": "stream",
     "text": [
      "367/367 [==============================] - 1s 3ms/step\n",
      "              precision    recall  f1-score   support\n",
      "\n",
      "           0       0.97      0.99      0.98     10658\n",
      "           1       0.93      0.67      0.78      1085\n",
      "\n",
      "    accuracy                           0.97     11743\n",
      "   macro avg       0.95      0.83      0.88     11743\n",
      "weighted avg       0.96      0.97      0.96     11743\n",
      "\n",
      "367/367 [==============================] - 1s 3ms/step\n",
      "              precision    recall  f1-score   support\n",
      "\n",
      "           0       0.97      1.00      0.98     10658\n",
      "           1       0.93      0.67      0.78      1084\n",
      "\n",
      "    accuracy                           0.96     11742\n",
      "   macro avg       0.95      0.83      0.88     11742\n",
      "weighted avg       0.96      0.96      0.96     11742\n"
     ]
    }
   ],
   "source": [
    "y_pred_prob = (model.predict(X_val_scaled).ravel() >= average_opt_threshold).astype(int)\n",
    "print(classification_report(y_val, y_pred_prob))\n",
    "y_pred_prob = (model.predict(X_test_scaled).ravel() >= average_opt_threshold).astype(int)\n",
    "print(classification_report(y_test, y_pred_prob))"
   ],
   "metadata": {
    "collapsed": false,
    "ExecuteTime": {
     "end_time": "2024-02-21T00:45:46.918363Z",
     "start_time": "2024-02-21T00:45:44.405595Z"
    }
   },
   "id": "bf9bc39f418ec411",
   "execution_count": 46
  },
  {
   "cell_type": "code",
   "outputs": [
    {
     "name": "stderr",
     "output_type": "stream",
     "text": [
      "[I 2024-02-21 03:36:00,842] A new study created in memory with name: no-name-9e4fc301-2b61-44e3-bba5-5fc21a3f4899\n"
     ]
    },
    {
     "name": "stdout",
     "output_type": "stream",
     "text": [
      "Epoch 1/20\n"
     ]
    },
    {
     "name": "stderr",
     "output_type": "stream",
     "text": [
      "/home/mamdouh/anaconda3/envs/GPU/lib/python3.10/site-packages/optuna/samplers/_tpe/sampler.py:319: ExperimentalWarning: ``multivariate`` option is an experimental feature. The interface can change in the future.\n",
      "  warnings.warn(\n"
     ]
    },
    {
     "name": "stdout",
     "output_type": "stream",
     "text": [
      "3109/3109 [==============================] - 58s 18ms/step - loss: 2.7958 - auc_2: 0.8054 - precision_2: 0.5912 - recall_2: 0.9786 - accuracy: 0.0032 - val_loss: 3.1994 - val_auc_2: 0.9309 - val_precision_2: 0.1416 - val_recall_2: 0.9954 - val_accuracy: 0.0000e+00\n",
      "Epoch 2/20\n",
      "3109/3109 [==============================] - 59s 19ms/step - loss: 2.6481 - auc_2: 0.8187 - precision_2: 0.6009 - recall_2: 0.9798 - accuracy: 0.0013 - val_loss: 5.2230 - val_auc_2: 0.9417 - val_precision_2: 0.0924 - val_recall_2: 1.0000 - val_accuracy: 0.0000e+00\n",
      "Epoch 3/20\n",
      "3109/3109 [==============================] - 59s 19ms/step - loss: 2.5939 - auc_2: 0.8189 - precision_2: 0.5945 - recall_2: 0.9789 - accuracy: 5.1273e-04 - val_loss: 0.7920 - val_auc_2: 0.9286 - val_precision_2: 0.5632 - val_recall_2: 0.6608 - val_accuracy: 0.0000e+00\n",
      "Epoch 4/20\n",
      "3109/3109 [==============================] - 57s 18ms/step - loss: 2.2030 - auc_2: 0.8192 - precision_2: 0.5981 - recall_2: 0.9803 - accuracy: 7.5401e-04 - val_loss: 28.5910 - val_auc_2: 0.5000 - val_precision_2: 0.0924 - val_recall_2: 1.0000 - val_accuracy: 0.0924\n",
      "Epoch 5/20\n",
      "3109/3109 [==============================] - 61s 20ms/step - loss: 2.3820 - auc_2: 0.8026 - precision_2: 0.5855 - recall_2: 0.9813 - accuracy: 0.0011 - val_loss: 1.0116 - val_auc_2: 0.9405 - val_precision_2: 0.2841 - val_recall_2: 0.9226 - val_accuracy: 0.0000e+00\n",
      "Epoch 6/20\n",
      "3109/3109 [==============================] - 58s 19ms/step - loss: 2.4750 - auc_2: 0.7857 - precision_2: 0.5766 - recall_2: 0.9816 - accuracy: 0.0065 - val_loss: 0.8260 - val_auc_2: 0.9235 - val_precision_2: 0.6744 - val_recall_2: 0.5594 - val_accuracy: 0.0000e+00\n",
      "Epoch 7/20\n",
      "3109/3109 [==============================] - 54s 18ms/step - loss: 2.4300 - auc_2: 0.8108 - precision_2: 0.5895 - recall_2: 0.9800 - accuracy: 0.0045 - val_loss: 1.7075 - val_auc_2: 0.9257 - val_precision_2: 1.0000 - val_recall_2: 0.0931 - val_accuracy: 0.0000e+00\n",
      "Epoch 8/20\n",
      "3109/3109 [==============================] - 55s 18ms/step - loss: 2.5584 - auc_2: 0.8349 - precision_2: 0.6121 - recall_2: 0.9792 - accuracy: 8.1433e-04 - val_loss: 0.9533 - val_auc_2: 0.9400 - val_precision_2: 0.8514 - val_recall_2: 0.5281 - val_accuracy: 0.0000e+00\n",
      "Epoch 9/20\n",
      "3109/3109 [==============================] - 55s 18ms/step - loss: 2.4410 - auc_2: 0.8347 - precision_2: 0.6157 - recall_2: 0.9792 - accuracy: 0.0024 - val_loss: 3.1705 - val_auc_2: 0.9217 - val_precision_2: 0.0924 - val_recall_2: 1.0000 - val_accuracy: 0.0000e+00\n",
      "Epoch 10/20\n",
      "3109/3109 [==============================] - 58s 19ms/step - loss: 2.0500 - auc_2: 0.8468 - precision_2: 0.6236 - recall_2: 0.9804 - accuracy: 0.0018 - val_loss: 1.6981 - val_auc_2: 0.5000 - val_precision_2: 0.0000e+00 - val_recall_2: 0.0000e+00 - val_accuracy: 0.0000e+00\n",
      "Epoch 11/20\n",
      "3109/3109 [==============================] - 57s 18ms/step - loss: 4.1694 - auc_2: 0.7456 - precision_2: 0.5602 - recall_2: 0.9862 - accuracy: 0.0035 - val_loss: 5.9556 - val_auc_2: 0.5324 - val_precision_2: 0.0924 - val_recall_2: 1.0000 - val_accuracy: 0.0000e+00\n",
      "Epoch 12/20\n",
      "3109/3109 [==============================] - 56s 18ms/step - loss: 3.5861 - auc_2: 0.5376 - precision_2: 0.5047 - recall_2: 0.9922 - accuracy: 3.8203e-04 - val_loss: 6.3146 - val_auc_2: 0.5115 - val_precision_2: 0.0924 - val_recall_2: 1.0000 - val_accuracy: 0.0000e+00\n",
      "Epoch 13/20\n",
      "3109/3109 [==============================] - 56s 18ms/step - loss: 2.1704 - auc_2: 0.8268 - precision_2: 0.6015 - recall_2: 0.9815 - accuracy: 0.0038 - val_loss: 3.1787 - val_auc_2: 0.3418 - val_precision_2: 0.0924 - val_recall_2: 1.0000 - val_accuracy: 0.0000e+00\n",
      "Epoch 14/20\n",
      "3109/3109 [==============================] - 55s 18ms/step - loss: 2.0358 - auc_2: 0.8284 - precision_2: 0.5960 - recall_2: 0.9812 - accuracy: 0.0033 - val_loss: 1.9136 - val_auc_2: 0.5000 - val_precision_2: 0.0000e+00 - val_recall_2: 0.0000e+00 - val_accuracy: 0.0000e+00\n",
      "Epoch 15/20\n",
      "3109/3109 [==============================] - 56s 18ms/step - loss: 2.3900 - auc_2: 0.8050 - precision_2: 0.5820 - recall_2: 0.9812 - accuracy: 0.0024 - val_loss: 1.2305 - val_auc_2: 0.5000 - val_precision_2: 0.0000e+00 - val_recall_2: 0.0000e+00 - val_accuracy: 0.0000e+00\n",
      "Epoch 16/20\n",
      "3109/3109 [==============================] - 55s 18ms/step - loss: 2.0097 - auc_2: 0.8291 - precision_2: 0.5961 - recall_2: 0.9786 - accuracy: 0.0055 - val_loss: 2.1063 - val_auc_2: 0.5000 - val_precision_2: 0.0000e+00 - val_recall_2: 0.0000e+00 - val_accuracy: 0.0000e+00\n",
      "Epoch 17/20\n",
      "3109/3109 [==============================] - 56s 18ms/step - loss: 2.0389 - auc_2: 0.8473 - precision_2: 0.6129 - recall_2: 0.9785 - accuracy: 0.0071 - val_loss: 1.2436 - val_auc_2: 0.5000 - val_precision_2: 0.0000e+00 - val_recall_2: 0.0000e+00 - val_accuracy: 0.0000e+00\n",
      "Epoch 18/20\n",
      "3109/3109 [==============================] - 55s 18ms/step - loss: 1.9752 - auc_2: 0.8288 - precision_2: 0.5937 - recall_2: 0.9778 - accuracy: 0.0035 - val_loss: 0.7405 - val_auc_2: 0.9390 - val_precision_2: 1.0000 - val_recall_2: 0.0083 - val_accuracy: 0.0000e+00\n",
      "Epoch 19/20\n",
      "3109/3109 [==============================] - 56s 18ms/step - loss: 1.9341 - auc_2: 0.8407 - precision_2: 0.5996 - recall_2: 0.9792 - accuracy: 0.0048 - val_loss: 7.5175 - val_auc_2: 0.6022 - val_precision_2: 0.0979 - val_recall_2: 1.0000 - val_accuracy: 0.0000e+00\n",
      "Epoch 20/20\n",
      "3109/3109 [==============================] - 56s 18ms/step - loss: 2.0497 - auc_2: 0.7259 - precision_2: 0.5484 - recall_2: 0.9863 - accuracy: 0.0024 - val_loss: 3.9501 - val_auc_2: 0.9088 - val_precision_2: 0.0924 - val_recall_2: 1.0000 - val_accuracy: 0.0000e+00\n",
      "416/416 [==============================] - 1s 3ms/step\n"
     ]
    },
    {
     "name": "stderr",
     "output_type": "stream",
     "text": [
      "[I 2024-02-21 03:54:53,012] Trial 0 finished with value: 0.6777442094662639 and parameters: {'num_of_layers': 4, 'num_of_neurons': 4, 'dropout': 0.2634770756183719, 'l2': 0.0013749676843788107, 'learning_rate': 0.3525139685978232, 'scale_pos_weight_multiplier': 1}. Best is trial 0 with value: 0.6777442094662639.\n"
     ]
    },
    {
     "name": "stdout",
     "output_type": "stream",
     "text": [
      "Epoch 1/20\n",
      "3109/3109 [==============================] - 51s 16ms/step - loss: 102.7395 - auc_3: 0.5078 - precision_3: 0.5016 - recall_3: 0.9298 - accuracy: 0.0665 - val_loss: 1.3759 - val_auc_3: 0.5000 - val_precision_3: 0.0924 - val_recall_3: 1.0000 - val_accuracy: 0.0000e+00\n",
      "Epoch 2/20\n",
      "3109/3109 [==============================] - 50s 16ms/step - loss: 53.3209 - auc_3: 0.4979 - precision_3: 0.5002 - recall_3: 0.9543 - accuracy: 0.0600 - val_loss: 1.7933 - val_auc_3: 0.5000 - val_precision_3: 0.0924 - val_recall_3: 1.0000 - val_accuracy: 0.0000e+00\n",
      "Epoch 3/20\n",
      "3109/3109 [==============================] - 52s 17ms/step - loss: 28.1299 - auc_3: 0.5037 - precision_3: 0.5001 - recall_3: 0.9551 - accuracy: 0.0522 - val_loss: 1.2707 - val_auc_3: 0.5000 - val_precision_3: 0.0924 - val_recall_3: 1.0000 - val_accuracy: 0.0000e+00\n",
      "Epoch 4/20\n",
      "3109/3109 [==============================] - 49s 16ms/step - loss: 34.8004 - auc_3: 0.4987 - precision_3: 0.4993 - recall_3: 0.9386 - accuracy: 0.0711 - val_loss: 1.9791 - val_auc_3: 0.5000 - val_precision_3: 0.0924 - val_recall_3: 1.0000 - val_accuracy: 0.0000e+00\n",
      "Epoch 5/20\n",
      "3109/3109 [==============================] - 49s 16ms/step - loss: 96.6232 - auc_3: 0.5008 - precision_3: 0.5005 - recall_3: 0.9290 - accuracy: 0.0945 - val_loss: 2.0480 - val_auc_3: 0.5000 - val_precision_3: 0.0924 - val_recall_3: 1.0000 - val_accuracy: 0.0000e+00\n",
      "Epoch 6/20\n",
      "3109/3109 [==============================] - 49s 16ms/step - loss: 17.7741 - auc_3: 0.5022 - precision_3: 0.5006 - recall_3: 0.9530 - accuracy: 0.0475 - val_loss: 1.5078 - val_auc_3: 0.5000 - val_precision_3: 0.0924 - val_recall_3: 1.0000 - val_accuracy: 0.0000e+00\n",
      "Epoch 7/20\n",
      "3109/3109 [==============================] - 50s 16ms/step - loss: 305.2145 - auc_3: 0.5049 - precision_3: 0.4995 - recall_3: 0.9575 - accuracy: 0.0398 - val_loss: 120989.9844 - val_auc_3: 0.5000 - val_precision_3: 0.0924 - val_recall_3: 1.0000 - val_accuracy: 0.0924\n",
      "Epoch 8/20\n",
      "3109/3109 [==============================] - 50s 16ms/step - loss: 59.8083 - auc_3: 0.4972 - precision_3: 0.4995 - recall_3: 0.9465 - accuracy: 0.0690 - val_loss: 175.3244 - val_auc_3: 0.5000 - val_precision_3: 0.0924 - val_recall_3: 1.0000 - val_accuracy: 0.0924\n",
      "Epoch 9/20\n",
      "3109/3109 [==============================] - 49s 16ms/step - loss: 59.1676 - auc_3: 0.4974 - precision_3: 0.5004 - recall_3: 0.9379 - accuracy: 0.0548 - val_loss: 1.9760 - val_auc_3: 0.5000 - val_precision_3: 0.0924 - val_recall_3: 1.0000 - val_accuracy: 0.0000e+00\n",
      "Epoch 10/20\n",
      "3109/3109 [==============================] - 49s 16ms/step - loss: 52.1967 - auc_3: 0.5022 - precision_3: 0.5001 - recall_3: 0.9306 - accuracy: 0.0659 - val_loss: 11.8232 - val_auc_3: 0.5000 - val_precision_3: 0.0924 - val_recall_3: 1.0000 - val_accuracy: 0.0000e+00\n",
      "Epoch 11/20\n",
      "3109/3109 [==============================] - 50s 16ms/step - loss: 59.7118 - auc_3: 0.4976 - precision_3: 0.5001 - recall_3: 0.9422 - accuracy: 0.0601 - val_loss: 7.4946 - val_auc_3: 0.5000 - val_precision_3: 0.0924 - val_recall_3: 1.0000 - val_accuracy: 0.0000e+00\n",
      "Epoch 12/20\n",
      "3109/3109 [==============================] - 49s 16ms/step - loss: 343.2316 - auc_3: 0.5043 - precision_3: 0.5008 - recall_3: 0.9482 - accuracy: 0.0749 - val_loss: 1.9062 - val_auc_3: 0.5000 - val_precision_3: 0.0924 - val_recall_3: 1.0000 - val_accuracy: 0.0000e+00\n",
      "Epoch 13/20\n",
      "3109/3109 [==============================] - 49s 16ms/step - loss: 2036.9185 - auc_3: 0.5005 - precision_3: 0.4995 - recall_3: 0.9588 - accuracy: 0.0480 - val_loss: 2.3323 - val_auc_3: 0.5000 - val_precision_3: 0.0924 - val_recall_3: 1.0000 - val_accuracy: 0.0000e+00\n",
      "Epoch 14/20\n",
      "3109/3109 [==============================] - 49s 16ms/step - loss: 5.8363 - auc_3: 0.4943 - precision_3: 0.4995 - recall_3: 0.9618 - accuracy: 0.0465 - val_loss: 1.7297 - val_auc_3: 0.5000 - val_precision_3: 0.0924 - val_recall_3: 1.0000 - val_accuracy: 0.0000e+00\n",
      "Epoch 15/20\n",
      "3109/3109 [==============================] - 48s 16ms/step - loss: 133.3846 - auc_3: 0.5026 - precision_3: 0.5003 - recall_3: 0.9444 - accuracy: 0.0791 - val_loss: 1.7178 - val_auc_3: 0.5000 - val_precision_3: 0.0924 - val_recall_3: 1.0000 - val_accuracy: 0.0000e+00\n",
      "Epoch 16/20\n",
      "3109/3109 [==============================] - 49s 16ms/step - loss: 64.7615 - auc_3: 0.4973 - precision_3: 0.4997 - recall_3: 0.9552 - accuracy: 0.0555 - val_loss: 1.7750 - val_auc_3: 0.5000 - val_precision_3: 0.0924 - val_recall_3: 1.0000 - val_accuracy: 0.0000e+00\n",
      "Epoch 17/20\n",
      "3109/3109 [==============================] - 49s 16ms/step - loss: 98.4806 - auc_3: 0.5025 - precision_3: 0.5006 - recall_3: 0.9524 - accuracy: 0.0695 - val_loss: 4.7177 - val_auc_3: 0.5000 - val_precision_3: 0.0924 - val_recall_3: 1.0000 - val_accuracy: 0.0000e+00\n",
      "Epoch 18/20\n",
      "3109/3109 [==============================] - 49s 16ms/step - loss: 45.8427 - auc_3: 0.5036 - precision_3: 0.5013 - recall_3: 0.9382 - accuracy: 0.0519 - val_loss: 1.5783 - val_auc_3: 0.5000 - val_precision_3: 0.0924 - val_recall_3: 1.0000 - val_accuracy: 0.0000e+00\n",
      "Epoch 19/20\n",
      "3109/3109 [==============================] - 48s 15ms/step - loss: 26.8421 - auc_3: 0.5018 - precision_3: 0.5003 - recall_3: 0.9620 - accuracy: 0.0453 - val_loss: 3.8691 - val_auc_3: 0.5000 - val_precision_3: 0.0000e+00 - val_recall_3: 0.0000e+00 - val_accuracy: 0.0000e+00\n",
      "Epoch 20/20\n",
      "3109/3109 [==============================] - 47s 15ms/step - loss: 624.3994 - auc_3: 0.5029 - precision_3: 0.5003 - recall_3: 0.9237 - accuracy: 0.0870 - val_loss: 1.5797 - val_auc_3: 0.5000 - val_precision_3: 0.0924 - val_recall_3: 1.0000 - val_accuracy: 0.0000e+00\n",
      "416/416 [==============================] - 1s 2ms/step\n"
     ]
    },
    {
     "name": "stderr",
     "output_type": "stream",
     "text": [
      "[I 2024-02-21 04:11:18,279] Trial 1 finished with value: 0.16908578111027034 and parameters: {'num_of_layers': 3, 'num_of_neurons': 4, 'dropout': 0.3155651998731056, 'l2': 0.2117964696242606, 'learning_rate': 2.1503092754952453, 'scale_pos_weight_multiplier': 2}. Best is trial 0 with value: 0.6777442094662639.\n"
     ]
    },
    {
     "name": "stdout",
     "output_type": "stream",
     "text": [
      "Epoch 1/20\n",
      "3109/3109 [==============================] - 75s 23ms/step - loss: 0.9770 - auc_4: 0.9097 - precision_4: 0.6970 - recall_4: 0.9651 - accuracy: 3.0160e-05 - val_loss: 0.6922 - val_auc_4: 0.9426 - val_precision_4: 0.2996 - val_recall_4: 0.9005 - val_accuracy: 0.0000e+00\n",
      "Epoch 2/20\n",
      "3109/3109 [==============================] - 73s 23ms/step - loss: 0.9140 - auc_4: 0.9156 - precision_4: 0.7025 - recall_4: 0.9678 - accuracy: 0.0000e+00 - val_loss: 2.0293 - val_auc_4: 0.9402 - val_precision_4: 0.1383 - val_recall_4: 1.0000 - val_accuracy: 0.0000e+00\n",
      "Epoch 3/20\n",
      "3109/3109 [==============================] - 73s 23ms/step - loss: 0.9103 - auc_4: 0.9143 - precision_4: 0.6892 - recall_4: 0.9693 - accuracy: 0.0000e+00 - val_loss: 1.1065 - val_auc_4: 0.9428 - val_precision_4: 0.1944 - val_recall_4: 0.9806 - val_accuracy: 0.0000e+00\n",
      "Epoch 4/20\n",
      "3109/3109 [==============================] - 72s 23ms/step - loss: 0.9082 - auc_4: 0.9141 - precision_4: 0.6877 - recall_4: 0.9695 - accuracy: 0.0000e+00 - val_loss: 0.9207 - val_auc_4: 0.9450 - val_precision_4: 0.2561 - val_recall_4: 0.9539 - val_accuracy: 0.0000e+00\n",
      "Epoch 5/20\n",
      "3109/3109 [==============================] - 73s 23ms/step - loss: 0.9084 - auc_4: 0.9145 - precision_4: 0.6883 - recall_4: 0.9695 - accuracy: 0.0000e+00 - val_loss: 0.7780 - val_auc_4: 0.9464 - val_precision_4: 0.2652 - val_recall_4: 0.9512 - val_accuracy: 0.0000e+00\n",
      "Epoch 6/20\n",
      "3109/3109 [==============================] - 72s 23ms/step - loss: 0.9054 - auc_4: 0.9149 - precision_4: 0.6878 - recall_4: 0.9694 - accuracy: 0.0000e+00 - val_loss: 1.1131 - val_auc_4: 0.9440 - val_precision_4: 0.2130 - val_recall_4: 0.9733 - val_accuracy: 0.0000e+00\n",
      "Epoch 7/20\n",
      "3109/3109 [==============================] - 73s 24ms/step - loss: 0.9130 - auc_4: 0.9138 - precision_4: 0.6835 - recall_4: 0.9705 - accuracy: 0.0000e+00 - val_loss: 0.9190 - val_auc_4: 0.9475 - val_precision_4: 0.1785 - val_recall_4: 0.9899 - val_accuracy: 0.0000e+00\n",
      "Epoch 8/20\n",
      "3109/3109 [==============================] - 72s 23ms/step - loss: 0.9163 - auc_4: 0.9118 - precision_4: 0.6807 - recall_4: 0.9713 - accuracy: 0.0000e+00 - val_loss: 0.5458 - val_auc_4: 0.9461 - val_precision_4: 0.3833 - val_recall_4: 0.8691 - val_accuracy: 0.0000e+00\n",
      "Epoch 9/20\n",
      "3109/3109 [==============================] - 73s 23ms/step - loss: 0.9241 - auc_4: 0.9116 - precision_4: 0.6781 - recall_4: 0.9701 - accuracy: 0.0000e+00 - val_loss: 0.5744 - val_auc_4: 0.9445 - val_precision_4: 0.3234 - val_recall_4: 0.8995 - val_accuracy: 0.0000e+00\n",
      "Epoch 10/20\n",
      "3109/3109 [==============================] - 73s 23ms/step - loss: 0.9245 - auc_4: 0.9116 - precision_4: 0.6778 - recall_4: 0.9707 - accuracy: 0.0000e+00 - val_loss: 0.4809 - val_auc_4: 0.9464 - val_precision_4: 0.4350 - val_recall_4: 0.8203 - val_accuracy: 0.0000e+00\n",
      "Epoch 11/20\n",
      "3109/3109 [==============================] - 73s 23ms/step - loss: 0.9232 - auc_4: 0.9112 - precision_4: 0.6777 - recall_4: 0.9712 - accuracy: 0.0000e+00 - val_loss: 2.4607 - val_auc_4: 0.9156 - val_precision_4: 0.1264 - val_recall_4: 1.0000 - val_accuracy: 0.0000e+00\n",
      "Epoch 12/20\n",
      "3109/3109 [==============================] - 74s 24ms/step - loss: 0.9098 - auc_4: 0.9137 - precision_4: 0.6831 - recall_4: 0.9716 - accuracy: 0.0000e+00 - val_loss: 3.1084 - val_auc_4: 0.9121 - val_precision_4: 0.1063 - val_recall_4: 1.0000 - val_accuracy: 0.0000e+00\n",
      "Epoch 13/20\n",
      "3109/3109 [==============================] - 76s 24ms/step - loss: 0.9231 - auc_4: 0.9123 - precision_4: 0.6795 - recall_4: 0.9714 - accuracy: 0.0000e+00 - val_loss: 0.4183 - val_auc_4: 0.9466 - val_precision_4: 0.5605 - val_recall_4: 0.7594 - val_accuracy: 0.0000e+00\n",
      "Epoch 14/20\n",
      "3109/3109 [==============================] - 75s 24ms/step - loss: 0.9170 - auc_4: 0.9125 - precision_4: 0.6800 - recall_4: 0.9712 - accuracy: 0.0000e+00 - val_loss: 0.7692 - val_auc_4: 0.9453 - val_precision_4: 0.2489 - val_recall_4: 0.9594 - val_accuracy: 0.0000e+00\n",
      "Epoch 15/20\n",
      "3109/3109 [==============================] - 75s 24ms/step - loss: 0.9222 - auc_4: 0.9133 - precision_4: 0.6798 - recall_4: 0.9715 - accuracy: 0.0000e+00 - val_loss: 1.1450 - val_auc_4: 0.9458 - val_precision_4: 0.1852 - val_recall_4: 0.9862 - val_accuracy: 0.0000e+00\n",
      "Epoch 16/20\n",
      "3109/3109 [==============================] - 75s 24ms/step - loss: 0.9167 - auc_4: 0.9135 - precision_4: 0.6815 - recall_4: 0.9719 - accuracy: 0.0000e+00 - val_loss: 1.5995 - val_auc_4: 0.9424 - val_precision_4: 0.1448 - val_recall_4: 0.9991 - val_accuracy: 0.0000e+00\n",
      "Epoch 17/20\n",
      "3109/3109 [==============================] - 75s 24ms/step - loss: 0.9294 - auc_4: 0.9109 - precision_4: 0.6773 - recall_4: 0.9712 - accuracy: 0.0000e+00 - val_loss: 0.5500 - val_auc_4: 0.9445 - val_precision_4: 0.3476 - val_recall_4: 0.8765 - val_accuracy: 0.0000e+00\n",
      "Epoch 18/20\n",
      "3109/3109 [==============================] - 75s 24ms/step - loss: 0.9225 - auc_4: 0.9125 - precision_4: 0.6793 - recall_4: 0.9714 - accuracy: 0.0000e+00 - val_loss: 2.5065 - val_auc_4: 0.8788 - val_precision_4: 0.1464 - val_recall_4: 0.9991 - val_accuracy: 0.0000e+00\n",
      "Epoch 19/20\n",
      "3109/3109 [==============================] - 74s 24ms/step - loss: 0.9187 - auc_4: 0.9137 - precision_4: 0.6816 - recall_4: 0.9709 - accuracy: 0.0000e+00 - val_loss: 0.6869 - val_auc_4: 0.9461 - val_precision_4: 0.2606 - val_recall_4: 0.9502 - val_accuracy: 0.0000e+00\n",
      "Epoch 20/20\n",
      "3109/3109 [==============================] - 75s 24ms/step - loss: 0.9264 - auc_4: 0.9115 - precision_4: 0.6791 - recall_4: 0.9710 - accuracy: 0.0000e+00 - val_loss: 0.8913 - val_auc_4: 0.9450 - val_precision_4: 0.2331 - val_recall_4: 0.9668 - val_accuracy: 0.0000e+00\n",
      "416/416 [==============================] - 2s 4ms/step\n"
     ]
    },
    {
     "name": "stderr",
     "output_type": "stream",
     "text": [
      "[I 2024-02-21 04:35:56,368] Trial 2 finished with value: 0.7263681592039801 and parameters: {'num_of_layers': 6, 'num_of_neurons': 5, 'dropout': 0.4796274397866339, 'l2': 0.0032292840176970767, 'learning_rate': 0.0177400633379609, 'scale_pos_weight_multiplier': 2}. Best is trial 2 with value: 0.7263681592039801.\n"
     ]
    },
    {
     "name": "stdout",
     "output_type": "stream",
     "text": [
      "Epoch 1/20\n",
      "3109/3109 [==============================] - 69s 22ms/step - loss: 1.2018 - auc_5: 0.5110 - precision_5: 0.5013 - recall_5: 0.9827 - accuracy: 0.0000e+00 - val_loss: 1.1484 - val_auc_5: 0.5000 - val_precision_5: 0.0924 - val_recall_5: 1.0000 - val_accuracy: 0.0000e+00\n",
      "Epoch 2/20\n",
      "3109/3109 [==============================] - 68s 22ms/step - loss: 1.0896 - auc_5: 0.4992 - precision_5: 0.5000 - recall_5: 0.9898 - accuracy: 0.0000e+00 - val_loss: 1.0113 - val_auc_5: 0.5000 - val_precision_5: 0.0924 - val_recall_5: 1.0000 - val_accuracy: 0.0000e+00\n",
      "Epoch 3/20\n",
      "3109/3109 [==============================] - 67s 22ms/step - loss: 1.0587 - auc_5: 0.4991 - precision_5: 0.5001 - recall_5: 0.9927 - accuracy: 0.0000e+00 - val_loss: 1.0866 - val_auc_5: 0.5000 - val_precision_5: 0.0924 - val_recall_5: 1.0000 - val_accuracy: 0.0000e+00\n",
      "Epoch 4/20\n",
      "3109/3109 [==============================] - 67s 22ms/step - loss: 1.4057 - auc_5: 0.4965 - precision_5: 0.4997 - recall_5: 0.9854 - accuracy: 0.0000e+00 - val_loss: 1.4096 - val_auc_5: 0.5000 - val_precision_5: 0.0924 - val_recall_5: 1.0000 - val_accuracy: 0.0000e+00\n",
      "Epoch 5/20\n",
      "3109/3109 [==============================] - 67s 22ms/step - loss: 1.2720 - auc_5: 0.4972 - precision_5: 0.4996 - recall_5: 0.9836 - accuracy: 0.0000e+00 - val_loss: 1.1163 - val_auc_5: 0.5000 - val_precision_5: 0.0924 - val_recall_5: 1.0000 - val_accuracy: 0.0000e+00\n",
      "Epoch 6/20\n",
      "3109/3109 [==============================] - 67s 21ms/step - loss: 1.2869 - auc_5: 0.4975 - precision_5: 0.5002 - recall_5: 0.9885 - accuracy: 0.0000e+00 - val_loss: 1.2522 - val_auc_5: 0.5000 - val_precision_5: 0.0924 - val_recall_5: 1.0000 - val_accuracy: 0.0000e+00\n",
      "Epoch 7/20\n",
      "3109/3109 [==============================] - 67s 21ms/step - loss: 1.0630 - auc_5: 0.4979 - precision_5: 0.5000 - recall_5: 0.9908 - accuracy: 0.0000e+00 - val_loss: 1.0510 - val_auc_5: 0.5000 - val_precision_5: 0.0924 - val_recall_5: 1.0000 - val_accuracy: 0.0000e+00\n",
      "Epoch 8/20\n",
      "3109/3109 [==============================] - 67s 21ms/step - loss: 1.1817 - auc_5: 0.5021 - precision_5: 0.4999 - recall_5: 0.9865 - accuracy: 2.0107e-05 - val_loss: 1.4053 - val_auc_5: 0.5000 - val_precision_5: 0.0924 - val_recall_5: 1.0000 - val_accuracy: 0.0000e+00\n",
      "Epoch 9/20\n",
      "3109/3109 [==============================] - 67s 21ms/step - loss: 1.1966 - auc_5: 0.4993 - precision_5: 0.5000 - recall_5: 0.9910 - accuracy: 0.0000e+00 - val_loss: 1.2578 - val_auc_5: 0.5000 - val_precision_5: 0.0924 - val_recall_5: 1.0000 - val_accuracy: 0.0000e+00\n",
      "Epoch 10/20\n",
      "3109/3109 [==============================] - 67s 21ms/step - loss: 1.3058 - auc_5: 0.4994 - precision_5: 0.4999 - recall_5: 0.9865 - accuracy: 1.0053e-05 - val_loss: 1.3139 - val_auc_5: 0.5000 - val_precision_5: 0.0924 - val_recall_5: 1.0000 - val_accuracy: 0.0000e+00\n",
      "Epoch 11/20\n",
      "3109/3109 [==============================] - 67s 22ms/step - loss: 1.0601 - auc_5: 0.5006 - precision_5: 0.5001 - recall_5: 0.9897 - accuracy: 0.0000e+00 - val_loss: 1.3300 - val_auc_5: 0.5000 - val_precision_5: 0.0924 - val_recall_5: 1.0000 - val_accuracy: 0.0000e+00\n",
      "Epoch 12/20\n",
      "3109/3109 [==============================] - 67s 22ms/step - loss: 1.0613 - auc_5: 0.4987 - precision_5: 0.5001 - recall_5: 0.9921 - accuracy: 0.0000e+00 - val_loss: 1.1534 - val_auc_5: 0.5000 - val_precision_5: 0.0924 - val_recall_5: 1.0000 - val_accuracy: 0.0000e+00\n",
      "Epoch 13/20\n",
      "3109/3109 [==============================] - 67s 22ms/step - loss: 1.0995 - auc_5: 0.5010 - precision_5: 0.4999 - recall_5: 0.9886 - accuracy: 0.0000e+00 - val_loss: 1.6129 - val_auc_5: 0.5000 - val_precision_5: 0.0924 - val_recall_5: 1.0000 - val_accuracy: 0.0000e+00\n",
      "Epoch 14/20\n",
      "3109/3109 [==============================] - 67s 22ms/step - loss: 1.1512 - auc_5: 0.4989 - precision_5: 0.4999 - recall_5: 0.9855 - accuracy: 0.0000e+00 - val_loss: 1.2658 - val_auc_5: 0.5000 - val_precision_5: 0.0924 - val_recall_5: 1.0000 - val_accuracy: 0.0000e+00\n",
      "Epoch 15/20\n",
      "3109/3109 [==============================] - 67s 22ms/step - loss: 1.0609 - auc_5: 0.5023 - precision_5: 0.4998 - recall_5: 0.9868 - accuracy: 0.0000e+00 - val_loss: 1.1234 - val_auc_5: 0.5000 - val_precision_5: 0.0924 - val_recall_5: 1.0000 - val_accuracy: 0.0000e+00\n",
      "Epoch 16/20\n",
      "3109/3109 [==============================] - 67s 21ms/step - loss: 1.0600 - auc_5: 0.5036 - precision_5: 0.4998 - recall_5: 0.9883 - accuracy: 0.0000e+00 - val_loss: 1.1602 - val_auc_5: 0.5000 - val_precision_5: 0.0924 - val_recall_5: 1.0000 - val_accuracy: 0.0000e+00\n",
      "Epoch 17/20\n",
      "3109/3109 [==============================] - 67s 21ms/step - loss: 1.3032 - auc_5: 0.4978 - precision_5: 0.5002 - recall_5: 0.9937 - accuracy: 0.0000e+00 - val_loss: 0.9730 - val_auc_5: 0.5000 - val_precision_5: 0.0924 - val_recall_5: 1.0000 - val_accuracy: 0.0000e+00\n",
      "Epoch 18/20\n",
      "3109/3109 [==============================] - 66s 21ms/step - loss: 1.0640 - auc_5: 0.5007 - precision_5: 0.5003 - recall_5: 0.9861 - accuracy: 0.0000e+00 - val_loss: 1.4479 - val_auc_5: 0.5000 - val_precision_5: 0.0924 - val_recall_5: 1.0000 - val_accuracy: 0.0000e+00\n",
      "Epoch 19/20\n",
      "3109/3109 [==============================] - 67s 22ms/step - loss: 1.2076 - auc_5: 0.5012 - precision_5: 0.5001 - recall_5: 0.9893 - accuracy: 0.0000e+00 - val_loss: 1.3670 - val_auc_5: 0.5000 - val_precision_5: 0.0924 - val_recall_5: 1.0000 - val_accuracy: 0.0000e+00\n",
      "Epoch 20/20\n",
      "3109/3109 [==============================] - 68s 22ms/step - loss: 1.0593 - auc_5: 0.4992 - precision_5: 0.5001 - recall_5: 0.9934 - accuracy: 0.0000e+00 - val_loss: 1.0654 - val_auc_5: 0.5000 - val_precision_5: 0.0924 - val_recall_5: 1.0000 - val_accuracy: 0.0000e+00\n",
      "416/416 [==============================] - 1s 3ms/step\n"
     ]
    },
    {
     "name": "stderr",
     "output_type": "stream",
     "text": [
      "[I 2024-02-21 04:58:19,709] Trial 3 finished with value: 0.16908578111027034 and parameters: {'num_of_layers': 5, 'num_of_neurons': 3, 'dropout': 0.3865562111358516, 'l2': 0.02666152460498128, 'learning_rate': 0.26874191889763427, 'scale_pos_weight_multiplier': 4}. Best is trial 2 with value: 0.7263681592039801.\n"
     ]
    },
    {
     "name": "stdout",
     "output_type": "stream",
     "text": [
      "Epoch 1/20\n",
      "3109/3109 [==============================] - 44s 14ms/step - loss: 0.5678 - auc_6: 0.9347 - precision_6: 0.7764 - recall_6: 0.9379 - accuracy: 1.4075e-04 - val_loss: 1.3160 - val_auc_6: 0.9383 - val_precision_6: 0.1674 - val_recall_6: 0.9899 - val_accuracy: 0.0000e+00\n",
      "Epoch 2/20\n",
      "3109/3109 [==============================] - 41s 13ms/step - loss: 0.5327 - auc_6: 0.9368 - precision_6: 0.7815 - recall_6: 0.9392 - accuracy: 2.3123e-04 - val_loss: 0.4426 - val_auc_6: 0.9446 - val_precision_6: 0.3151 - val_recall_6: 0.9069 - val_accuracy: 0.0000e+00\n",
      "Epoch 3/20\n",
      "3109/3109 [==============================] - 41s 13ms/step - loss: 0.5302 - auc_6: 0.9370 - precision_6: 0.7805 - recall_6: 0.9390 - accuracy: 2.1112e-04 - val_loss: 0.5617 - val_auc_6: 0.9478 - val_precision_6: 0.2587 - val_recall_6: 0.9576 - val_accuracy: 0.0000e+00\n",
      "Epoch 4/20\n",
      "3109/3109 [==============================] - 41s 13ms/step - loss: 0.5314 - auc_6: 0.9367 - precision_6: 0.7813 - recall_6: 0.9386 - accuracy: 1.8096e-04 - val_loss: 0.9669 - val_auc_6: 0.9458 - val_precision_6: 0.1823 - val_recall_6: 0.9880 - val_accuracy: 0.0000e+00\n",
      "Epoch 5/20\n",
      "3109/3109 [==============================] - 41s 13ms/step - loss: 0.5355 - auc_6: 0.9355 - precision_6: 0.7787 - recall_6: 0.9382 - accuracy: 3.8203e-04 - val_loss: 0.9455 - val_auc_6: 0.9425 - val_precision_6: 0.1910 - val_recall_6: 0.9797 - val_accuracy: 0.0000e+00\n",
      "Epoch 6/20\n",
      "3109/3109 [==============================] - 42s 13ms/step - loss: 0.5283 - auc_6: 0.9373 - precision_6: 0.7811 - recall_6: 0.9399 - accuracy: 6.8364e-04 - val_loss: 0.4975 - val_auc_6: 0.9467 - val_precision_6: 0.2825 - val_recall_6: 0.9410 - val_accuracy: 0.0000e+00\n",
      "Epoch 7/20\n",
      "3109/3109 [==============================] - 42s 13ms/step - loss: 0.5314 - auc_6: 0.9365 - precision_6: 0.7819 - recall_6: 0.9382 - accuracy: 4.0214e-04 - val_loss: 0.8048 - val_auc_6: 0.9458 - val_precision_6: 0.2094 - val_recall_6: 0.9742 - val_accuracy: 0.0000e+00\n",
      "Epoch 8/20\n",
      "3109/3109 [==============================] - 42s 14ms/step - loss: 0.5282 - auc_6: 0.9373 - precision_6: 0.7820 - recall_6: 0.9373 - accuracy: 5.4289e-04 - val_loss: 1.9715 - val_auc_6: 0.9297 - val_precision_6: 0.1275 - val_recall_6: 1.0000 - val_accuracy: 0.0000e+00\n",
      "Epoch 9/20\n",
      "3109/3109 [==============================] - 42s 14ms/step - loss: 0.5254 - auc_6: 0.9372 - precision_6: 0.7811 - recall_6: 0.9392 - accuracy: 0.0010 - val_loss: 0.3211 - val_auc_6: 0.9471 - val_precision_6: 0.3976 - val_recall_6: 0.8461 - val_accuracy: 0.0000e+00\n",
      "Epoch 10/20\n",
      "3109/3109 [==============================] - 42s 14ms/step - loss: 0.5306 - auc_6: 0.9360 - precision_6: 0.7786 - recall_6: 0.9389 - accuracy: 9.0481e-04 - val_loss: 0.5857 - val_auc_6: 0.9457 - val_precision_6: 0.2640 - val_recall_6: 0.9484 - val_accuracy: 0.0000e+00\n",
      "Epoch 11/20\n",
      "3109/3109 [==============================] - 42s 14ms/step - loss: 0.5304 - auc_6: 0.9355 - precision_6: 0.7781 - recall_6: 0.9380 - accuracy: 5.4289e-04 - val_loss: 0.8795 - val_auc_6: 0.9446 - val_precision_6: 0.2090 - val_recall_6: 0.9760 - val_accuracy: 0.0000e+00\n",
      "Epoch 12/20\n",
      "3109/3109 [==============================] - 42s 14ms/step - loss: 0.5326 - auc_6: 0.9354 - precision_6: 0.7767 - recall_6: 0.9384 - accuracy: 7.8417e-04 - val_loss: 0.3325 - val_auc_6: 0.9449 - val_precision_6: 0.3777 - val_recall_6: 0.8581 - val_accuracy: 0.0000e+00\n",
      "Epoch 13/20\n",
      "3109/3109 [==============================] - 42s 13ms/step - loss: 0.5319 - auc_6: 0.9355 - precision_6: 0.7781 - recall_6: 0.9397 - accuracy: 0.0012 - val_loss: 0.6247 - val_auc_6: 0.9469 - val_precision_6: 0.2486 - val_recall_6: 0.9613 - val_accuracy: 0.0000e+00\n",
      "Epoch 14/20\n",
      "3109/3109 [==============================] - 42s 13ms/step - loss: 0.5347 - auc_6: 0.9343 - precision_6: 0.7751 - recall_6: 0.9387 - accuracy: 0.0013 - val_loss: 0.1779 - val_auc_6: 0.9430 - val_precision_6: 0.7713 - val_recall_6: 0.6092 - val_accuracy: 0.0000e+00\n",
      "Epoch 15/20\n",
      "3109/3109 [==============================] - 42s 13ms/step - loss: 0.5335 - auc_6: 0.9344 - precision_6: 0.7747 - recall_6: 0.9394 - accuracy: 0.0011 - val_loss: 0.2362 - val_auc_6: 0.9463 - val_precision_6: 0.5311 - val_recall_6: 0.7724 - val_accuracy: 0.0000e+00\n",
      "Epoch 16/20\n",
      "3109/3109 [==============================] - 42s 14ms/step - loss: 0.5370 - auc_6: 0.9338 - precision_6: 0.7758 - recall_6: 0.9395 - accuracy: 0.0012 - val_loss: 1.1636 - val_auc_6: 0.9405 - val_precision_6: 0.1777 - val_recall_6: 0.9880 - val_accuracy: 0.0000e+00\n",
      "Epoch 17/20\n",
      "3109/3109 [==============================] - 42s 13ms/step - loss: 0.5376 - auc_6: 0.9341 - precision_6: 0.7740 - recall_6: 0.9392 - accuracy: 9.4503e-04 - val_loss: 1.6236 - val_auc_6: 0.9432 - val_precision_6: 0.1285 - val_recall_6: 1.0000 - val_accuracy: 0.0000e+00\n",
      "Epoch 18/20\n",
      "3109/3109 [==============================] - 42s 14ms/step - loss: 0.5345 - auc_6: 0.9343 - precision_6: 0.7745 - recall_6: 0.9393 - accuracy: 6.3337e-04 - val_loss: 1.1875 - val_auc_6: 0.9419 - val_precision_6: 0.1744 - val_recall_6: 0.9908 - val_accuracy: 0.0000e+00\n",
      "Epoch 19/20\n",
      "3109/3109 [==============================] - 42s 13ms/step - loss: 0.5377 - auc_6: 0.9339 - precision_6: 0.7726 - recall_6: 0.9393 - accuracy: 8.4449e-04 - val_loss: 0.6291 - val_auc_6: 0.9457 - val_precision_6: 0.2357 - val_recall_6: 0.9613 - val_accuracy: 0.0000e+00\n",
      "Epoch 20/20\n",
      "3109/3109 [==============================] - 42s 13ms/step - loss: 0.5420 - auc_6: 0.9326 - precision_6: 0.7703 - recall_6: 0.9394 - accuracy: 5.5294e-04 - val_loss: 0.5401 - val_auc_6: 0.9460 - val_precision_6: 0.2684 - val_recall_6: 0.9493 - val_accuracy: 0.0000e+00\n",
      "416/416 [==============================] - 1s 2ms/step\n"
     ]
    },
    {
     "name": "stderr",
     "output_type": "stream",
     "text": [
      "[I 2024-02-21 05:12:18,073] Trial 4 finished with value: 0.7120605251446371 and parameters: {'num_of_layers': 2, 'num_of_neurons': 6, 'dropout': 0.5449791070270796, 'l2': 0.005130747004717992, 'learning_rate': 0.018565945857148915, 'scale_pos_weight_multiplier': 4}. Best is trial 2 with value: 0.7263681592039801.\n"
     ]
    },
    {
     "name": "stdout",
     "output_type": "stream",
     "text": [
      "Epoch 1/20\n",
      "3109/3109 [==============================] - 43s 14ms/step - loss: 0.7578 - auc_7: 0.9309 - precision_7: 0.7470 - recall_7: 0.9522 - accuracy: 9.9530e-04 - val_loss: 0.6381 - val_auc_7: 0.9466 - val_precision_7: 0.2409 - val_recall_7: 0.9650 - val_accuracy: 0.0000e+00\n",
      "Epoch 2/20\n",
      "3109/3109 [==============================] - 42s 13ms/step - loss: 0.5873 - auc_7: 0.9375 - precision_7: 0.7533 - recall_7: 0.9574 - accuracy: 0.0020 - val_loss: 1.6054 - val_auc_7: 0.9395 - val_precision_7: 0.1365 - val_recall_7: 0.9991 - val_accuracy: 0.0000e+00\n",
      "Epoch 3/20\n",
      "3109/3109 [==============================] - 41s 13ms/step - loss: 0.5912 - auc_7: 0.9364 - precision_7: 0.7491 - recall_7: 0.9582 - accuracy: 0.0024 - val_loss: 0.1943 - val_auc_7: 0.9468 - val_precision_7: 0.6476 - val_recall_7: 0.7078 - val_accuracy: 0.0000e+00\n",
      "Epoch 4/20\n",
      "3109/3109 [==============================] - 42s 13ms/step - loss: 0.5955 - auc_7: 0.9352 - precision_7: 0.7453 - recall_7: 0.9584 - accuracy: 0.0018 - val_loss: 2.0418 - val_auc_7: 0.9272 - val_precision_7: 0.1260 - val_recall_7: 1.0000 - val_accuracy: 0.0000e+00\n",
      "Epoch 5/20\n",
      "3109/3109 [==============================] - 42s 13ms/step - loss: 0.5999 - auc_7: 0.9342 - precision_7: 0.7430 - recall_7: 0.9583 - accuracy: 0.0018 - val_loss: 0.4583 - val_auc_7: 0.9456 - val_precision_7: 0.2936 - val_recall_7: 0.9309 - val_accuracy: 0.0000e+00\n",
      "Epoch 6/20\n",
      "3109/3109 [==============================] - 42s 13ms/step - loss: 0.5992 - auc_7: 0.9339 - precision_7: 0.7427 - recall_7: 0.9586 - accuracy: 0.0020 - val_loss: 1.4683 - val_auc_7: 0.9404 - val_precision_7: 0.1476 - val_recall_7: 1.0000 - val_accuracy: 0.0000e+00\n",
      "Epoch 7/20\n",
      "3109/3109 [==============================] - 42s 14ms/step - loss: 0.5977 - auc_7: 0.9343 - precision_7: 0.7437 - recall_7: 0.9587 - accuracy: 0.0018 - val_loss: 0.2821 - val_auc_7: 0.9471 - val_precision_7: 0.4483 - val_recall_7: 0.8194 - val_accuracy: 0.0000e+00\n",
      "Epoch 8/20\n",
      "3109/3109 [==============================] - 41s 13ms/step - loss: 0.6025 - auc_7: 0.9329 - precision_7: 0.7413 - recall_7: 0.9593 - accuracy: 0.0016 - val_loss: 4.9778 - val_auc_7: 0.7192 - val_precision_7: 0.0932 - val_recall_7: 1.0000 - val_accuracy: 8.5157e-05\n",
      "Epoch 9/20\n",
      "3109/3109 [==============================] - 41s 13ms/step - loss: 0.6022 - auc_7: 0.9326 - precision_7: 0.7374 - recall_7: 0.9582 - accuracy: 0.0016 - val_loss: 0.4012 - val_auc_7: 0.9475 - val_precision_7: 0.3218 - val_recall_7: 0.9060 - val_accuracy: 0.0000e+00\n",
      "Epoch 10/20\n",
      "3109/3109 [==============================] - 41s 13ms/step - loss: 0.5954 - auc_7: 0.9341 - precision_7: 0.7417 - recall_7: 0.9592 - accuracy: 0.0021 - val_loss: 0.4780 - val_auc_7: 0.9456 - val_precision_7: 0.2817 - val_recall_7: 0.9355 - val_accuracy: 0.0000e+00\n",
      "Epoch 11/20\n",
      "3109/3109 [==============================] - 42s 13ms/step - loss: 0.5973 - auc_7: 0.9340 - precision_7: 0.7413 - recall_7: 0.9599 - accuracy: 0.0019 - val_loss: 0.1746 - val_auc_7: 0.9446 - val_precision_7: 0.8891 - val_recall_7: 0.5171 - val_accuracy: 0.0000e+00\n",
      "Epoch 12/20\n",
      "3109/3109 [==============================] - 41s 13ms/step - loss: 0.6030 - auc_7: 0.9323 - precision_7: 0.7378 - recall_7: 0.9595 - accuracy: 0.0025 - val_loss: 0.2433 - val_auc_7: 0.9457 - val_precision_7: 0.5130 - val_recall_7: 0.7816 - val_accuracy: 0.0000e+00\n",
      "Epoch 13/20\n",
      "3109/3109 [==============================] - 42s 13ms/step - loss: 0.6039 - auc_7: 0.9319 - precision_7: 0.7370 - recall_7: 0.9592 - accuracy: 0.0027 - val_loss: 0.5764 - val_auc_7: 0.7004 - val_precision_7: 1.0000 - val_recall_7: 0.0120 - val_accuracy: 0.0000e+00\n",
      "Epoch 14/20\n",
      "3109/3109 [==============================] - 42s 13ms/step - loss: 0.6041 - auc_7: 0.9322 - precision_7: 0.7368 - recall_7: 0.9596 - accuracy: 0.0029 - val_loss: 4.3837 - val_auc_7: 0.7726 - val_precision_7: 0.0981 - val_recall_7: 1.0000 - val_accuracy: 0.0039\n",
      "Epoch 15/20\n",
      "3109/3109 [==============================] - 42s 13ms/step - loss: 0.6045 - auc_7: 0.9320 - precision_7: 0.7380 - recall_7: 0.9584 - accuracy: 0.0025 - val_loss: 0.1724 - val_auc_7: 0.9448 - val_precision_7: 0.9429 - val_recall_7: 0.5023 - val_accuracy: 0.0000e+00\n",
      "Epoch 16/20\n",
      "3109/3109 [==============================] - 42s 13ms/step - loss: 0.6019 - auc_7: 0.9324 - precision_7: 0.7364 - recall_7: 0.9584 - accuracy: 0.0026 - val_loss: 1.8277 - val_auc_7: 0.9361 - val_precision_7: 0.1274 - val_recall_7: 1.0000 - val_accuracy: 0.0000e+00\n",
      "Epoch 17/20\n",
      "3109/3109 [==============================] - 42s 14ms/step - loss: 0.6019 - auc_7: 0.9326 - precision_7: 0.7375 - recall_7: 0.9590 - accuracy: 0.0025 - val_loss: 0.1809 - val_auc_7: 0.9400 - val_precision_7: 0.9366 - val_recall_7: 0.5041 - val_accuracy: 0.0000e+00\n",
      "Epoch 18/20\n",
      "3109/3109 [==============================] - 42s 14ms/step - loss: 0.6042 - auc_7: 0.9324 - precision_7: 0.7372 - recall_7: 0.9599 - accuracy: 0.0026 - val_loss: 0.1845 - val_auc_7: 0.9466 - val_precision_7: 0.6986 - val_recall_7: 0.6857 - val_accuracy: 0.0000e+00\n",
      "Epoch 19/20\n",
      "3109/3109 [==============================] - 42s 14ms/step - loss: 0.6026 - auc_7: 0.9322 - precision_7: 0.7377 - recall_7: 0.9591 - accuracy: 0.0029 - val_loss: 3.5281 - val_auc_7: 0.8455 - val_precision_7: 0.1014 - val_recall_7: 1.0000 - val_accuracy: 8.5157e-05\n",
      "Epoch 20/20\n",
      "3109/3109 [==============================] - 42s 14ms/step - loss: 0.6051 - auc_7: 0.9320 - precision_7: 0.7358 - recall_7: 0.9598 - accuracy: 0.0023 - val_loss: 5.0603 - val_auc_7: 0.7213 - val_precision_7: 0.0933 - val_recall_7: 1.0000 - val_accuracy: 0.0044\n",
      "416/416 [==============================] - 1s 2ms/step\n"
     ]
    },
    {
     "name": "stderr",
     "output_type": "stream",
     "text": [
      "[I 2024-02-21 05:26:15,509] Trial 5 finished with value: 0.724438331040807 and parameters: {'num_of_layers': 2, 'num_of_neurons': 5, 'dropout': 0.5354548780798831, 'l2': 0.1574306043299607, 'learning_rate': 0.0037076670737163893, 'scale_pos_weight_multiplier': 3}. Best is trial 2 with value: 0.7263681592039801.\n"
     ]
    },
    {
     "name": "stdout",
     "output_type": "stream",
     "text": [
      "Epoch 1/20\n",
      "3109/3109 [==============================] - 69s 22ms/step - loss: 2.7567 - auc_8: 0.4983 - precision_8: 0.4999 - recall_8: 0.9950 - accuracy: 1.0053e-05 - val_loss: 2.4480 - val_auc_8: 0.5000 - val_precision_8: 0.0924 - val_recall_8: 1.0000 - val_accuracy: 0.0000e+00\n",
      "Epoch 2/20\n",
      "3109/3109 [==============================] - 68s 22ms/step - loss: 2.0368 - auc_8: 0.4993 - precision_8: 0.5001 - recall_8: 0.9982 - accuracy: 0.0000e+00 - val_loss: 2.2191 - val_auc_8: 0.5000 - val_precision_8: 0.0924 - val_recall_8: 1.0000 - val_accuracy: 0.0000e+00\n",
      "Epoch 3/20\n",
      "3109/3109 [==============================] - 67s 22ms/step - loss: 2.4509 - auc_8: 0.5014 - precision_8: 0.5001 - recall_8: 0.9958 - accuracy: 2.0107e-05 - val_loss: 2.9717 - val_auc_8: 0.5000 - val_precision_8: 0.0924 - val_recall_8: 1.0000 - val_accuracy: 0.0000e+00\n",
      "Epoch 4/20\n",
      "3109/3109 [==============================] - 67s 22ms/step - loss: 2.3856 - auc_8: 0.4979 - precision_8: 0.5000 - recall_8: 0.9971 - accuracy: 0.0000e+00 - val_loss: 1.7512 - val_auc_8: 0.5000 - val_precision_8: 0.0924 - val_recall_8: 1.0000 - val_accuracy: 0.0000e+00\n",
      "Epoch 5/20\n",
      "3109/3109 [==============================] - 67s 22ms/step - loss: 2.0626 - auc_8: 0.5038 - precision_8: 0.5000 - recall_8: 0.9974 - accuracy: 2.0107e-05 - val_loss: 1.9229 - val_auc_8: 0.5000 - val_precision_8: 0.0924 - val_recall_8: 1.0000 - val_accuracy: 0.0000e+00\n",
      "Epoch 6/20\n",
      "3109/3109 [==============================] - 67s 22ms/step - loss: 2.3070 - auc_8: 0.4993 - precision_8: 0.5000 - recall_8: 0.9970 - accuracy: 2.0107e-05 - val_loss: 2.6271 - val_auc_8: 0.5000 - val_precision_8: 0.0924 - val_recall_8: 1.0000 - val_accuracy: 0.0000e+00\n",
      "Epoch 7/20\n",
      "3109/3109 [==============================] - 67s 21ms/step - loss: 2.7904 - auc_8: 0.5029 - precision_8: 0.4999 - recall_8: 0.9972 - accuracy: 7.0374e-05 - val_loss: 2.3974 - val_auc_8: 0.5000 - val_precision_8: 0.0924 - val_recall_8: 1.0000 - val_accuracy: 0.0000e+00\n",
      "Epoch 8/20\n",
      "3109/3109 [==============================] - 67s 22ms/step - loss: 2.3702 - auc_8: 0.5007 - precision_8: 0.5000 - recall_8: 0.9961 - accuracy: 4.0214e-05 - val_loss: 7.2471 - val_auc_8: 0.5000 - val_precision_8: 0.0924 - val_recall_8: 1.0000 - val_accuracy: 0.0000e+00\n",
      "Epoch 9/20\n",
      "3109/3109 [==============================] - 67s 22ms/step - loss: 2.3557 - auc_8: 0.5000 - precision_8: 0.5000 - recall_8: 0.9970 - accuracy: 1.0053e-05 - val_loss: 3.2907 - val_auc_8: 0.5000 - val_precision_8: 0.0924 - val_recall_8: 1.0000 - val_accuracy: 0.0000e+00\n",
      "Epoch 10/20\n",
      "3109/3109 [==============================] - 67s 21ms/step - loss: 2.2275 - auc_8: 0.5026 - precision_8: 0.5000 - recall_8: 0.9984 - accuracy: 0.0000e+00 - val_loss: 1.8092 - val_auc_8: 0.5000 - val_precision_8: 0.0924 - val_recall_8: 1.0000 - val_accuracy: 0.0000e+00\n",
      "Epoch 11/20\n",
      "3109/3109 [==============================] - 66s 21ms/step - loss: 2.3814 - auc_8: 0.5004 - precision_8: 0.5000 - recall_8: 0.9971 - accuracy: 2.0107e-05 - val_loss: 11.4367 - val_auc_8: 0.5000 - val_precision_8: 0.0924 - val_recall_8: 1.0000 - val_accuracy: 0.0000e+00\n",
      "Epoch 12/20\n",
      "3109/3109 [==============================] - 67s 22ms/step - loss: 2.4425 - auc_8: 0.4991 - precision_8: 0.5001 - recall_8: 0.9967 - accuracy: 2.0107e-05 - val_loss: 2.6787 - val_auc_8: 0.5000 - val_precision_8: 0.0924 - val_recall_8: 1.0000 - val_accuracy: 0.0000e+00\n",
      "Epoch 13/20\n",
      "3109/3109 [==============================] - 68s 22ms/step - loss: 2.2915 - auc_8: 0.4982 - precision_8: 0.5000 - recall_8: 0.9980 - accuracy: 0.0000e+00 - val_loss: 2.5736 - val_auc_8: 0.5000 - val_precision_8: 0.0924 - val_recall_8: 1.0000 - val_accuracy: 0.0000e+00\n",
      "Epoch 14/20\n",
      "3109/3109 [==============================] - 67s 22ms/step - loss: 2.5205 - auc_8: 0.4992 - precision_8: 0.5001 - recall_8: 0.9981 - accuracy: 5.0267e-05 - val_loss: 1.9491 - val_auc_8: 0.5000 - val_precision_8: 0.0924 - val_recall_8: 1.0000 - val_accuracy: 0.0000e+00\n",
      "Epoch 15/20\n",
      "3109/3109 [==============================] - 67s 22ms/step - loss: 3.5269 - auc_8: 0.4999 - precision_8: 0.5001 - recall_8: 0.9958 - accuracy: 9.0481e-05 - val_loss: 4.6754 - val_auc_8: 0.5000 - val_precision_8: 0.0924 - val_recall_8: 1.0000 - val_accuracy: 0.0000e+00\n",
      "Epoch 16/20\n",
      "3109/3109 [==============================] - 68s 22ms/step - loss: 2.5045 - auc_8: 0.5002 - precision_8: 0.5000 - recall_8: 0.9975 - accuracy: 1.0053e-05 - val_loss: 1.7993 - val_auc_8: 0.5000 - val_precision_8: 0.0924 - val_recall_8: 1.0000 - val_accuracy: 0.0000e+00\n",
      "Epoch 17/20\n",
      "3109/3109 [==============================] - 68s 22ms/step - loss: 2.1191 - auc_8: 0.5006 - precision_8: 0.5000 - recall_8: 0.9976 - accuracy: 0.0000e+00 - val_loss: 2.1130 - val_auc_8: 0.5000 - val_precision_8: 0.0924 - val_recall_8: 1.0000 - val_accuracy: 0.0000e+00\n",
      "Epoch 18/20\n",
      "3109/3109 [==============================] - 67s 21ms/step - loss: 2.2378 - auc_8: 0.5024 - precision_8: 0.5000 - recall_8: 0.9980 - accuracy: 0.0000e+00 - val_loss: 2.4487 - val_auc_8: 0.5000 - val_precision_8: 0.0924 - val_recall_8: 1.0000 - val_accuracy: 0.0000e+00\n",
      "Epoch 19/20\n",
      "3109/3109 [==============================] - 67s 22ms/step - loss: 2.3316 - auc_8: 0.5005 - precision_8: 0.5000 - recall_8: 0.9984 - accuracy: 3.0160e-05 - val_loss: 2.9380 - val_auc_8: 0.5000 - val_precision_8: 0.0924 - val_recall_8: 1.0000 - val_accuracy: 0.0000e+00\n",
      "Epoch 20/20\n",
      "3109/3109 [==============================] - 67s 22ms/step - loss: 3.2932 - auc_8: 0.5011 - precision_8: 0.5001 - recall_8: 0.9973 - accuracy: 3.0160e-05 - val_loss: 1.9538 - val_auc_8: 0.5000 - val_precision_8: 0.0924 - val_recall_8: 1.0000 - val_accuracy: 0.0000e+00\n",
      "416/416 [==============================] - 1s 3ms/step\n"
     ]
    },
    {
     "name": "stderr",
     "output_type": "stream",
     "text": [
      "[I 2024-02-21 05:48:43,558] Trial 6 finished with value: 0.16908578111027034 and parameters: {'num_of_layers': 5, 'num_of_neurons': 4, 'dropout': 0.4476928683395615, 'l2': 3.984518648058017, 'learning_rate': 0.19327945225642865, 'scale_pos_weight_multiplier': 2}. Best is trial 2 with value: 0.7263681592039801.\n"
     ]
    },
    {
     "name": "stdout",
     "output_type": "stream",
     "text": [
      "Epoch 1/20\n",
      "3109/3109 [==============================] - 42s 13ms/step - loss: 0.7823 - auc_9: 0.9275 - precision_9: 0.7024 - recall_9: 0.9726 - accuracy: 0.0017 - val_loss: 0.4680 - val_auc_9: 0.9475 - val_precision_9: 0.3054 - val_recall_9: 0.9281 - val_accuracy: 0.0000e+00\n",
      "Epoch 2/20\n",
      "3109/3109 [==============================] - 42s 13ms/step - loss: 0.7225 - auc_9: 0.9306 - precision_9: 0.6991 - recall_9: 0.9728 - accuracy: 0.0022 - val_loss: 0.6999 - val_auc_9: 0.9423 - val_precision_9: 0.2351 - val_recall_9: 0.9604 - val_accuracy: 0.0000e+00\n",
      "Epoch 3/20\n",
      "3109/3109 [==============================] - 42s 13ms/step - loss: 0.7273 - auc_9: 0.9295 - precision_9: 0.6992 - recall_9: 0.9733 - accuracy: 0.0019 - val_loss: 0.6483 - val_auc_9: 0.9442 - val_precision_9: 0.2319 - val_recall_9: 0.9622 - val_accuracy: 0.0000e+00\n",
      "Epoch 4/20\n",
      "3109/3109 [==============================] - 41s 13ms/step - loss: 0.7323 - auc_9: 0.9281 - precision_9: 0.6949 - recall_9: 0.9739 - accuracy: 0.0023 - val_loss: 0.5194 - val_auc_9: 0.9410 - val_precision_9: 0.2655 - val_recall_9: 0.9336 - val_accuracy: 0.0000e+00\n",
      "Epoch 5/20\n",
      "3109/3109 [==============================] - 42s 13ms/step - loss: 0.7392 - auc_9: 0.9264 - precision_9: 0.6896 - recall_9: 0.9745 - accuracy: 0.0019 - val_loss: 0.4777 - val_auc_9: 0.9456 - val_precision_9: 0.2975 - val_recall_9: 0.9281 - val_accuracy: 0.0000e+00\n",
      "Epoch 6/20\n",
      "3109/3109 [==============================] - 42s 13ms/step - loss: 0.7408 - auc_9: 0.9262 - precision_9: 0.6896 - recall_9: 0.9744 - accuracy: 0.0016 - val_loss: 1.6339 - val_auc_9: 0.9313 - val_precision_9: 0.1387 - val_recall_9: 1.0000 - val_accuracy: 0.0000e+00\n",
      "Epoch 7/20\n",
      "3109/3109 [==============================] - 42s 13ms/step - loss: 0.7476 - auc_9: 0.9244 - precision_9: 0.6851 - recall_9: 0.9746 - accuracy: 0.0022 - val_loss: 0.3894 - val_auc_9: 0.9446 - val_precision_9: 0.3481 - val_recall_9: 0.8765 - val_accuracy: 0.0000e+00\n",
      "Epoch 8/20\n",
      "3109/3109 [==============================] - 41s 13ms/step - loss: 0.7725 - auc_9: 0.9160 - precision_9: 0.6733 - recall_9: 0.9754 - accuracy: 0.0020 - val_loss: 1.1026 - val_auc_9: 0.9370 - val_precision_9: 0.1601 - val_recall_9: 0.9899 - val_accuracy: 0.0000e+00\n",
      "Epoch 9/20\n",
      "3109/3109 [==============================] - 41s 13ms/step - loss: 0.7734 - auc_9: 0.9160 - precision_9: 0.6737 - recall_9: 0.9754 - accuracy: 0.0018 - val_loss: 0.5454 - val_auc_9: 0.9426 - val_precision_9: 0.2499 - val_recall_9: 0.9493 - val_accuracy: 0.0000e+00\n",
      "Epoch 10/20\n",
      "3109/3109 [==============================] - 41s 13ms/step - loss: 0.7747 - auc_9: 0.9160 - precision_9: 0.6720 - recall_9: 0.9761 - accuracy: 0.0021 - val_loss: 0.3945 - val_auc_9: 0.8337 - val_precision_9: 1.0000 - val_recall_9: 0.0894 - val_accuracy: 0.0000e+00\n",
      "Epoch 11/20\n",
      "3109/3109 [==============================] - 42s 13ms/step - loss: 0.7805 - auc_9: 0.9152 - precision_9: 0.6711 - recall_9: 0.9748 - accuracy: 0.0016 - val_loss: 1.3522 - val_auc_9: 0.9375 - val_precision_9: 0.1426 - val_recall_9: 0.9954 - val_accuracy: 0.0000e+00\n",
      "Epoch 12/20\n",
      "3109/3109 [==============================] - 42s 14ms/step - loss: 0.7726 - auc_9: 0.9165 - precision_9: 0.6742 - recall_9: 0.9761 - accuracy: 0.0021 - val_loss: 0.2404 - val_auc_9: 0.9444 - val_precision_9: 0.9262 - val_recall_9: 0.5207 - val_accuracy: 0.0000e+00\n",
      "Epoch 13/20\n",
      "3109/3109 [==============================] - 42s 13ms/step - loss: 0.7762 - auc_9: 0.9154 - precision_9: 0.6723 - recall_9: 0.9760 - accuracy: 0.0016 - val_loss: 0.6647 - val_auc_9: 0.9415 - val_precision_9: 0.2153 - val_recall_9: 0.9696 - val_accuracy: 0.0000e+00\n",
      "Epoch 14/20\n",
      "3109/3109 [==============================] - 42s 13ms/step - loss: 0.7705 - auc_9: 0.9168 - precision_9: 0.6757 - recall_9: 0.9767 - accuracy: 0.0013 - val_loss: 1.4004 - val_auc_9: 0.9411 - val_precision_9: 0.1350 - val_recall_9: 1.0000 - val_accuracy: 0.0000e+00\n",
      "Epoch 15/20\n",
      "3109/3109 [==============================] - 42s 14ms/step - loss: 0.7770 - auc_9: 0.9158 - precision_9: 0.6720 - recall_9: 0.9753 - accuracy: 0.0014 - val_loss: 0.2592 - val_auc_9: 0.9420 - val_precision_9: 0.4831 - val_recall_9: 0.7760 - val_accuracy: 0.0000e+00\n",
      "Epoch 16/20\n",
      "3109/3109 [==============================] - 42s 13ms/step - loss: 0.7731 - auc_9: 0.9161 - precision_9: 0.6737 - recall_9: 0.9762 - accuracy: 0.0021 - val_loss: 1.4683 - val_auc_9: 0.9373 - val_precision_9: 0.1314 - val_recall_9: 1.0000 - val_accuracy: 0.0000e+00\n",
      "Epoch 17/20\n",
      "3109/3109 [==============================] - 41s 13ms/step - loss: 0.7698 - auc_9: 0.9170 - precision_9: 0.6746 - recall_9: 0.9759 - accuracy: 0.0016 - val_loss: 10.6435 - val_auc_9: 0.5000 - val_precision_9: 0.0924 - val_recall_9: 1.0000 - val_accuracy: 0.0324\n",
      "Epoch 18/20\n",
      "3109/3109 [==============================] - 42s 13ms/step - loss: 0.7698 - auc_9: 0.9170 - precision_9: 0.6748 - recall_9: 0.9755 - accuracy: 0.0018 - val_loss: 17.6680 - val_auc_9: 0.5000 - val_precision_9: 0.0924 - val_recall_9: 1.0000 - val_accuracy: 0.0924\n",
      "Epoch 19/20\n",
      "3109/3109 [==============================] - 41s 13ms/step - loss: 0.7716 - auc_9: 0.9160 - precision_9: 0.6741 - recall_9: 0.9760 - accuracy: 0.0013 - val_loss: 1.1073 - val_auc_9: 0.5000 - val_precision_9: 0.0000e+00 - val_recall_9: 0.0000e+00 - val_accuracy: 0.0000e+00\n",
      "Epoch 20/20\n",
      "3109/3109 [==============================] - 41s 13ms/step - loss: 0.7751 - auc_9: 0.9159 - precision_9: 0.6730 - recall_9: 0.9754 - accuracy: 0.0016 - val_loss: 19.5204 - val_auc_9: 0.5000 - val_precision_9: 0.0924 - val_recall_9: 1.0000 - val_accuracy: 0.0924\n",
      "416/416 [==============================] - 1s 2ms/step\n"
     ]
    },
    {
     "name": "stderr",
     "output_type": "stream",
     "text": [
      "[I 2024-02-21 06:02:36,798] Trial 7 finished with value: 0.16940041350792556 and parameters: {'num_of_layers': 2, 'num_of_neurons': 3, 'dropout': 0.3238442414242201, 'l2': 0.20994560464300902, 'learning_rate': 0.009621514995833339, 'scale_pos_weight_multiplier': 2}. Best is trial 2 with value: 0.7263681592039801.\n"
     ]
    },
    {
     "name": "stdout",
     "output_type": "stream",
     "text": [
      "Epoch 1/20\n",
      "3109/3109 [==============================] - 44s 14ms/step - loss: 0.9408 - auc_10: 0.9171 - precision_10: 0.6831 - recall_10: 0.9823 - accuracy: 7.9423e-04 - val_loss: 0.7649 - val_auc_10: 0.9493 - val_precision_10: 0.2378 - val_recall_10: 0.9806 - val_accuracy: 0.0000e+00\n",
      "Epoch 2/20\n",
      "3109/3109 [==============================] - 42s 13ms/step - loss: 0.7702 - auc_10: 0.9332 - precision_10: 0.7180 - recall_10: 0.9919 - accuracy: 1.8096e-04 - val_loss: 0.7208 - val_auc_10: 0.9482 - val_precision_10: 0.2425 - val_recall_10: 0.9806 - val_accuracy: 0.0000e+00\n",
      "Epoch 3/20\n",
      "3109/3109 [==============================] - 42s 13ms/step - loss: 0.7482 - auc_10: 0.9362 - precision_10: 0.7192 - recall_10: 0.9936 - accuracy: 2.8150e-04 - val_loss: 1.0523 - val_auc_10: 0.9487 - val_precision_10: 0.2121 - val_recall_10: 0.9972 - val_accuracy: 0.0000e+00\n",
      "Epoch 4/20\n",
      "3109/3109 [==============================] - 42s 14ms/step - loss: 0.7581 - auc_10: 0.9361 - precision_10: 0.7170 - recall_10: 0.9929 - accuracy: 2.9155e-04 - val_loss: 0.3976 - val_auc_10: 0.9530 - val_precision_10: 0.3113 - val_recall_10: 0.9355 - val_accuracy: 0.0000e+00\n",
      "Epoch 5/20\n",
      "3109/3109 [==============================] - 43s 14ms/step - loss: 0.7733 - auc_10: 0.9355 - precision_10: 0.7086 - recall_10: 0.9928 - accuracy: 3.9209e-04 - val_loss: 0.7175 - val_auc_10: 0.9582 - val_precision_10: 0.2425 - val_recall_10: 0.9899 - val_accuracy: 0.0000e+00\n",
      "Epoch 6/20\n",
      "3109/3109 [==============================] - 42s 13ms/step - loss: 0.7533 - auc_10: 0.9381 - precision_10: 0.7134 - recall_10: 0.9926 - accuracy: 3.8203e-04 - val_loss: 0.8933 - val_auc_10: 0.9584 - val_precision_10: 0.2134 - val_recall_10: 0.9982 - val_accuracy: 0.0000e+00\n",
      "Epoch 7/20\n",
      "3109/3109 [==============================] - 41s 13ms/step - loss: 0.7561 - auc_10: 0.9374 - precision_10: 0.7134 - recall_10: 0.9928 - accuracy: 2.2118e-04 - val_loss: 1.0874 - val_auc_10: 0.9531 - val_precision_10: 0.2055 - val_recall_10: 1.0000 - val_accuracy: 0.0000e+00\n",
      "Epoch 8/20\n",
      "3109/3109 [==============================] - 41s 13ms/step - loss: 0.7543 - auc_10: 0.9384 - precision_10: 0.7131 - recall_10: 0.9931 - accuracy: 1.8096e-04 - val_loss: 1.2336 - val_auc_10: 0.9499 - val_precision_10: 0.2022 - val_recall_10: 1.0000 - val_accuracy: 0.0000e+00\n",
      "Epoch 9/20\n",
      "3109/3109 [==============================] - 41s 13ms/step - loss: 0.7401 - auc_10: 0.9402 - precision_10: 0.7177 - recall_10: 0.9927 - accuracy: 2.2118e-04 - val_loss: 0.8780 - val_auc_10: 0.9570 - val_precision_10: 0.2163 - val_recall_10: 0.9982 - val_accuracy: 0.0000e+00\n",
      "Epoch 10/20\n",
      "3109/3109 [==============================] - 42s 13ms/step - loss: 0.7533 - auc_10: 0.9381 - precision_10: 0.7142 - recall_10: 0.9933 - accuracy: 1.3070e-04 - val_loss: 0.7009 - val_auc_10: 0.9588 - val_precision_10: 0.2263 - val_recall_10: 0.9945 - val_accuracy: 0.0000e+00\n",
      "Epoch 11/20\n",
      "3109/3109 [==============================] - 41s 13ms/step - loss: 0.7498 - auc_10: 0.9387 - precision_10: 0.7151 - recall_10: 0.9932 - accuracy: 1.4075e-04 - val_loss: 1.0169 - val_auc_10: 0.9572 - val_precision_10: 0.2025 - val_recall_10: 1.0000 - val_accuracy: 0.0000e+00\n",
      "Epoch 12/20\n",
      "3109/3109 [==============================] - 41s 13ms/step - loss: 0.7545 - auc_10: 0.9386 - precision_10: 0.7122 - recall_10: 0.9929 - accuracy: 2.0107e-04 - val_loss: 0.6857 - val_auc_10: 0.9582 - val_precision_10: 0.2310 - val_recall_10: 0.9945 - val_accuracy: 0.0000e+00\n",
      "Epoch 13/20\n",
      "3109/3109 [==============================] - 42s 13ms/step - loss: 0.7412 - auc_10: 0.9405 - precision_10: 0.7181 - recall_10: 0.9933 - accuracy: 2.7144e-04 - val_loss: 1.0126 - val_auc_10: 0.9552 - val_precision_10: 0.2035 - val_recall_10: 1.0000 - val_accuracy: 0.0000e+00\n",
      "Epoch 14/20\n",
      "3109/3109 [==============================] - 42s 14ms/step - loss: 0.7491 - auc_10: 0.9397 - precision_10: 0.7147 - recall_10: 0.9930 - accuracy: 2.4128e-04 - val_loss: 1.1019 - val_auc_10: 0.9584 - val_precision_10: 0.2020 - val_recall_10: 1.0000 - val_accuracy: 0.0000e+00\n",
      "Epoch 15/20\n",
      "3109/3109 [==============================] - 42s 14ms/step - loss: 0.7453 - auc_10: 0.9402 - precision_10: 0.7140 - recall_10: 0.9934 - accuracy: 2.8150e-04 - val_loss: 1.0124 - val_auc_10: 0.9546 - val_precision_10: 0.2092 - val_recall_10: 1.0000 - val_accuracy: 0.0000e+00\n",
      "Epoch 16/20\n",
      "3109/3109 [==============================] - 42s 13ms/step - loss: 0.7452 - auc_10: 0.9399 - precision_10: 0.7135 - recall_10: 0.9931 - accuracy: 3.7198e-04 - val_loss: 0.7152 - val_auc_10: 0.9590 - val_precision_10: 0.2187 - val_recall_10: 0.9963 - val_accuracy: 0.0000e+00\n",
      "Epoch 17/20\n",
      "3109/3109 [==============================] - 42s 13ms/step - loss: 0.7486 - auc_10: 0.9396 - precision_10: 0.7143 - recall_10: 0.9929 - accuracy: 2.8150e-04 - val_loss: 0.7960 - val_auc_10: 0.9543 - val_precision_10: 0.2179 - val_recall_10: 0.9963 - val_accuracy: 0.0000e+00\n",
      "Epoch 18/20\n",
      "3109/3109 [==============================] - 42s 13ms/step - loss: 0.7445 - auc_10: 0.9410 - precision_10: 0.7147 - recall_10: 0.9930 - accuracy: 4.4235e-04 - val_loss: 0.8661 - val_auc_10: 0.9506 - val_precision_10: 0.2020 - val_recall_10: 0.9991 - val_accuracy: 0.0000e+00\n",
      "Epoch 19/20\n",
      "3109/3109 [==============================] - 42s 13ms/step - loss: 0.7459 - auc_10: 0.9397 - precision_10: 0.7149 - recall_10: 0.9927 - accuracy: 3.8203e-04 - val_loss: 0.8639 - val_auc_10: 0.9547 - val_precision_10: 0.2202 - val_recall_10: 0.9945 - val_accuracy: 0.0000e+00\n",
      "Epoch 20/20\n",
      "3109/3109 [==============================] - 42s 13ms/step - loss: 0.7380 - auc_10: 0.9407 - precision_10: 0.7178 - recall_10: 0.9935 - accuracy: 4.1219e-04 - val_loss: 0.8217 - val_auc_10: 0.9581 - val_precision_10: 0.2212 - val_recall_10: 0.9963 - val_accuracy: 0.0000e+00\n",
      "416/416 [==============================] - 1s 2ms/step\n"
     ]
    },
    {
     "name": "stderr",
     "output_type": "stream",
     "text": [
      "[I 2024-02-21 06:16:34,567] Trial 8 finished with value: 0.7353348729792148 and parameters: {'num_of_layers': 2, 'num_of_neurons': 4, 'dropout': 0.507804060145276, 'l2': 0.0011621012932555106, 'learning_rate': 0.004191065755786601, 'scale_pos_weight_multiplier': 1}. Best is trial 8 with value: 0.7353348729792148.\n"
     ]
    },
    {
     "name": "stdout",
     "output_type": "stream",
     "text": [
      "Epoch 1/20\n",
      "3109/3109 [==============================] - 77s 24ms/step - loss: 1.9247 - auc_11: 0.4981 - precision_11: 0.4998 - recall_11: 0.9863 - accuracy: 0.0000e+00 - val_loss: 2.1215 - val_auc_11: 0.6743 - val_precision_11: 0.0924 - val_recall_11: 1.0000 - val_accuracy: 0.0000e+00\n",
      "Epoch 2/20\n",
      "3109/3109 [==============================] - 75s 24ms/step - loss: 1.5588 - auc_11: 0.6418 - precision_11: 0.5127 - recall_11: 0.9973 - accuracy: 0.0000e+00 - val_loss: 1.6427 - val_auc_11: 0.9456 - val_precision_11: 0.0924 - val_recall_11: 1.0000 - val_accuracy: 0.0000e+00\n",
      "Epoch 3/20\n",
      "3109/3109 [==============================] - 76s 25ms/step - loss: 1.5132 - auc_11: 0.6700 - precision_11: 0.5207 - recall_11: 0.9968 - accuracy: 0.0000e+00 - val_loss: 1.8372 - val_auc_11: 0.9449 - val_precision_11: 0.0924 - val_recall_11: 1.0000 - val_accuracy: 0.0000e+00\n",
      "Epoch 4/20\n",
      "3109/3109 [==============================] - 75s 24ms/step - loss: 1.5101 - auc_11: 0.6728 - precision_11: 0.5215 - recall_11: 0.9969 - accuracy: 0.0000e+00 - val_loss: 1.7165 - val_auc_11: 0.9431 - val_precision_11: 0.0924 - val_recall_11: 1.0000 - val_accuracy: 0.0000e+00\n",
      "Epoch 5/20\n",
      "3109/3109 [==============================] - 74s 24ms/step - loss: 1.5099 - auc_11: 0.6689 - precision_11: 0.5217 - recall_11: 0.9972 - accuracy: 0.0000e+00 - val_loss: 1.6079 - val_auc_11: 0.9441 - val_precision_11: 0.0924 - val_recall_11: 1.0000 - val_accuracy: 0.0000e+00\n",
      "Epoch 6/20\n",
      "3109/3109 [==============================] - 75s 24ms/step - loss: 1.5071 - auc_11: 0.6727 - precision_11: 0.5224 - recall_11: 0.9969 - accuracy: 0.0000e+00 - val_loss: 1.9232 - val_auc_11: 0.9450 - val_precision_11: 0.0924 - val_recall_11: 1.0000 - val_accuracy: 0.0000e+00\n",
      "Epoch 7/20\n",
      "3109/3109 [==============================] - 75s 24ms/step - loss: 1.5127 - auc_11: 0.6709 - precision_11: 0.5214 - recall_11: 0.9972 - accuracy: 0.0000e+00 - val_loss: 2.0484 - val_auc_11: 0.9458 - val_precision_11: 0.0924 - val_recall_11: 1.0000 - val_accuracy: 0.0000e+00\n",
      "Epoch 8/20\n",
      "3109/3109 [==============================] - 75s 24ms/step - loss: 1.5116 - auc_11: 0.6678 - precision_11: 0.5214 - recall_11: 0.9970 - accuracy: 0.0000e+00 - val_loss: 1.7831 - val_auc_11: 0.9469 - val_precision_11: 0.0924 - val_recall_11: 1.0000 - val_accuracy: 0.0000e+00\n",
      "Epoch 9/20\n",
      "3109/3109 [==============================] - 74s 24ms/step - loss: 1.5069 - auc_11: 0.6745 - precision_11: 0.5224 - recall_11: 0.9967 - accuracy: 0.0000e+00 - val_loss: 1.9277 - val_auc_11: 0.9442 - val_precision_11: 0.0924 - val_recall_11: 1.0000 - val_accuracy: 0.0000e+00\n",
      "Epoch 10/20\n",
      "3109/3109 [==============================] - 75s 24ms/step - loss: 1.5101 - auc_11: 0.6713 - precision_11: 0.5216 - recall_11: 0.9968 - accuracy: 0.0000e+00 - val_loss: 1.6705 - val_auc_11: 0.9459 - val_precision_11: 0.0925 - val_recall_11: 1.0000 - val_accuracy: 0.0000e+00\n",
      "Epoch 11/20\n",
      "3109/3109 [==============================] - 75s 24ms/step - loss: 1.5087 - auc_11: 0.6733 - precision_11: 0.5226 - recall_11: 0.9968 - accuracy: 0.0000e+00 - val_loss: 1.7824 - val_auc_11: 0.9453 - val_precision_11: 0.0924 - val_recall_11: 1.0000 - val_accuracy: 0.0000e+00\n",
      "Epoch 12/20\n",
      "3109/3109 [==============================] - 75s 24ms/step - loss: 1.5093 - auc_11: 0.6711 - precision_11: 0.5217 - recall_11: 0.9969 - accuracy: 0.0000e+00 - val_loss: 1.7714 - val_auc_11: 0.9454 - val_precision_11: 0.0924 - val_recall_11: 1.0000 - val_accuracy: 0.0000e+00\n",
      "Epoch 13/20\n",
      "3109/3109 [==============================] - 75s 24ms/step - loss: 1.5051 - auc_11: 0.6720 - precision_11: 0.5229 - recall_11: 0.9970 - accuracy: 0.0000e+00 - val_loss: 1.7493 - val_auc_11: 0.9469 - val_precision_11: 0.0926 - val_recall_11: 1.0000 - val_accuracy: 0.0000e+00\n",
      "Epoch 14/20\n",
      "3109/3109 [==============================] - 75s 24ms/step - loss: 1.5092 - auc_11: 0.6699 - precision_11: 0.5224 - recall_11: 0.9969 - accuracy: 0.0000e+00 - val_loss: 1.7372 - val_auc_11: 0.9463 - val_precision_11: 0.0924 - val_recall_11: 1.0000 - val_accuracy: 0.0000e+00\n",
      "Epoch 15/20\n",
      "3109/3109 [==============================] - 75s 24ms/step - loss: 1.5102 - auc_11: 0.6715 - precision_11: 0.5219 - recall_11: 0.9969 - accuracy: 0.0000e+00 - val_loss: 1.7811 - val_auc_11: 0.9460 - val_precision_11: 0.0924 - val_recall_11: 1.0000 - val_accuracy: 0.0000e+00\n",
      "Epoch 16/20\n",
      "3109/3109 [==============================] - 75s 24ms/step - loss: 1.5161 - auc_11: 0.6679 - precision_11: 0.5201 - recall_11: 0.9971 - accuracy: 0.0000e+00 - val_loss: 1.6819 - val_auc_11: 0.9470 - val_precision_11: 0.0924 - val_recall_11: 1.0000 - val_accuracy: 0.0000e+00\n",
      "Epoch 17/20\n",
      "3109/3109 [==============================] - 75s 24ms/step - loss: 1.5078 - auc_11: 0.6687 - precision_11: 0.5226 - recall_11: 0.9971 - accuracy: 0.0000e+00 - val_loss: 1.8317 - val_auc_11: 0.9465 - val_precision_11: 0.0924 - val_recall_11: 1.0000 - val_accuracy: 0.0000e+00\n",
      "Epoch 18/20\n",
      "3109/3109 [==============================] - 74s 24ms/step - loss: 1.5084 - auc_11: 0.6708 - precision_11: 0.5222 - recall_11: 0.9971 - accuracy: 0.0000e+00 - val_loss: 1.8074 - val_auc_11: 0.9463 - val_precision_11: 0.0924 - val_recall_11: 1.0000 - val_accuracy: 0.0000e+00\n",
      "Epoch 19/20\n",
      "3109/3109 [==============================] - 75s 24ms/step - loss: 1.5088 - auc_11: 0.6712 - precision_11: 0.5219 - recall_11: 0.9972 - accuracy: 0.0000e+00 - val_loss: 1.6843 - val_auc_11: 0.9468 - val_precision_11: 0.0924 - val_recall_11: 1.0000 - val_accuracy: 0.0000e+00\n",
      "Epoch 20/20\n",
      "3109/3109 [==============================] - 75s 24ms/step - loss: 1.5066 - auc_11: 0.6715 - precision_11: 0.5227 - recall_11: 0.9973 - accuracy: 0.0000e+00 - val_loss: 1.7850 - val_auc_11: 0.9466 - val_precision_11: 0.0924 - val_recall_11: 1.0000 - val_accuracy: 0.0000e+00\n",
      "416/416 [==============================] - 2s 4ms/step\n"
     ]
    },
    {
     "name": "stderr",
     "output_type": "stream",
     "text": [
      "[I 2024-02-21 06:41:35,819] Trial 9 finished with value: 0.7128440366972476 and parameters: {'num_of_layers': 6, 'num_of_neurons': 1, 'dropout': 0.36187277906244963, 'l2': 0.00508864818242486, 'learning_rate': 0.0023143230271321013, 'scale_pos_weight_multiplier': 1}. Best is trial 8 with value: 0.7353348729792148.\n"
     ]
    },
    {
     "name": "stdout",
     "output_type": "stream",
     "text": [
      "Epoch 1/20\n",
      "3109/3109 [==============================] - 45s 14ms/step - loss: 0.9366 - auc_12: 0.9216 - precision_12: 0.6650 - recall_12: 0.9850 - accuracy: 0.0011 - val_loss: 1.0957 - val_auc_12: 0.9436 - val_precision_12: 0.1631 - val_recall_12: 0.9982 - val_accuracy: 0.0000e+00\n",
      "Epoch 2/20\n",
      "3109/3109 [==============================] - 44s 14ms/step - loss: 0.8582 - auc_12: 0.9320 - precision_12: 0.6764 - recall_12: 0.9887 - accuracy: 0.0011 - val_loss: 1.0641 - val_auc_12: 0.9462 - val_precision_12: 0.1724 - val_recall_12: 0.9945 - val_accuracy: 0.0000e+00\n",
      "Epoch 3/20\n",
      "3109/3109 [==============================] - 43s 14ms/step - loss: 0.8444 - auc_12: 0.9335 - precision_12: 0.6794 - recall_12: 0.9889 - accuracy: 0.0015 - val_loss: 0.9565 - val_auc_12: 0.9448 - val_precision_12: 0.2024 - val_recall_12: 0.9806 - val_accuracy: 0.0000e+00\n",
      "Epoch 4/20\n",
      "3109/3109 [==============================] - 44s 14ms/step - loss: 0.8483 - auc_12: 0.9332 - precision_12: 0.6776 - recall_12: 0.9886 - accuracy: 0.0015 - val_loss: 0.7467 - val_auc_12: 0.9464 - val_precision_12: 0.2289 - val_recall_12: 0.9687 - val_accuracy: 0.0000e+00\n",
      "Epoch 5/20\n",
      "3109/3109 [==============================] - 44s 14ms/step - loss: 0.8483 - auc_12: 0.9330 - precision_12: 0.6773 - recall_12: 0.9888 - accuracy: 0.0017 - val_loss: 0.6991 - val_auc_12: 0.9453 - val_precision_12: 0.2234 - val_recall_12: 0.9724 - val_accuracy: 0.0000e+00\n",
      "Epoch 6/20\n",
      "3109/3109 [==============================] - 44s 14ms/step - loss: 0.8450 - auc_12: 0.9335 - precision_12: 0.6791 - recall_12: 0.9886 - accuracy: 0.0016 - val_loss: 0.6881 - val_auc_12: 0.9444 - val_precision_12: 0.2461 - val_recall_12: 0.9585 - val_accuracy: 0.0000e+00\n",
      "Epoch 7/20\n",
      "3109/3109 [==============================] - 43s 14ms/step - loss: 0.8400 - auc_12: 0.9342 - precision_12: 0.6804 - recall_12: 0.9887 - accuracy: 0.0015 - val_loss: 1.2108 - val_auc_12: 0.9471 - val_precision_12: 0.1480 - val_recall_12: 1.0000 - val_accuracy: 0.0000e+00\n",
      "Epoch 8/20\n",
      "3109/3109 [==============================] - 42s 13ms/step - loss: 0.8431 - auc_12: 0.9339 - precision_12: 0.6792 - recall_12: 0.9893 - accuracy: 0.0021 - val_loss: 0.9124 - val_auc_12: 0.9454 - val_precision_12: 0.1969 - val_recall_12: 0.9825 - val_accuracy: 0.0000e+00\n",
      "Epoch 9/20\n",
      "3109/3109 [==============================] - 42s 13ms/step - loss: 0.8438 - auc_12: 0.9336 - precision_12: 0.6787 - recall_12: 0.9895 - accuracy: 0.0023 - val_loss: 0.9929 - val_auc_12: 0.9458 - val_precision_12: 0.1925 - val_recall_12: 0.9843 - val_accuracy: 0.0000e+00\n",
      "Epoch 10/20\n",
      "3109/3109 [==============================] - 42s 13ms/step - loss: 0.8519 - auc_12: 0.9320 - precision_12: 0.6761 - recall_12: 0.9889 - accuracy: 0.0019 - val_loss: 0.7523 - val_auc_12: 0.9466 - val_precision_12: 0.2225 - val_recall_12: 0.9724 - val_accuracy: 0.0000e+00\n",
      "Epoch 11/20\n",
      "3109/3109 [==============================] - 42s 13ms/step - loss: 0.8590 - auc_12: 0.9320 - precision_12: 0.6728 - recall_12: 0.9881 - accuracy: 0.0022 - val_loss: 1.5072 - val_auc_12: 0.9457 - val_precision_12: 0.1371 - val_recall_12: 1.0000 - val_accuracy: 0.0000e+00\n",
      "Epoch 12/20\n",
      "3109/3109 [==============================] - 42s 13ms/step - loss: 0.8603 - auc_12: 0.9314 - precision_12: 0.6744 - recall_12: 0.9888 - accuracy: 0.0015 - val_loss: 1.3992 - val_auc_12: 0.9436 - val_precision_12: 0.1509 - val_recall_12: 1.0000 - val_accuracy: 0.0000e+00\n",
      "Epoch 13/20\n",
      "3109/3109 [==============================] - 42s 14ms/step - loss: 0.8556 - auc_12: 0.9321 - precision_12: 0.6762 - recall_12: 0.9889 - accuracy: 0.0020 - val_loss: 0.5758 - val_auc_12: 0.9458 - val_precision_12: 0.2598 - val_recall_12: 0.9558 - val_accuracy: 0.0000e+00\n",
      "Epoch 14/20\n",
      "3109/3109 [==============================] - 42s 13ms/step - loss: 0.8478 - auc_12: 0.9325 - precision_12: 0.6787 - recall_12: 0.9893 - accuracy: 0.0017 - val_loss: 0.9711 - val_auc_12: 0.9459 - val_precision_12: 0.1885 - val_recall_12: 0.9862 - val_accuracy: 0.0000e+00\n",
      "Epoch 15/20\n",
      "3109/3109 [==============================] - 42s 14ms/step - loss: 0.8482 - auc_12: 0.9326 - precision_12: 0.6774 - recall_12: 0.9889 - accuracy: 0.0020 - val_loss: 1.0368 - val_auc_12: 0.9453 - val_precision_12: 0.1817 - val_recall_12: 0.9862 - val_accuracy: 0.0000e+00\n",
      "Epoch 16/20\n",
      "3109/3109 [==============================] - 42s 13ms/step - loss: 0.8582 - auc_12: 0.9317 - precision_12: 0.6758 - recall_12: 0.9882 - accuracy: 0.0016 - val_loss: 1.1861 - val_auc_12: 0.9436 - val_precision_12: 0.1771 - val_recall_12: 0.9917 - val_accuracy: 0.0000e+00\n",
      "Epoch 17/20\n",
      "3109/3109 [==============================] - 42s 13ms/step - loss: 0.8487 - auc_12: 0.9324 - precision_12: 0.6776 - recall_12: 0.9891 - accuracy: 0.0020 - val_loss: 0.6329 - val_auc_12: 0.9453 - val_precision_12: 0.2457 - val_recall_12: 0.9567 - val_accuracy: 0.0000e+00\n",
      "Epoch 18/20\n",
      "3109/3109 [==============================] - 41s 13ms/step - loss: 0.8519 - auc_12: 0.9319 - precision_12: 0.6756 - recall_12: 0.9891 - accuracy: 0.0022 - val_loss: 0.7596 - val_auc_12: 0.9449 - val_precision_12: 0.2163 - val_recall_12: 0.9705 - val_accuracy: 0.0000e+00\n",
      "Epoch 19/20\n",
      "3109/3109 [==============================] - 42s 13ms/step - loss: 0.8576 - auc_12: 0.9312 - precision_12: 0.6730 - recall_12: 0.9887 - accuracy: 0.0022 - val_loss: 0.8406 - val_auc_12: 0.9456 - val_precision_12: 0.2042 - val_recall_12: 0.9779 - val_accuracy: 0.0000e+00\n",
      "Epoch 20/20\n",
      "3109/3109 [==============================] - 42s 14ms/step - loss: 0.8672 - auc_12: 0.9299 - precision_12: 0.6712 - recall_12: 0.9887 - accuracy: 0.0019 - val_loss: 0.8924 - val_auc_12: 0.9443 - val_precision_12: 0.1799 - val_recall_12: 0.9889 - val_accuracy: 0.0000e+00\n",
      "416/416 [==============================] - 1s 2ms/step\n"
     ]
    },
    {
     "name": "stderr",
     "output_type": "stream",
     "text": [
      "[I 2024-02-21 06:55:47,628] Trial 10 finished with value: 0.7254635911352328 and parameters: {'num_of_layers': 2, 'num_of_neurons': 4, 'dropout': 0.5249963017547842, 'l2': 0.0019726591728449843, 'learning_rate': 0.008858063554532178, 'scale_pos_weight_multiplier': 1}. Best is trial 8 with value: 0.7353348729792148.\n"
     ]
    },
    {
     "name": "stdout",
     "output_type": "stream",
     "text": [
      "Epoch 1/20\n",
      "3109/3109 [==============================] - 77s 24ms/step - loss: 1.7021 - auc_13: 0.9005 - precision_13: 0.6297 - recall_13: 0.9815 - accuracy: 0.0000e+00 - val_loss: 1.0225 - val_auc_13: 0.9444 - val_precision_13: 0.4093 - val_recall_13: 0.8194 - val_accuracy: 0.0000e+00\n",
      "Epoch 2/20\n",
      "3109/3109 [==============================] - 76s 24ms/step - loss: 1.5530 - auc_13: 0.9092 - precision_13: 0.6310 - recall_13: 0.9846 - accuracy: 0.0000e+00 - val_loss: 2.6920 - val_auc_13: 0.9070 - val_precision_13: 0.1386 - val_recall_13: 1.0000 - val_accuracy: 0.0000e+00\n",
      "Epoch 3/20\n",
      "3109/3109 [==============================] - 74s 24ms/step - loss: 1.5289 - auc_13: 0.9118 - precision_13: 0.6299 - recall_13: 0.9856 - accuracy: 0.0000e+00 - val_loss: 1.7691 - val_auc_13: 0.9361 - val_precision_13: 0.1103 - val_recall_13: 1.0000 - val_accuracy: 0.0000e+00\n",
      "Epoch 4/20\n",
      "3109/3109 [==============================] - 75s 24ms/step - loss: 1.5724 - auc_13: 0.9094 - precision_13: 0.6279 - recall_13: 0.9856 - accuracy: 0.0000e+00 - val_loss: 1.6082 - val_auc_13: 0.9443 - val_precision_13: 0.1550 - val_recall_13: 0.9926 - val_accuracy: 0.0000e+00\n",
      "Epoch 5/20\n",
      "3109/3109 [==============================] - 75s 24ms/step - loss: 1.5401 - auc_13: 0.9133 - precision_13: 0.6326 - recall_13: 0.9854 - accuracy: 0.0000e+00 - val_loss: 2.8964 - val_auc_13: 0.9265 - val_precision_13: 0.0942 - val_recall_13: 1.0000 - val_accuracy: 0.0000e+00\n",
      "Epoch 6/20\n",
      "3109/3109 [==============================] - 75s 24ms/step - loss: 1.5501 - auc_13: 0.9136 - precision_13: 0.6312 - recall_13: 0.9850 - accuracy: 1.0053e-05 - val_loss: 3.0613 - val_auc_13: 0.9389 - val_precision_13: 0.0931 - val_recall_13: 1.0000 - val_accuracy: 0.0000e+00\n",
      "Epoch 7/20\n",
      "3109/3109 [==============================] - 74s 24ms/step - loss: 1.5445 - auc_13: 0.9133 - precision_13: 0.6298 - recall_13: 0.9849 - accuracy: 0.0000e+00 - val_loss: 4.0404 - val_auc_13: 0.8917 - val_precision_13: 0.0948 - val_recall_13: 1.0000 - val_accuracy: 0.0000e+00\n",
      "Epoch 8/20\n",
      "3109/3109 [==============================] - 74s 24ms/step - loss: 1.5256 - auc_13: 0.9153 - precision_13: 0.6311 - recall_13: 0.9854 - accuracy: 0.0000e+00 - val_loss: 2.1305 - val_auc_13: 0.9394 - val_precision_13: 0.1192 - val_recall_13: 1.0000 - val_accuracy: 0.0000e+00\n",
      "Epoch 9/20\n",
      "3109/3109 [==============================] - 74s 24ms/step - loss: 1.5191 - auc_13: 0.9138 - precision_13: 0.6315 - recall_13: 0.9860 - accuracy: 0.0000e+00 - val_loss: 2.9947 - val_auc_13: 0.8709 - val_precision_13: 0.1252 - val_recall_13: 1.0000 - val_accuracy: 0.0000e+00\n",
      "Epoch 10/20\n",
      "3109/3109 [==============================] - 75s 24ms/step - loss: 1.5872 - auc_13: 0.9130 - precision_13: 0.6279 - recall_13: 0.9855 - accuracy: 0.0000e+00 - val_loss: 2.2911 - val_auc_13: 0.9370 - val_precision_13: 0.1080 - val_recall_13: 1.0000 - val_accuracy: 0.0000e+00\n",
      "Epoch 11/20\n",
      "3109/3109 [==============================] - 75s 24ms/step - loss: 1.5344 - auc_13: 0.9134 - precision_13: 0.6297 - recall_13: 0.9858 - accuracy: 1.0053e-05 - val_loss: 6.5515 - val_auc_13: 0.5712 - val_precision_13: 0.0925 - val_recall_13: 1.0000 - val_accuracy: 0.0000e+00\n",
      "Epoch 12/20\n",
      "3109/3109 [==============================] - 75s 24ms/step - loss: 1.5380 - auc_13: 0.9131 - precision_13: 0.6284 - recall_13: 0.9854 - accuracy: 0.0000e+00 - val_loss: 2.9456 - val_auc_13: 0.9351 - val_precision_13: 0.0965 - val_recall_13: 1.0000 - val_accuracy: 0.0000e+00\n",
      "Epoch 13/20\n",
      "3109/3109 [==============================] - 74s 24ms/step - loss: 1.5484 - auc_13: 0.9124 - precision_13: 0.6265 - recall_13: 0.9856 - accuracy: 0.0000e+00 - val_loss: 2.8595 - val_auc_13: 0.9037 - val_precision_13: 0.1249 - val_recall_13: 1.0000 - val_accuracy: 0.0000e+00\n",
      "Epoch 14/20\n",
      "3109/3109 [==============================] - 74s 24ms/step - loss: 1.5455 - auc_13: 0.9138 - precision_13: 0.6294 - recall_13: 0.9848 - accuracy: 0.0000e+00 - val_loss: 3.2683 - val_auc_13: 0.9345 - val_precision_13: 0.0924 - val_recall_13: 1.0000 - val_accuracy: 0.0000e+00\n",
      "Epoch 15/20\n",
      "3109/3109 [==============================] - 75s 24ms/step - loss: 1.5391 - auc_13: 0.9128 - precision_13: 0.6294 - recall_13: 0.9859 - accuracy: 0.0000e+00 - val_loss: 1.1908 - val_auc_13: 0.9394 - val_precision_13: 0.2947 - val_recall_13: 0.9069 - val_accuracy: 0.0000e+00\n",
      "Epoch 16/20\n",
      "3109/3109 [==============================] - 75s 24ms/step - loss: 1.5502 - auc_13: 0.9117 - precision_13: 0.6277 - recall_13: 0.9850 - accuracy: 0.0000e+00 - val_loss: 1.6569 - val_auc_13: 0.9381 - val_precision_13: 0.1975 - val_recall_13: 0.9806 - val_accuracy: 0.0000e+00\n",
      "Epoch 17/20\n",
      "3109/3109 [==============================] - 76s 24ms/step - loss: 1.5259 - auc_13: 0.9116 - precision_13: 0.6271 - recall_13: 0.9857 - accuracy: 0.0000e+00 - val_loss: 2.7564 - val_auc_13: 0.9376 - val_precision_13: 0.0980 - val_recall_13: 1.0000 - val_accuracy: 0.0000e+00\n",
      "Epoch 18/20\n",
      "3109/3109 [==============================] - 76s 24ms/step - loss: 1.5597 - auc_13: 0.9113 - precision_13: 0.6252 - recall_13: 0.9850 - accuracy: 0.0000e+00 - val_loss: 0.6713 - val_auc_13: 0.9418 - val_precision_13: 0.8649 - val_recall_13: 0.4424 - val_accuracy: 0.0000e+00\n",
      "Epoch 19/20\n",
      "3109/3109 [==============================] - 75s 24ms/step - loss: 1.5355 - auc_13: 0.9119 - precision_13: 0.6280 - recall_13: 0.9855 - accuracy: 1.0053e-05 - val_loss: 1.9344 - val_auc_13: 0.9430 - val_precision_13: 0.1126 - val_recall_13: 1.0000 - val_accuracy: 0.0000e+00\n",
      "Epoch 20/20\n",
      "3109/3109 [==============================] - 76s 24ms/step - loss: 1.5478 - auc_13: 0.9111 - precision_13: 0.6263 - recall_13: 0.9855 - accuracy: 0.0000e+00 - val_loss: 4.8672 - val_auc_13: 0.7258 - val_precision_13: 0.0982 - val_recall_13: 1.0000 - val_accuracy: 0.0000e+00\n",
      "416/416 [==============================] - 2s 4ms/step\n"
     ]
    },
    {
     "name": "stderr",
     "output_type": "stream",
     "text": [
      "[I 2024-02-21 07:20:48,744] Trial 11 finished with value: 0.7102552619793998 and parameters: {'num_of_layers': 6, 'num_of_neurons': 5, 'dropout': 0.4442065270283222, 'l2': 0.026497479776582025, 'learning_rate': 0.020531347008023466, 'scale_pos_weight_multiplier': 1}. Best is trial 8 with value: 0.7353348729792148.\n"
     ]
    },
    {
     "name": "stdout",
     "output_type": "stream",
     "text": [
      "Epoch 1/20\n",
      "3109/3109 [==============================] - 69s 22ms/step - loss: 1.2083 - auc_14: 0.7983 - precision_14: 0.5752 - recall_14: 0.9669 - accuracy: 2.0107e-05 - val_loss: 0.7888 - val_auc_14: 0.9466 - val_precision_14: 0.2260 - val_recall_14: 0.9687 - val_accuracy: 0.0000e+00\n",
      "Epoch 2/20\n",
      "3109/3109 [==============================] - 66s 21ms/step - loss: 0.7745 - auc_14: 0.9141 - precision_14: 0.6956 - recall_14: 0.9737 - accuracy: 1.1059e-04 - val_loss: 0.4145 - val_auc_14: 0.9500 - val_precision_14: 0.3374 - val_recall_14: 0.8995 - val_accuracy: 0.0000e+00\n",
      "Epoch 3/20\n",
      "3109/3109 [==============================] - 66s 21ms/step - loss: 0.7426 - auc_14: 0.9145 - precision_14: 0.7062 - recall_14: 0.9797 - accuracy: 7.0374e-05 - val_loss: 0.7707 - val_auc_14: 0.9469 - val_precision_14: 0.2283 - val_recall_14: 0.9806 - val_accuracy: 0.0000e+00\n",
      "Epoch 4/20\n",
      "3109/3109 [==============================] - 67s 22ms/step - loss: 0.7607 - auc_14: 0.9101 - precision_14: 0.6949 - recall_14: 0.9817 - accuracy: 8.0428e-05 - val_loss: 0.6397 - val_auc_14: 0.9530 - val_precision_14: 0.2489 - val_recall_14: 0.9788 - val_accuracy: 0.0000e+00\n",
      "Epoch 5/20\n",
      "3109/3109 [==============================] - 66s 21ms/step - loss: 0.7886 - auc_14: 0.9015 - precision_14: 0.6809 - recall_14: 0.9836 - accuracy: 2.0107e-05 - val_loss: 0.7167 - val_auc_14: 0.9527 - val_precision_14: 0.2310 - val_recall_14: 0.9899 - val_accuracy: 0.0000e+00\n",
      "Epoch 6/20\n",
      "3109/3109 [==============================] - 66s 21ms/step - loss: 0.7853 - auc_14: 0.9030 - precision_14: 0.6805 - recall_14: 0.9836 - accuracy: 4.0214e-05 - val_loss: 0.6861 - val_auc_14: 0.9540 - val_precision_14: 0.2240 - val_recall_14: 0.9926 - val_accuracy: 0.0000e+00\n",
      "Epoch 7/20\n",
      "3109/3109 [==============================] - 67s 21ms/step - loss: 0.7782 - auc_14: 0.9039 - precision_14: 0.6823 - recall_14: 0.9839 - accuracy: 2.0107e-05 - val_loss: 0.7244 - val_auc_14: 0.9528 - val_precision_14: 0.2287 - val_recall_14: 0.9917 - val_accuracy: 0.0000e+00\n",
      "Epoch 8/20\n",
      "3109/3109 [==============================] - 67s 22ms/step - loss: 0.7792 - auc_14: 0.9034 - precision_14: 0.6803 - recall_14: 0.9842 - accuracy: 2.0107e-05 - val_loss: 0.4510 - val_auc_14: 0.9513 - val_precision_14: 0.3018 - val_recall_14: 0.9392 - val_accuracy: 0.0000e+00\n",
      "Epoch 9/20\n",
      "3109/3109 [==============================] - 67s 21ms/step - loss: 0.7824 - auc_14: 0.9050 - precision_14: 0.6795 - recall_14: 0.9837 - accuracy: 6.0321e-05 - val_loss: 0.4229 - val_auc_14: 0.9534 - val_precision_14: 0.2958 - val_recall_14: 0.9585 - val_accuracy: 0.0000e+00\n",
      "Epoch 10/20\n",
      "3109/3109 [==============================] - 66s 21ms/step - loss: 0.7726 - auc_14: 0.9042 - precision_14: 0.6835 - recall_14: 0.9845 - accuracy: 2.0107e-05 - val_loss: 0.5409 - val_auc_14: 0.9539 - val_precision_14: 0.2709 - val_recall_14: 0.9724 - val_accuracy: 0.0000e+00\n",
      "Epoch 11/20\n",
      "3109/3109 [==============================] - 66s 21ms/step - loss: 0.7837 - auc_14: 0.9043 - precision_14: 0.6805 - recall_14: 0.9834 - accuracy: 8.0428e-05 - val_loss: 0.7168 - val_auc_14: 0.9541 - val_precision_14: 0.2197 - val_recall_14: 0.9945 - val_accuracy: 0.0000e+00\n",
      "Epoch 12/20\n",
      "3109/3109 [==============================] - 66s 21ms/step - loss: 0.7813 - auc_14: 0.9033 - precision_14: 0.6801 - recall_14: 0.9848 - accuracy: 1.0053e-05 - val_loss: 0.6724 - val_auc_14: 0.9544 - val_precision_14: 0.2375 - val_recall_14: 0.9889 - val_accuracy: 0.0000e+00\n",
      "Epoch 13/20\n",
      "3109/3109 [==============================] - 67s 21ms/step - loss: 0.7740 - auc_14: 0.9038 - precision_14: 0.6844 - recall_14: 0.9852 - accuracy: 5.0267e-05 - val_loss: 0.4574 - val_auc_14: 0.9541 - val_precision_14: 0.2831 - val_recall_14: 0.9668 - val_accuracy: 0.0000e+00\n",
      "Epoch 14/20\n",
      "3109/3109 [==============================] - 66s 21ms/step - loss: 0.7739 - auc_14: 0.9040 - precision_14: 0.6835 - recall_14: 0.9844 - accuracy: 6.0321e-05 - val_loss: 0.9425 - val_auc_14: 0.9533 - val_precision_14: 0.2043 - val_recall_14: 1.0000 - val_accuracy: 0.0000e+00\n",
      "Epoch 15/20\n",
      "3109/3109 [==============================] - 66s 21ms/step - loss: 0.7812 - auc_14: 0.9023 - precision_14: 0.6795 - recall_14: 0.9847 - accuracy: 6.0321e-05 - val_loss: 1.0104 - val_auc_14: 0.9543 - val_precision_14: 0.2021 - val_recall_14: 1.0000 - val_accuracy: 0.0000e+00\n",
      "Epoch 16/20\n",
      "3109/3109 [==============================] - 67s 22ms/step - loss: 0.7790 - auc_14: 0.9019 - precision_14: 0.6800 - recall_14: 0.9851 - accuracy: 6.0321e-05 - val_loss: 0.3217 - val_auc_14: 0.9518 - val_precision_14: 0.3648 - val_recall_14: 0.9014 - val_accuracy: 0.0000e+00\n",
      "Epoch 17/20\n",
      "3109/3109 [==============================] - 67s 22ms/step - loss: 0.7811 - auc_14: 0.9028 - precision_14: 0.6799 - recall_14: 0.9839 - accuracy: 2.0107e-05 - val_loss: 0.5740 - val_auc_14: 0.9517 - val_precision_14: 0.2315 - val_recall_14: 0.9843 - val_accuracy: 0.0000e+00\n",
      "Epoch 18/20\n",
      "3109/3109 [==============================] - 67s 22ms/step - loss: 0.7763 - auc_14: 0.9047 - precision_14: 0.6813 - recall_14: 0.9839 - accuracy: 1.0053e-05 - val_loss: 1.0730 - val_auc_14: 0.9522 - val_precision_14: 0.1968 - val_recall_14: 1.0000 - val_accuracy: 0.0000e+00\n",
      "Epoch 19/20\n",
      "3109/3109 [==============================] - 67s 21ms/step - loss: 0.7807 - auc_14: 0.9033 - precision_14: 0.6816 - recall_14: 0.9851 - accuracy: 2.0107e-05 - val_loss: 0.3652 - val_auc_14: 0.9495 - val_precision_14: 0.3376 - val_recall_14: 0.9060 - val_accuracy: 0.0000e+00\n",
      "Epoch 20/20\n",
      "3109/3109 [==============================] - 67s 22ms/step - loss: 0.7693 - auc_14: 0.9038 - precision_14: 0.6852 - recall_14: 0.9856 - accuracy: 0.0000e+00 - val_loss: 1.0153 - val_auc_14: 0.9535 - val_precision_14: 0.1985 - val_recall_14: 1.0000 - val_accuracy: 0.0000e+00\n",
      "416/416 [==============================] - 1s 3ms/step\n"
     ]
    },
    {
     "name": "stderr",
     "output_type": "stream",
     "text": [
      "[I 2024-02-21 07:43:05,454] Trial 12 finished with value: 0.6981670061099796 and parameters: {'num_of_layers': 5, 'num_of_neurons': 4, 'dropout': 0.5805882175717811, 'l2': 0.0025104333855316633, 'learning_rate': 0.0029793274728748638, 'scale_pos_weight_multiplier': 2}. Best is trial 8 with value: 0.7353348729792148.\n"
     ]
    },
    {
     "name": "stdout",
     "output_type": "stream",
     "text": [
      "Epoch 1/20\n",
      "3109/3109 [==============================] - 77s 24ms/step - loss: 0.8202 - auc_15: 0.9162 - precision_15: 0.7569 - recall_15: 0.9340 - accuracy: 1.0053e-05 - val_loss: 0.6030 - val_auc_15: 0.9499 - val_precision_15: 0.3275 - val_recall_15: 0.9124 - val_accuracy: 0.0000e+00\n",
      "Epoch 2/20\n",
      "3109/3109 [==============================] - 75s 24ms/step - loss: 0.7323 - auc_15: 0.9258 - precision_15: 0.7770 - recall_15: 0.9407 - accuracy: 0.0000e+00 - val_loss: 0.9974 - val_auc_15: 0.9519 - val_precision_15: 0.1980 - val_recall_15: 0.9917 - val_accuracy: 0.0000e+00\n",
      "Epoch 3/20\n",
      "3109/3109 [==============================] - 74s 24ms/step - loss: 0.7175 - auc_15: 0.9261 - precision_15: 0.7767 - recall_15: 0.9446 - accuracy: 0.0000e+00 - val_loss: 0.4658 - val_auc_15: 0.9511 - val_precision_15: 0.4394 - val_recall_15: 0.8350 - val_accuracy: 0.0000e+00\n",
      "Epoch 4/20\n",
      "3109/3109 [==============================] - 75s 24ms/step - loss: 0.7131 - auc_15: 0.9260 - precision_15: 0.7745 - recall_15: 0.9380 - accuracy: 0.0000e+00 - val_loss: 0.7297 - val_auc_15: 0.9460 - val_precision_15: 0.3043 - val_recall_15: 0.9244 - val_accuracy: 0.0000e+00\n",
      "Epoch 5/20\n",
      "3109/3109 [==============================] - 76s 25ms/step - loss: 0.7034 - auc_15: 0.9256 - precision_15: 0.7719 - recall_15: 0.9345 - accuracy: 0.0000e+00 - val_loss: 1.2064 - val_auc_15: 0.9474 - val_precision_15: 0.1605 - val_recall_15: 0.9945 - val_accuracy: 0.0000e+00\n",
      "Epoch 6/20\n",
      "3109/3109 [==============================] - 76s 24ms/step - loss: 0.6972 - auc_15: 0.9250 - precision_15: 0.7691 - recall_15: 0.9355 - accuracy: 0.0000e+00 - val_loss: 0.8857 - val_auc_15: 0.9449 - val_precision_15: 0.2288 - val_recall_15: 0.9650 - val_accuracy: 0.0000e+00\n",
      "Epoch 7/20\n",
      "3109/3109 [==============================] - 75s 24ms/step - loss: 0.6932 - auc_15: 0.9255 - precision_15: 0.7686 - recall_15: 0.9366 - accuracy: 0.0000e+00 - val_loss: 0.6306 - val_auc_15: 0.9462 - val_precision_15: 0.2980 - val_recall_15: 0.9318 - val_accuracy: 0.0000e+00\n",
      "Epoch 8/20\n",
      "3109/3109 [==============================] - 75s 24ms/step - loss: 0.6885 - auc_15: 0.9262 - precision_15: 0.7689 - recall_15: 0.9367 - accuracy: 0.0000e+00 - val_loss: 0.8165 - val_auc_15: 0.9455 - val_precision_15: 0.2478 - val_recall_15: 0.9604 - val_accuracy: 0.0000e+00\n",
      "Epoch 9/20\n",
      "3109/3109 [==============================] - 75s 24ms/step - loss: 0.6860 - auc_15: 0.9271 - precision_15: 0.7705 - recall_15: 0.9348 - accuracy: 0.0000e+00 - val_loss: 0.6992 - val_auc_15: 0.9462 - val_precision_15: 0.2777 - val_recall_15: 0.9392 - val_accuracy: 0.0000e+00\n",
      "Epoch 10/20\n",
      "3109/3109 [==============================] - 75s 24ms/step - loss: 0.6910 - auc_15: 0.9265 - precision_15: 0.7698 - recall_15: 0.9371 - accuracy: 0.0000e+00 - val_loss: 0.5459 - val_auc_15: 0.9460 - val_precision_15: 0.3247 - val_recall_15: 0.8894 - val_accuracy: 0.0000e+00\n",
      "Epoch 11/20\n",
      "3109/3109 [==============================] - 75s 24ms/step - loss: 0.6867 - auc_15: 0.9271 - precision_15: 0.7693 - recall_15: 0.9371 - accuracy: 0.0000e+00 - val_loss: 0.9402 - val_auc_15: 0.9456 - val_precision_15: 0.2151 - val_recall_15: 0.9724 - val_accuracy: 0.0000e+00\n",
      "Epoch 12/20\n",
      "3109/3109 [==============================] - 75s 24ms/step - loss: 0.6864 - auc_15: 0.9266 - precision_15: 0.7702 - recall_15: 0.9368 - accuracy: 0.0000e+00 - val_loss: 0.5897 - val_auc_15: 0.9463 - val_precision_15: 0.3337 - val_recall_15: 0.9032 - val_accuracy: 0.0000e+00\n",
      "Epoch 13/20\n",
      "3109/3109 [==============================] - 76s 24ms/step - loss: 0.6954 - auc_15: 0.9256 - precision_15: 0.7680 - recall_15: 0.9366 - accuracy: 0.0000e+00 - val_loss: 0.4745 - val_auc_15: 0.9469 - val_precision_15: 0.3933 - val_recall_15: 0.8507 - val_accuracy: 0.0000e+00\n",
      "Epoch 14/20\n",
      "3109/3109 [==============================] - 75s 24ms/step - loss: 0.6889 - auc_15: 0.9260 - precision_15: 0.7675 - recall_15: 0.9385 - accuracy: 0.0000e+00 - val_loss: 0.8350 - val_auc_15: 0.9473 - val_precision_15: 0.2105 - val_recall_15: 0.9742 - val_accuracy: 0.0000e+00\n",
      "Epoch 15/20\n",
      "3109/3109 [==============================] - 76s 24ms/step - loss: 0.6923 - auc_15: 0.9256 - precision_15: 0.7702 - recall_15: 0.9364 - accuracy: 0.0000e+00 - val_loss: 0.5307 - val_auc_15: 0.9470 - val_precision_15: 0.3438 - val_recall_15: 0.8885 - val_accuracy: 0.0000e+00\n",
      "Epoch 16/20\n",
      "3109/3109 [==============================] - 76s 24ms/step - loss: 0.6914 - auc_15: 0.9261 - precision_15: 0.7677 - recall_15: 0.9372 - accuracy: 0.0000e+00 - val_loss: 0.5671 - val_auc_15: 0.9474 - val_precision_15: 0.3035 - val_recall_15: 0.9263 - val_accuracy: 0.0000e+00\n",
      "Epoch 17/20\n",
      "3109/3109 [==============================] - 77s 25ms/step - loss: 0.6868 - auc_15: 0.9271 - precision_15: 0.7691 - recall_15: 0.9372 - accuracy: 0.0000e+00 - val_loss: 0.3386 - val_auc_15: 0.9464 - val_precision_15: 0.5736 - val_recall_15: 0.7475 - val_accuracy: 0.0000e+00\n",
      "Epoch 18/20\n",
      "3109/3109 [==============================] - 75s 24ms/step - loss: 0.6916 - auc_15: 0.9272 - precision_15: 0.7684 - recall_15: 0.9370 - accuracy: 0.0000e+00 - val_loss: 0.7289 - val_auc_15: 0.9472 - val_precision_15: 0.2701 - val_recall_15: 0.9447 - val_accuracy: 0.0000e+00\n",
      "Epoch 19/20\n",
      "3109/3109 [==============================] - 75s 24ms/step - loss: 0.6889 - auc_15: 0.9272 - precision_15: 0.7697 - recall_15: 0.9368 - accuracy: 0.0000e+00 - val_loss: 0.4249 - val_auc_15: 0.9471 - val_precision_15: 0.4483 - val_recall_15: 0.8120 - val_accuracy: 0.0000e+00\n",
      "Epoch 20/20\n",
      "3109/3109 [==============================] - 75s 24ms/step - loss: 0.6874 - auc_15: 0.9268 - precision_15: 0.7703 - recall_15: 0.9374 - accuracy: 0.0000e+00 - val_loss: 1.2667 - val_auc_15: 0.9436 - val_precision_15: 0.1908 - val_recall_15: 0.9853 - val_accuracy: 0.0000e+00\n",
      "416/416 [==============================] - 2s 4ms/step\n"
     ]
    },
    {
     "name": "stderr",
     "output_type": "stream",
     "text": [
      "[I 2024-02-21 08:08:15,684] Trial 13 finished with value: 0.7204585537918871 and parameters: {'num_of_layers': 6, 'num_of_neurons': 6, 'dropout': 0.5713160289872272, 'l2': 0.0022358032992675038, 'learning_rate': 0.01057665366299741, 'scale_pos_weight_multiplier': 4}. Best is trial 8 with value: 0.7353348729792148.\n"
     ]
    },
    {
     "name": "stdout",
     "output_type": "stream",
     "text": [
      "Epoch 1/20\n",
      "3109/3109 [==============================] - 51s 16ms/step - loss: 1.4051 - auc_16: 0.5604 - precision_16: 0.5070 - recall_16: 0.9833 - accuracy: 0.0000e+00 - val_loss: 1.4706 - val_auc_16: 0.9435 - val_precision_16: 0.0924 - val_recall_16: 1.0000 - val_accuracy: 0.0000e+00\n",
      "Epoch 2/20\n",
      "3109/3109 [==============================] - 50s 16ms/step - loss: 1.1780 - auc_16: 0.6960 - precision_16: 0.5415 - recall_16: 0.9922 - accuracy: 0.0000e+00 - val_loss: 1.2309 - val_auc_16: 0.9466 - val_precision_16: 0.1000 - val_recall_16: 1.0000 - val_accuracy: 0.0000e+00\n",
      "Epoch 3/20\n",
      "3109/3109 [==============================] - 51s 16ms/step - loss: 1.1522 - auc_16: 0.7142 - precision_16: 0.5448 - recall_16: 0.9926 - accuracy: 0.0000e+00 - val_loss: 1.1765 - val_auc_16: 0.9477 - val_precision_16: 0.0929 - val_recall_16: 1.0000 - val_accuracy: 0.0000e+00\n",
      "Epoch 4/20\n",
      "3109/3109 [==============================] - 50s 16ms/step - loss: 1.1491 - auc_16: 0.7157 - precision_16: 0.5443 - recall_16: 0.9916 - accuracy: 0.0000e+00 - val_loss: 1.0219 - val_auc_16: 0.9461 - val_precision_16: 0.1169 - val_recall_16: 1.0000 - val_accuracy: 0.0000e+00\n",
      "Epoch 5/20\n",
      "3109/3109 [==============================] - 51s 16ms/step - loss: 1.1446 - auc_16: 0.7144 - precision_16: 0.5460 - recall_16: 0.9924 - accuracy: 0.0000e+00 - val_loss: 1.1366 - val_auc_16: 0.9475 - val_precision_16: 0.1132 - val_recall_16: 1.0000 - val_accuracy: 0.0000e+00\n",
      "Epoch 6/20\n",
      "3109/3109 [==============================] - 50s 16ms/step - loss: 1.1434 - auc_16: 0.7148 - precision_16: 0.5461 - recall_16: 0.9923 - accuracy: 0.0000e+00 - val_loss: 0.9874 - val_auc_16: 0.9476 - val_precision_16: 0.1245 - val_recall_16: 1.0000 - val_accuracy: 0.0000e+00\n",
      "Epoch 7/20\n",
      "3109/3109 [==============================] - 50s 16ms/step - loss: 1.1491 - auc_16: 0.7131 - precision_16: 0.5453 - recall_16: 0.9925 - accuracy: 0.0000e+00 - val_loss: 1.1064 - val_auc_16: 0.9471 - val_precision_16: 0.1132 - val_recall_16: 1.0000 - val_accuracy: 0.0000e+00\n",
      "Epoch 8/20\n",
      "3109/3109 [==============================] - 50s 16ms/step - loss: 1.1486 - auc_16: 0.7143 - precision_16: 0.5446 - recall_16: 0.9923 - accuracy: 1.0053e-05 - val_loss: 1.1366 - val_auc_16: 0.9465 - val_precision_16: 0.1120 - val_recall_16: 1.0000 - val_accuracy: 0.0000e+00\n",
      "Epoch 9/20\n",
      "3109/3109 [==============================] - 50s 16ms/step - loss: 1.1418 - auc_16: 0.7171 - precision_16: 0.5472 - recall_16: 0.9920 - accuracy: 0.0000e+00 - val_loss: 0.9756 - val_auc_16: 0.9470 - val_precision_16: 0.0924 - val_recall_16: 1.0000 - val_accuracy: 0.0000e+00\n",
      "Epoch 10/20\n",
      "3109/3109 [==============================] - 50s 16ms/step - loss: 1.1466 - auc_16: 0.7154 - precision_16: 0.5451 - recall_16: 0.9913 - accuracy: 0.0000e+00 - val_loss: 0.9222 - val_auc_16: 0.9473 - val_precision_16: 0.1315 - val_recall_16: 1.0000 - val_accuracy: 0.0000e+00\n",
      "Epoch 11/20\n",
      "3109/3109 [==============================] - 50s 16ms/step - loss: 1.1467 - auc_16: 0.7134 - precision_16: 0.5457 - recall_16: 0.9926 - accuracy: 0.0000e+00 - val_loss: 1.2743 - val_auc_16: 0.9459 - val_precision_16: 0.0924 - val_recall_16: 1.0000 - val_accuracy: 0.0000e+00\n",
      "Epoch 12/20\n",
      "3109/3109 [==============================] - 50s 16ms/step - loss: 1.1499 - auc_16: 0.7094 - precision_16: 0.5449 - recall_16: 0.9928 - accuracy: 0.0000e+00 - val_loss: 1.0618 - val_auc_16: 0.9472 - val_precision_16: 0.1167 - val_recall_16: 1.0000 - val_accuracy: 0.0000e+00\n",
      "Epoch 13/20\n",
      "3109/3109 [==============================] - 50s 16ms/step - loss: 1.1459 - auc_16: 0.7155 - precision_16: 0.5453 - recall_16: 0.9921 - accuracy: 1.0053e-05 - val_loss: 1.0455 - val_auc_16: 0.9473 - val_precision_16: 0.1216 - val_recall_16: 1.0000 - val_accuracy: 0.0000e+00\n",
      "Epoch 14/20\n",
      "3109/3109 [==============================] - 50s 16ms/step - loss: 1.1462 - auc_16: 0.7136 - precision_16: 0.5450 - recall_16: 0.9923 - accuracy: 0.0000e+00 - val_loss: 1.0667 - val_auc_16: 0.9471 - val_precision_16: 0.0924 - val_recall_16: 1.0000 - val_accuracy: 0.0000e+00\n",
      "Epoch 15/20\n",
      "3109/3109 [==============================] - 50s 16ms/step - loss: 1.1513 - auc_16: 0.7115 - precision_16: 0.5444 - recall_16: 0.9921 - accuracy: 0.0000e+00 - val_loss: 1.1533 - val_auc_16: 0.9458 - val_precision_16: 0.1110 - val_recall_16: 1.0000 - val_accuracy: 0.0000e+00\n",
      "Epoch 16/20\n",
      "3109/3109 [==============================] - 50s 16ms/step - loss: 1.1484 - auc_16: 0.7119 - precision_16: 0.5457 - recall_16: 0.9922 - accuracy: 0.0000e+00 - val_loss: 0.9600 - val_auc_16: 0.9474 - val_precision_16: 0.1234 - val_recall_16: 1.0000 - val_accuracy: 0.0000e+00\n",
      "Epoch 17/20\n",
      "3109/3109 [==============================] - 50s 16ms/step - loss: 1.1484 - auc_16: 0.7139 - precision_16: 0.5454 - recall_16: 0.9918 - accuracy: 1.0053e-05 - val_loss: 1.4425 - val_auc_16: 0.9472 - val_precision_16: 0.0924 - val_recall_16: 1.0000 - val_accuracy: 0.0000e+00\n",
      "Epoch 18/20\n",
      "3109/3109 [==============================] - 50s 16ms/step - loss: 1.1486 - auc_16: 0.7141 - precision_16: 0.5452 - recall_16: 0.9919 - accuracy: 2.0107e-05 - val_loss: 0.9353 - val_auc_16: 0.9472 - val_precision_16: 0.1283 - val_recall_16: 1.0000 - val_accuracy: 0.0000e+00\n",
      "Epoch 19/20\n",
      "3109/3109 [==============================] - 50s 16ms/step - loss: 1.1446 - auc_16: 0.7170 - precision_16: 0.5460 - recall_16: 0.9919 - accuracy: 2.0107e-05 - val_loss: 0.9850 - val_auc_16: 0.9467 - val_precision_16: 0.1261 - val_recall_16: 1.0000 - val_accuracy: 0.0000e+00\n",
      "Epoch 20/20\n",
      "3109/3109 [==============================] - 50s 16ms/step - loss: 1.1446 - auc_16: 0.7155 - precision_16: 0.5455 - recall_16: 0.9918 - accuracy: 2.0107e-05 - val_loss: 1.1240 - val_auc_16: 0.9474 - val_precision_16: 0.1150 - val_recall_16: 1.0000 - val_accuracy: 0.0000e+00\n",
      "416/416 [==============================] - 1s 2ms/step\n"
     ]
    },
    {
     "name": "stderr",
     "output_type": "stream",
     "text": [
      "[I 2024-02-21 08:25:01,424] Trial 14 finished with value: 0.723756906077348 and parameters: {'num_of_layers': 3, 'num_of_neurons': 1, 'dropout': 0.573105007117752, 'l2': 0.0017031309495350963, 'learning_rate': 0.002954466362016672, 'scale_pos_weight_multiplier': 2}. Best is trial 8 with value: 0.7353348729792148.\n"
     ]
    },
    {
     "name": "stdout",
     "output_type": "stream",
     "text": [
      "Epoch 1/20\n",
      "3109/3109 [==============================] - 43s 14ms/step - loss: 1.0207 - auc_17: 0.9117 - precision_17: 0.6730 - recall_17: 0.9777 - accuracy: 2.0107e-05 - val_loss: 1.0021 - val_auc_17: 0.9510 - val_precision_17: 0.1851 - val_recall_17: 0.9945 - val_accuracy: 0.0000e+00\n",
      "Epoch 2/20\n",
      "3109/3109 [==============================] - 42s 13ms/step - loss: 0.7658 - auc_17: 0.9422 - precision_17: 0.7085 - recall_17: 0.9914 - accuracy: 5.5294e-04 - val_loss: 0.8220 - val_auc_17: 0.9565 - val_precision_17: 0.1982 - val_recall_17: 0.9954 - val_accuracy: 0.0000e+00\n",
      "Epoch 3/20\n",
      "3109/3109 [==============================] - 42s 13ms/step - loss: 0.7240 - auc_17: 0.9462 - precision_17: 0.7196 - recall_17: 0.9928 - accuracy: 9.4503e-04 - val_loss: 0.7583 - val_auc_17: 0.9575 - val_precision_17: 0.2160 - val_recall_17: 0.9954 - val_accuracy: 0.0000e+00\n",
      "Epoch 4/20\n",
      "3109/3109 [==============================] - 42s 13ms/step - loss: 0.6973 - auc_17: 0.9486 - precision_17: 0.7262 - recall_17: 0.9942 - accuracy: 7.3390e-04 - val_loss: 0.8239 - val_auc_17: 0.9578 - val_precision_17: 0.2103 - val_recall_17: 0.9982 - val_accuracy: 0.0000e+00\n",
      "Epoch 5/20\n",
      "3109/3109 [==============================] - 42s 13ms/step - loss: 0.6731 - auc_17: 0.9510 - precision_17: 0.7326 - recall_17: 0.9946 - accuracy: 0.0011 - val_loss: 0.7555 - val_auc_17: 0.9576 - val_precision_17: 0.2317 - val_recall_17: 0.9935 - val_accuracy: 0.0000e+00\n",
      "Epoch 6/20\n",
      "3109/3109 [==============================] - 42s 13ms/step - loss: 0.6709 - auc_17: 0.9515 - precision_17: 0.7339 - recall_17: 0.9941 - accuracy: 0.0010 - val_loss: 0.6904 - val_auc_17: 0.9615 - val_precision_17: 0.2117 - val_recall_17: 0.9982 - val_accuracy: 0.0000e+00\n",
      "Epoch 7/20\n",
      "3109/3109 [==============================] - 42s 13ms/step - loss: 0.6768 - auc_17: 0.9512 - precision_17: 0.7291 - recall_17: 0.9946 - accuracy: 0.0012 - val_loss: 0.7925 - val_auc_17: 0.9560 - val_precision_17: 0.2323 - val_recall_17: 0.9945 - val_accuracy: 0.0000e+00\n",
      "Epoch 8/20\n",
      "3109/3109 [==============================] - 42s 13ms/step - loss: 0.6683 - auc_17: 0.9521 - precision_17: 0.7320 - recall_17: 0.9948 - accuracy: 0.0017 - val_loss: 0.7608 - val_auc_17: 0.9518 - val_precision_17: 0.2175 - val_recall_17: 0.9917 - val_accuracy: 0.0000e+00\n",
      "Epoch 9/20\n",
      "3109/3109 [==============================] - 41s 13ms/step - loss: 0.6695 - auc_17: 0.9518 - precision_17: 0.7309 - recall_17: 0.9946 - accuracy: 0.0012 - val_loss: 1.0279 - val_auc_17: 0.9569 - val_precision_17: 0.2033 - val_recall_17: 1.0000 - val_accuracy: 0.0000e+00\n",
      "Epoch 10/20\n",
      "3109/3109 [==============================] - 41s 13ms/step - loss: 0.6691 - auc_17: 0.9518 - precision_17: 0.7314 - recall_17: 0.9950 - accuracy: 9.0481e-04 - val_loss: 0.9458 - val_auc_17: 0.9575 - val_precision_17: 0.2041 - val_recall_17: 1.0000 - val_accuracy: 0.0000e+00\n",
      "Epoch 11/20\n",
      "3109/3109 [==============================] - 41s 13ms/step - loss: 0.6635 - auc_17: 0.9526 - precision_17: 0.7326 - recall_17: 0.9950 - accuracy: 0.0012 - val_loss: 0.8974 - val_auc_17: 0.9604 - val_precision_17: 0.2071 - val_recall_17: 0.9991 - val_accuracy: 0.0000e+00\n",
      "Epoch 12/20\n",
      "3109/3109 [==============================] - 42s 13ms/step - loss: 0.6651 - auc_17: 0.9526 - precision_17: 0.7322 - recall_17: 0.9945 - accuracy: 0.0011 - val_loss: 0.8031 - val_auc_17: 0.9590 - val_precision_17: 0.2113 - val_recall_17: 0.9991 - val_accuracy: 0.0000e+00\n",
      "Epoch 13/20\n",
      "3109/3109 [==============================] - 42s 14ms/step - loss: 0.6652 - auc_17: 0.9532 - precision_17: 0.7311 - recall_17: 0.9947 - accuracy: 0.0011 - val_loss: 0.6895 - val_auc_17: 0.9539 - val_precision_17: 0.2181 - val_recall_17: 0.9972 - val_accuracy: 0.0000e+00\n",
      "Epoch 14/20\n",
      "3109/3109 [==============================] - 42s 13ms/step - loss: 0.6575 - auc_17: 0.9547 - precision_17: 0.7328 - recall_17: 0.9949 - accuracy: 0.0011 - val_loss: 0.7941 - val_auc_17: 0.9597 - val_precision_17: 0.2172 - val_recall_17: 0.9972 - val_accuracy: 0.0000e+00\n",
      "Epoch 15/20\n",
      "3109/3109 [==============================] - 42s 13ms/step - loss: 0.6592 - auc_17: 0.9542 - precision_17: 0.7327 - recall_17: 0.9951 - accuracy: 0.0015 - val_loss: 0.8300 - val_auc_17: 0.9595 - val_precision_17: 0.2248 - val_recall_17: 0.9954 - val_accuracy: 0.0000e+00\n",
      "Epoch 16/20\n",
      "3109/3109 [==============================] - 42s 13ms/step - loss: 0.6574 - auc_17: 0.9544 - precision_17: 0.7327 - recall_17: 0.9951 - accuracy: 0.0016 - val_loss: 0.7645 - val_auc_17: 0.9595 - val_precision_17: 0.2204 - val_recall_17: 0.9963 - val_accuracy: 0.0000e+00\n",
      "Epoch 17/20\n",
      "3109/3109 [==============================] - 42s 13ms/step - loss: 0.6571 - auc_17: 0.9546 - precision_17: 0.7326 - recall_17: 0.9949 - accuracy: 0.0016 - val_loss: 0.7952 - val_auc_17: 0.9590 - val_precision_17: 0.2252 - val_recall_17: 0.9954 - val_accuracy: 0.0000e+00\n",
      "Epoch 18/20\n",
      "3109/3109 [==============================] - 42s 13ms/step - loss: 0.6583 - auc_17: 0.9550 - precision_17: 0.7329 - recall_17: 0.9945 - accuracy: 0.0014 - val_loss: 0.7951 - val_auc_17: 0.9598 - val_precision_17: 0.2180 - val_recall_17: 0.9982 - val_accuracy: 0.0000e+00\n",
      "Epoch 19/20\n",
      "3109/3109 [==============================] - 42s 14ms/step - loss: 0.6583 - auc_17: 0.9544 - precision_17: 0.7340 - recall_17: 0.9947 - accuracy: 0.0014 - val_loss: 0.7385 - val_auc_17: 0.9603 - val_precision_17: 0.2325 - val_recall_17: 0.9926 - val_accuracy: 0.0000e+00\n",
      "Epoch 20/20\n",
      "3109/3109 [==============================] - 42s 13ms/step - loss: 0.6559 - auc_17: 0.9551 - precision_17: 0.7340 - recall_17: 0.9946 - accuracy: 0.0010 - val_loss: 0.6342 - val_auc_17: 0.9601 - val_precision_17: 0.2238 - val_recall_17: 0.9963 - val_accuracy: 0.0000e+00\n",
      "416/416 [==============================] - 1s 2ms/step\n"
     ]
    },
    {
     "name": "stderr",
     "output_type": "stream",
     "text": [
      "[I 2024-02-21 08:38:56,869] Trial 15 finished with value: 0.7578454332552694 and parameters: {'num_of_layers': 2, 'num_of_neurons': 4, 'dropout': 0.3078955107209812, 'l2': 0.0034225062459207157, 'learning_rate': 0.001597106032793918, 'scale_pos_weight_multiplier': 1}. Best is trial 15 with value: 0.7578454332552694.\n"
     ]
    },
    {
     "name": "stdout",
     "output_type": "stream",
     "text": [
      "Epoch 1/20\n",
      "3109/3109 [==============================] - 43s 13ms/step - loss: 0.8501 - auc_18: 0.9403 - precision_18: 0.7045 - recall_18: 0.9880 - accuracy: 2.0107e-05 - val_loss: 0.6790 - val_auc_18: 0.9522 - val_precision_18: 0.2539 - val_recall_18: 0.9779 - val_accuracy: 0.0000e+00\n",
      "Epoch 2/20\n",
      "3109/3109 [==============================] - 42s 14ms/step - loss: 0.7230 - auc_18: 0.9493 - precision_18: 0.7241 - recall_18: 0.9938 - accuracy: 4.1219e-04 - val_loss: 1.3101 - val_auc_18: 0.9327 - val_precision_18: 0.1501 - val_recall_18: 0.9991 - val_accuracy: 0.0000e+00\n",
      "Epoch 3/20\n",
      "3109/3109 [==============================] - 42s 13ms/step - loss: 0.7219 - auc_18: 0.9488 - precision_18: 0.7236 - recall_18: 0.9934 - accuracy: 5.0267e-04 - val_loss: 0.7085 - val_auc_18: 0.9567 - val_precision_18: 0.2393 - val_recall_18: 0.9862 - val_accuracy: 0.0000e+00\n",
      "Epoch 4/20\n",
      "3109/3109 [==============================] - 42s 13ms/step - loss: 0.7123 - auc_18: 0.9509 - precision_18: 0.7257 - recall_18: 0.9931 - accuracy: 1.2064e-04 - val_loss: 0.7330 - val_auc_18: 0.9585 - val_precision_18: 0.2215 - val_recall_18: 0.9945 - val_accuracy: 0.0000e+00\n",
      "Epoch 5/20\n",
      "3109/3109 [==============================] - 42s 14ms/step - loss: 0.7181 - auc_18: 0.9501 - precision_18: 0.7229 - recall_18: 0.9934 - accuracy: 1.5080e-04 - val_loss: 0.7938 - val_auc_18: 0.9586 - val_precision_18: 0.2198 - val_recall_18: 0.9935 - val_accuracy: 0.0000e+00\n",
      "Epoch 6/20\n",
      "3109/3109 [==============================] - 42s 13ms/step - loss: 0.7005 - auc_18: 0.9516 - precision_18: 0.7266 - recall_18: 0.9937 - accuracy: 9.0481e-05 - val_loss: 0.7159 - val_auc_18: 0.9590 - val_precision_18: 0.2198 - val_recall_18: 0.9945 - val_accuracy: 0.0000e+00\n",
      "Epoch 7/20\n",
      "3109/3109 [==============================] - 42s 13ms/step - loss: 0.7149 - auc_18: 0.9498 - precision_18: 0.7237 - recall_18: 0.9934 - accuracy: 2.2118e-04 - val_loss: 1.1155 - val_auc_18: 0.9553 - val_precision_18: 0.1914 - val_recall_18: 1.0000 - val_accuracy: 0.0000e+00\n",
      "Epoch 8/20\n",
      "3109/3109 [==============================] - 41s 13ms/step - loss: 0.7069 - auc_18: 0.9506 - precision_18: 0.7259 - recall_18: 0.9936 - accuracy: 2.4128e-04 - val_loss: 0.7607 - val_auc_18: 0.9549 - val_precision_18: 0.2160 - val_recall_18: 0.9926 - val_accuracy: 0.0000e+00\n",
      "Epoch 9/20\n",
      "3109/3109 [==============================] - 42s 13ms/step - loss: 0.7044 - auc_18: 0.9508 - precision_18: 0.7255 - recall_18: 0.9941 - accuracy: 2.9155e-04 - val_loss: 0.7245 - val_auc_18: 0.9556 - val_precision_18: 0.2285 - val_recall_18: 0.9899 - val_accuracy: 0.0000e+00\n",
      "Epoch 10/20\n",
      "3109/3109 [==============================] - 41s 13ms/step - loss: 0.7022 - auc_18: 0.9505 - precision_18: 0.7252 - recall_18: 0.9942 - accuracy: 1.9102e-04 - val_loss: 0.9704 - val_auc_18: 0.9518 - val_precision_18: 0.2103 - val_recall_18: 0.9972 - val_accuracy: 0.0000e+00\n",
      "Epoch 11/20\n",
      "3109/3109 [==============================] - 42s 13ms/step - loss: 0.7108 - auc_18: 0.9503 - precision_18: 0.7223 - recall_18: 0.9939 - accuracy: 1.5080e-04 - val_loss: 0.5988 - val_auc_18: 0.9579 - val_precision_18: 0.2474 - val_recall_18: 0.9825 - val_accuracy: 0.0000e+00\n",
      "Epoch 12/20\n",
      "3109/3109 [==============================] - 41s 13ms/step - loss: 0.7058 - auc_18: 0.9508 - precision_18: 0.7261 - recall_18: 0.9940 - accuracy: 9.0481e-05 - val_loss: 0.5340 - val_auc_18: 0.9469 - val_precision_18: 0.2665 - val_recall_18: 0.9290 - val_accuracy: 0.0000e+00\n",
      "Epoch 13/20\n",
      "3109/3109 [==============================] - 41s 13ms/step - loss: 0.7043 - auc_18: 0.9514 - precision_18: 0.7251 - recall_18: 0.9941 - accuracy: 6.9369e-04 - val_loss: 0.7779 - val_auc_18: 0.9553 - val_precision_18: 0.2098 - val_recall_18: 0.9991 - val_accuracy: 0.0000e+00\n",
      "Epoch 14/20\n",
      "3109/3109 [==============================] - 41s 13ms/step - loss: 0.7133 - auc_18: 0.9503 - precision_18: 0.7234 - recall_18: 0.9937 - accuracy: 7.5401e-04 - val_loss: 0.7940 - val_auc_18: 0.9569 - val_precision_18: 0.2252 - val_recall_18: 0.9908 - val_accuracy: 0.0000e+00\n",
      "Epoch 15/20\n",
      "3109/3109 [==============================] - 41s 13ms/step - loss: 0.6993 - auc_18: 0.9515 - precision_18: 0.7249 - recall_18: 0.9936 - accuracy: 7.3390e-04 - val_loss: 0.8381 - val_auc_18: 0.9572 - val_precision_18: 0.2158 - val_recall_18: 0.9935 - val_accuracy: 0.0000e+00\n",
      "Epoch 16/20\n",
      "3109/3109 [==============================] - 42s 13ms/step - loss: 0.7157 - auc_18: 0.9490 - precision_18: 0.7217 - recall_18: 0.9938 - accuracy: 1.3070e-04 - val_loss: 0.6095 - val_auc_18: 0.9475 - val_precision_18: 0.2822 - val_recall_18: 0.9346 - val_accuracy: 0.0000e+00\n",
      "Epoch 17/20\n",
      "3109/3109 [==============================] - 42s 13ms/step - loss: 0.7000 - auc_18: 0.9511 - precision_18: 0.7260 - recall_18: 0.9943 - accuracy: 2.2118e-04 - val_loss: 0.9826 - val_auc_18: 0.9269 - val_precision_18: 0.2016 - val_recall_18: 0.9677 - val_accuracy: 0.0000e+00\n",
      "Epoch 18/20\n",
      "3109/3109 [==============================] - 42s 14ms/step - loss: 0.7142 - auc_18: 0.9493 - precision_18: 0.7195 - recall_18: 0.9940 - accuracy: 1.3070e-04 - val_loss: 1.0668 - val_auc_18: 0.9526 - val_precision_18: 0.1951 - val_recall_18: 1.0000 - val_accuracy: 0.0000e+00\n",
      "Epoch 19/20\n",
      "3109/3109 [==============================] - 42s 13ms/step - loss: 0.7126 - auc_18: 0.9489 - precision_18: 0.7243 - recall_18: 0.9936 - accuracy: 1.0053e-04 - val_loss: 0.9380 - val_auc_18: 0.9503 - val_precision_18: 0.2101 - val_recall_18: 0.9972 - val_accuracy: 0.0000e+00\n",
      "Epoch 20/20\n",
      "3109/3109 [==============================] - 42s 13ms/step - loss: 0.7132 - auc_18: 0.9487 - precision_18: 0.7235 - recall_18: 0.9938 - accuracy: 7.0374e-05 - val_loss: 0.7218 - val_auc_18: 0.9572 - val_precision_18: 0.2180 - val_recall_18: 0.9954 - val_accuracy: 0.0000e+00\n",
      "416/416 [==============================] - 1s 2ms/step\n"
     ]
    },
    {
     "name": "stderr",
     "output_type": "stream",
     "text": [
      "[I 2024-02-21 08:52:52,813] Trial 16 finished with value: 0.719225449515906 and parameters: {'num_of_layers': 2, 'num_of_neurons': 6, 'dropout': 0.3202047627704501, 'l2': 0.002427953884560379, 'learning_rate': 0.005242711019479255, 'scale_pos_weight_multiplier': 1}. Best is trial 15 with value: 0.7578454332552694.\n"
     ]
    },
    {
     "name": "stdout",
     "output_type": "stream",
     "text": [
      "Epoch 1/20\n",
      "3109/3109 [==============================] - 52s 16ms/step - loss: 1.6850 - auc_19: 0.7428 - precision_19: 0.5378 - recall_19: 0.9553 - accuracy: 1.3070e-04 - val_loss: 1.0319 - val_auc_19: 0.9475 - val_precision_19: 0.1652 - val_recall_19: 0.9954 - val_accuracy: 0.0000e+00\n",
      "Epoch 2/20\n",
      "3109/3109 [==============================] - 51s 16ms/step - loss: 1.1192 - auc_19: 0.8806 - precision_19: 0.5974 - recall_19: 0.9910 - accuracy: 0.0032 - val_loss: 0.9930 - val_auc_19: 0.9477 - val_precision_19: 0.1612 - val_recall_19: 0.9982 - val_accuracy: 0.0000e+00\n",
      "Epoch 3/20\n",
      "3109/3109 [==============================] - 50s 16ms/step - loss: 1.0885 - auc_19: 0.8868 - precision_19: 0.5987 - recall_19: 0.9918 - accuracy: 0.0041 - val_loss: 1.0155 - val_auc_19: 0.9479 - val_precision_19: 0.1549 - val_recall_19: 0.9982 - val_accuracy: 0.0000e+00\n",
      "Epoch 4/20\n",
      "3109/3109 [==============================] - 50s 16ms/step - loss: 1.0829 - auc_19: 0.8883 - precision_19: 0.5980 - recall_19: 0.9921 - accuracy: 0.0045 - val_loss: 0.9563 - val_auc_19: 0.9485 - val_precision_19: 0.1623 - val_recall_19: 0.9963 - val_accuracy: 0.0000e+00\n",
      "Epoch 5/20\n",
      "3109/3109 [==============================] - 50s 16ms/step - loss: 1.0679 - auc_19: 0.8906 - precision_19: 0.6023 - recall_19: 0.9919 - accuracy: 0.0035 - val_loss: 0.9667 - val_auc_19: 0.9490 - val_precision_19: 0.1652 - val_recall_19: 0.9972 - val_accuracy: 0.0000e+00\n",
      "Epoch 6/20\n",
      "3109/3109 [==============================] - 50s 16ms/step - loss: 1.0609 - auc_19: 0.8912 - precision_19: 0.6061 - recall_19: 0.9922 - accuracy: 0.0026 - val_loss: 1.1308 - val_auc_19: 0.9498 - val_precision_19: 0.1541 - val_recall_19: 1.0000 - val_accuracy: 0.0000e+00\n",
      "Epoch 7/20\n",
      "3109/3109 [==============================] - 50s 16ms/step - loss: 1.0479 - auc_19: 0.8923 - precision_19: 0.6117 - recall_19: 0.9929 - accuracy: 0.0027 - val_loss: 1.1194 - val_auc_19: 0.9511 - val_precision_19: 0.1646 - val_recall_19: 1.0000 - val_accuracy: 0.0000e+00\n",
      "Epoch 8/20\n",
      "3109/3109 [==============================] - 51s 16ms/step - loss: 1.0414 - auc_19: 0.8906 - precision_19: 0.6161 - recall_19: 0.9934 - accuracy: 0.0029 - val_loss: 0.7496 - val_auc_19: 0.9517 - val_precision_19: 0.2159 - val_recall_19: 0.9917 - val_accuracy: 0.0000e+00\n",
      "Epoch 9/20\n",
      "3109/3109 [==============================] - 51s 16ms/step - loss: 1.0388 - auc_19: 0.8906 - precision_19: 0.6186 - recall_19: 0.9939 - accuracy: 0.0028 - val_loss: 0.9070 - val_auc_19: 0.9505 - val_precision_19: 0.1951 - val_recall_19: 0.9982 - val_accuracy: 0.0000e+00\n",
      "Epoch 10/20\n",
      "3109/3109 [==============================] - 51s 16ms/step - loss: 1.0269 - auc_19: 0.8915 - precision_19: 0.6220 - recall_19: 0.9935 - accuracy: 0.0033 - val_loss: 0.8581 - val_auc_19: 0.9547 - val_precision_19: 0.1995 - val_recall_19: 0.9972 - val_accuracy: 0.0000e+00\n",
      "Epoch 11/20\n",
      "3109/3109 [==============================] - 50s 16ms/step - loss: 1.0152 - auc_19: 0.8941 - precision_19: 0.6247 - recall_19: 0.9935 - accuracy: 0.0032 - val_loss: 0.9656 - val_auc_19: 0.9546 - val_precision_19: 0.1854 - val_recall_19: 1.0000 - val_accuracy: 0.0000e+00\n",
      "Epoch 12/20\n",
      "3109/3109 [==============================] - 50s 16ms/step - loss: 1.0270 - auc_19: 0.8921 - precision_19: 0.6215 - recall_19: 0.9933 - accuracy: 0.0027 - val_loss: 1.0440 - val_auc_19: 0.9546 - val_precision_19: 0.1807 - val_recall_19: 1.0000 - val_accuracy: 0.0000e+00\n",
      "Epoch 13/20\n",
      "3109/3109 [==============================] - 51s 16ms/step - loss: 1.0158 - auc_19: 0.8941 - precision_19: 0.6243 - recall_19: 0.9936 - accuracy: 0.0035 - val_loss: 0.8334 - val_auc_19: 0.9557 - val_precision_19: 0.2016 - val_recall_19: 0.9972 - val_accuracy: 0.0000e+00\n",
      "Epoch 14/20\n",
      "3109/3109 [==============================] - 51s 16ms/step - loss: 1.0165 - auc_19: 0.8946 - precision_19: 0.6234 - recall_19: 0.9934 - accuracy: 0.0033 - val_loss: 0.9490 - val_auc_19: 0.9525 - val_precision_19: 0.1867 - val_recall_19: 1.0000 - val_accuracy: 0.0000e+00\n",
      "Epoch 15/20\n",
      "3109/3109 [==============================] - 50s 16ms/step - loss: 1.0185 - auc_19: 0.8957 - precision_19: 0.6235 - recall_19: 0.9934 - accuracy: 0.0032 - val_loss: 0.9112 - val_auc_19: 0.9554 - val_precision_19: 0.1906 - val_recall_19: 0.9991 - val_accuracy: 0.0000e+00\n",
      "Epoch 16/20\n",
      "3109/3109 [==============================] - 50s 16ms/step - loss: 1.0130 - auc_19: 0.8948 - precision_19: 0.6238 - recall_19: 0.9931 - accuracy: 0.0030 - val_loss: 0.6891 - val_auc_19: 0.9562 - val_precision_19: 0.2195 - val_recall_19: 0.9926 - val_accuracy: 0.0000e+00\n",
      "Epoch 17/20\n",
      "3109/3109 [==============================] - 50s 16ms/step - loss: 1.0100 - auc_19: 0.8956 - precision_19: 0.6247 - recall_19: 0.9931 - accuracy: 0.0033 - val_loss: 0.9824 - val_auc_19: 0.9559 - val_precision_19: 0.1839 - val_recall_19: 0.9991 - val_accuracy: 0.0000e+00\n",
      "Epoch 18/20\n",
      "3109/3109 [==============================] - 50s 16ms/step - loss: 1.0152 - auc_19: 0.8957 - precision_19: 0.6237 - recall_19: 0.9936 - accuracy: 0.0025 - val_loss: 1.0243 - val_auc_19: 0.9545 - val_precision_19: 0.1791 - val_recall_19: 1.0000 - val_accuracy: 0.0000e+00\n",
      "Epoch 19/20\n",
      "3109/3109 [==============================] - 50s 16ms/step - loss: 1.0125 - auc_19: 0.8944 - precision_19: 0.6239 - recall_19: 0.9935 - accuracy: 0.0026 - val_loss: 0.9372 - val_auc_19: 0.9539 - val_precision_19: 0.1901 - val_recall_19: 1.0000 - val_accuracy: 0.0000e+00\n",
      "Epoch 20/20\n",
      "3109/3109 [==============================] - 51s 16ms/step - loss: 1.0117 - auc_19: 0.8955 - precision_19: 0.6254 - recall_19: 0.9936 - accuracy: 0.0031 - val_loss: 0.6261 - val_auc_19: 0.9563 - val_precision_19: 0.2295 - val_recall_19: 0.9899 - val_accuracy: 0.0000e+00\n",
      "416/416 [==============================] - 1s 2ms/step\n"
     ]
    },
    {
     "name": "stderr",
     "output_type": "stream",
     "text": [
      "[I 2024-02-21 09:09:41,447] Trial 17 finished with value: 0.7369345630215195 and parameters: {'num_of_layers': 3, 'num_of_neurons': 2, 'dropout': 0.39951971282221066, 'l2': 0.0011905918641595948, 'learning_rate': 0.0010979762569328635, 'scale_pos_weight_multiplier': 1}. Best is trial 15 with value: 0.7578454332552694.\n"
     ]
    },
    {
     "name": "stdout",
     "output_type": "stream",
     "text": [
      "Epoch 1/20\n",
      "3109/3109 [==============================] - 43s 14ms/step - loss: 0.9567 - auc_20: 0.9180 - precision_20: 0.6489 - recall_20: 0.9856 - accuracy: 0.0010 - val_loss: 0.6651 - val_auc_20: 0.9472 - val_precision_20: 0.2265 - val_recall_20: 0.9696 - val_accuracy: 0.0000e+00\n",
      "Epoch 2/20\n",
      "3109/3109 [==============================] - 42s 13ms/step - loss: 0.9491 - auc_20: 0.9173 - precision_20: 0.6376 - recall_20: 0.9893 - accuracy: 0.0014 - val_loss: 0.6353 - val_auc_20: 0.9479 - val_precision_20: 0.2290 - val_recall_20: 0.9687 - val_accuracy: 0.0000e+00\n",
      "Epoch 3/20\n",
      "3109/3109 [==============================] - 42s 13ms/step - loss: 0.9453 - auc_20: 0.9183 - precision_20: 0.6382 - recall_20: 0.9896 - accuracy: 0.0016 - val_loss: 0.8226 - val_auc_20: 0.9461 - val_precision_20: 0.1818 - val_recall_20: 0.9899 - val_accuracy: 0.0000e+00\n",
      "Epoch 4/20\n",
      "3109/3109 [==============================] - 43s 14ms/step - loss: 0.9443 - auc_20: 0.9181 - precision_20: 0.6369 - recall_20: 0.9893 - accuracy: 0.0025 - val_loss: 1.1422 - val_auc_20: 0.9446 - val_precision_20: 0.1631 - val_recall_20: 0.9954 - val_accuracy: 0.0000e+00\n",
      "Epoch 5/20\n",
      "3109/3109 [==============================] - 42s 13ms/step - loss: 0.9411 - auc_20: 0.9190 - precision_20: 0.6375 - recall_20: 0.9894 - accuracy: 0.0022 - val_loss: 1.0751 - val_auc_20: 0.9458 - val_precision_20: 0.1674 - val_recall_20: 0.9926 - val_accuracy: 0.0000e+00\n",
      "Epoch 6/20\n",
      "3109/3109 [==============================] - 42s 13ms/step - loss: 0.9395 - auc_20: 0.9181 - precision_20: 0.6402 - recall_20: 0.9890 - accuracy: 0.0022 - val_loss: 1.1573 - val_auc_20: 0.9455 - val_precision_20: 0.1599 - val_recall_20: 0.9982 - val_accuracy: 0.0000e+00\n",
      "Epoch 7/20\n",
      "3109/3109 [==============================] - 42s 13ms/step - loss: 0.9360 - auc_20: 0.9198 - precision_20: 0.6407 - recall_20: 0.9895 - accuracy: 0.0016 - val_loss: 1.2820 - val_auc_20: 0.9418 - val_precision_20: 0.1585 - val_recall_20: 0.9954 - val_accuracy: 0.0000e+00\n",
      "Epoch 8/20\n",
      "3109/3109 [==============================] - 42s 13ms/step - loss: 0.9392 - auc_20: 0.9195 - precision_20: 0.6386 - recall_20: 0.9892 - accuracy: 0.0011 - val_loss: 0.9854 - val_auc_20: 0.9463 - val_precision_20: 0.1644 - val_recall_20: 0.9954 - val_accuracy: 0.0000e+00\n",
      "Epoch 9/20\n",
      "3109/3109 [==============================] - 42s 14ms/step - loss: 0.9403 - auc_20: 0.9186 - precision_20: 0.6395 - recall_20: 0.9894 - accuracy: 0.0022 - val_loss: 1.1724 - val_auc_20: 0.9456 - val_precision_20: 0.1503 - val_recall_20: 0.9991 - val_accuracy: 0.0000e+00\n",
      "Epoch 10/20\n",
      "3109/3109 [==============================] - 42s 13ms/step - loss: 0.9336 - auc_20: 0.9201 - precision_20: 0.6407 - recall_20: 0.9891 - accuracy: 0.0021 - val_loss: 1.0714 - val_auc_20: 0.9467 - val_precision_20: 0.1545 - val_recall_20: 0.9991 - val_accuracy: 0.0000e+00\n",
      "Epoch 11/20\n",
      "3109/3109 [==============================] - 42s 14ms/step - loss: 0.9354 - auc_20: 0.9197 - precision_20: 0.6407 - recall_20: 0.9896 - accuracy: 0.0013 - val_loss: 1.8310 - val_auc_20: 0.9382 - val_precision_20: 0.1268 - val_recall_20: 1.0000 - val_accuracy: 0.0000e+00\n",
      "Epoch 12/20\n",
      "3109/3109 [==============================] - 42s 13ms/step - loss: 0.9486 - auc_20: 0.9177 - precision_20: 0.6365 - recall_20: 0.9893 - accuracy: 0.0021 - val_loss: 1.0532 - val_auc_20: 0.9444 - val_precision_20: 0.1437 - val_recall_20: 1.0000 - val_accuracy: 0.0000e+00\n",
      "Epoch 13/20\n",
      "3109/3109 [==============================] - 42s 13ms/step - loss: 0.9451 - auc_20: 0.9185 - precision_20: 0.6373 - recall_20: 0.9898 - accuracy: 0.0023 - val_loss: 0.5748 - val_auc_20: 0.9475 - val_precision_20: 0.2484 - val_recall_20: 0.9576 - val_accuracy: 0.0000e+00\n",
      "Epoch 14/20\n",
      "3109/3109 [==============================] - 42s 13ms/step - loss: 0.9386 - auc_20: 0.9189 - precision_20: 0.6401 - recall_20: 0.9892 - accuracy: 0.0021 - val_loss: 0.6210 - val_auc_20: 0.9450 - val_precision_20: 0.2355 - val_recall_20: 0.9641 - val_accuracy: 0.0000e+00\n",
      "Epoch 15/20\n",
      "3109/3109 [==============================] - 42s 13ms/step - loss: 0.9341 - auc_20: 0.9195 - precision_20: 0.6418 - recall_20: 0.9894 - accuracy: 0.0023 - val_loss: 0.8837 - val_auc_20: 0.9442 - val_precision_20: 0.1979 - val_recall_20: 0.9797 - val_accuracy: 0.0000e+00\n",
      "Epoch 16/20\n",
      "3109/3109 [==============================] - 42s 14ms/step - loss: 0.9433 - auc_20: 0.9182 - precision_20: 0.6375 - recall_20: 0.9897 - accuracy: 0.0015 - val_loss: 1.2653 - val_auc_20: 0.9444 - val_precision_20: 0.1526 - val_recall_20: 0.9972 - val_accuracy: 0.0000e+00\n",
      "Epoch 17/20\n",
      "3109/3109 [==============================] - 43s 14ms/step - loss: 0.9368 - auc_20: 0.9200 - precision_20: 0.6395 - recall_20: 0.9895 - accuracy: 0.0014 - val_loss: 0.7874 - val_auc_20: 0.9439 - val_precision_20: 0.2073 - val_recall_20: 0.9825 - val_accuracy: 0.0000e+00\n",
      "Epoch 18/20\n",
      "3109/3109 [==============================] - 42s 13ms/step - loss: 0.9389 - auc_20: 0.9193 - precision_20: 0.6395 - recall_20: 0.9892 - accuracy: 0.0027 - val_loss: 1.2033 - val_auc_20: 0.9460 - val_precision_20: 0.1524 - val_recall_20: 0.9991 - val_accuracy: 0.0000e+00\n",
      "Epoch 19/20\n",
      "3109/3109 [==============================] - 42s 14ms/step - loss: 0.9384 - auc_20: 0.9194 - precision_20: 0.6388 - recall_20: 0.9889 - accuracy: 0.0020 - val_loss: 0.8636 - val_auc_20: 0.9467 - val_precision_20: 0.1866 - val_recall_20: 0.9880 - val_accuracy: 0.0000e+00\n",
      "Epoch 20/20\n",
      "3109/3109 [==============================] - 42s 14ms/step - loss: 0.9383 - auc_20: 0.9195 - precision_20: 0.6405 - recall_20: 0.9894 - accuracy: 0.0020 - val_loss: 1.1115 - val_auc_20: 0.9441 - val_precision_20: 0.1508 - val_recall_20: 0.9991 - val_accuracy: 0.0000e+00\n",
      "416/416 [==============================] - 1s 2ms/step\n"
     ]
    },
    {
     "name": "stderr",
     "output_type": "stream",
     "text": [
      "[I 2024-02-21 09:23:43,102] Trial 18 finished with value: 0.7081252837040398 and parameters: {'num_of_layers': 2, 'num_of_neurons': 2, 'dropout': 0.30888000331299115, 'l2': 0.0020044763823247277, 'learning_rate': 0.01094851045002535, 'scale_pos_weight_multiplier': 1}. Best is trial 15 with value: 0.7578454332552694.\n"
     ]
    },
    {
     "name": "stdout",
     "output_type": "stream",
     "text": [
      "Epoch 1/20\n",
      "3109/3109 [==============================] - 60s 19ms/step - loss: 1.4070 - auc_21: 0.8038 - precision_21: 0.5444 - recall_21: 0.9918 - accuracy: 3.2171e-04 - val_loss: 2.2019 - val_auc_21: 0.9369 - val_precision_21: 0.1005 - val_recall_21: 1.0000 - val_accuracy: 0.0000e+00\n",
      "Epoch 2/20\n",
      "3109/3109 [==============================] - 59s 19ms/step - loss: 1.3419 - auc_21: 0.8234 - precision_21: 0.5526 - recall_21: 0.9930 - accuracy: 4.2225e-04 - val_loss: 1.1155 - val_auc_21: 0.9370 - val_precision_21: 0.1471 - val_recall_21: 0.9963 - val_accuracy: 0.0000e+00\n",
      "Epoch 3/20\n",
      "3109/3109 [==============================] - 58s 19ms/step - loss: 1.3394 - auc_21: 0.8258 - precision_21: 0.5540 - recall_21: 0.9927 - accuracy: 8.0428e-04 - val_loss: 1.2354 - val_auc_21: 0.9418 - val_precision_21: 0.1260 - val_recall_21: 1.0000 - val_accuracy: 0.0000e+00\n",
      "Epoch 4/20\n",
      "3109/3109 [==============================] - 58s 19ms/step - loss: 1.3389 - auc_21: 0.8257 - precision_21: 0.5527 - recall_21: 0.9933 - accuracy: 7.5401e-04 - val_loss: 1.3097 - val_auc_21: 0.9390 - val_precision_21: 0.1364 - val_recall_21: 1.0000 - val_accuracy: 0.0000e+00\n",
      "Epoch 5/20\n",
      "3109/3109 [==============================] - 58s 19ms/step - loss: 1.3322 - auc_21: 0.8256 - precision_21: 0.5550 - recall_21: 0.9928 - accuracy: 8.4449e-04 - val_loss: 0.7031 - val_auc_21: 0.9392 - val_precision_21: 0.2067 - val_recall_21: 0.9714 - val_accuracy: 0.0000e+00\n",
      "Epoch 6/20\n",
      "3109/3109 [==============================] - 58s 19ms/step - loss: 1.3372 - auc_21: 0.8228 - precision_21: 0.5559 - recall_21: 0.9929 - accuracy: 6.0321e-04 - val_loss: 1.0019 - val_auc_21: 0.9427 - val_precision_21: 0.1429 - val_recall_21: 0.9972 - val_accuracy: 0.0000e+00\n",
      "Epoch 7/20\n",
      "3109/3109 [==============================] - 58s 19ms/step - loss: 1.3361 - auc_21: 0.8244 - precision_21: 0.5536 - recall_21: 0.9926 - accuracy: 6.5348e-04 - val_loss: 1.9769 - val_auc_21: 0.9406 - val_precision_21: 0.1008 - val_recall_21: 1.0000 - val_accuracy: 0.0000e+00\n",
      "Epoch 8/20\n",
      "3109/3109 [==============================] - 58s 19ms/step - loss: 1.4352 - auc_21: 0.7717 - precision_21: 0.5374 - recall_21: 0.9943 - accuracy: 1.4075e-04 - val_loss: 1.5769 - val_auc_21: 0.9437 - val_precision_21: 0.1181 - val_recall_21: 1.0000 - val_accuracy: 0.0000e+00\n",
      "Epoch 9/20\n",
      "3109/3109 [==============================] - 58s 19ms/step - loss: 1.4484 - auc_21: 0.7588 - precision_21: 0.5348 - recall_21: 0.9951 - accuracy: 2.5134e-04 - val_loss: 2.5309 - val_auc_21: 0.9412 - val_precision_21: 0.0931 - val_recall_21: 1.0000 - val_accuracy: 0.0000e+00\n",
      "Epoch 10/20\n",
      "3109/3109 [==============================] - 58s 18ms/step - loss: 1.4414 - auc_21: 0.7579 - precision_21: 0.5356 - recall_21: 0.9950 - accuracy: 3.3176e-04 - val_loss: 1.6602 - val_auc_21: 0.9379 - val_precision_21: 0.0925 - val_recall_21: 1.0000 - val_accuracy: 0.0000e+00\n",
      "Epoch 11/20\n",
      "3109/3109 [==============================] - 58s 18ms/step - loss: 1.4435 - auc_21: 0.7600 - precision_21: 0.5352 - recall_21: 0.9951 - accuracy: 3.1166e-04 - val_loss: 2.7082 - val_auc_21: 0.9376 - val_precision_21: 0.0925 - val_recall_21: 1.0000 - val_accuracy: 0.0000e+00\n",
      "Epoch 12/20\n",
      "3109/3109 [==============================] - 58s 19ms/step - loss: 1.4466 - auc_21: 0.7580 - precision_21: 0.5348 - recall_21: 0.9954 - accuracy: 4.8257e-04 - val_loss: 2.2557 - val_auc_21: 0.9345 - val_precision_21: 0.0960 - val_recall_21: 1.0000 - val_accuracy: 0.0000e+00\n",
      "Epoch 13/20\n",
      "3109/3109 [==============================] - 58s 19ms/step - loss: 1.4519 - auc_21: 0.7578 - precision_21: 0.5333 - recall_21: 0.9950 - accuracy: 1.9102e-04 - val_loss: 1.1327 - val_auc_21: 0.9422 - val_precision_21: 0.1119 - val_recall_21: 1.0000 - val_accuracy: 0.0000e+00\n",
      "Epoch 14/20\n",
      "3109/3109 [==============================] - 58s 19ms/step - loss: 1.4440 - auc_21: 0.7576 - precision_21: 0.5355 - recall_21: 0.9955 - accuracy: 2.2118e-04 - val_loss: 1.3273 - val_auc_21: 0.9407 - val_precision_21: 0.0930 - val_recall_21: 1.0000 - val_accuracy: 0.0000e+00\n",
      "Epoch 15/20\n",
      "3109/3109 [==============================] - 58s 19ms/step - loss: 1.4441 - auc_21: 0.7553 - precision_21: 0.5345 - recall_21: 0.9947 - accuracy: 2.3123e-04 - val_loss: 3.8705 - val_auc_21: 0.9177 - val_precision_21: 0.0924 - val_recall_21: 1.0000 - val_accuracy: 0.0000e+00\n",
      "Epoch 16/20\n",
      "3109/3109 [==============================] - 58s 19ms/step - loss: 1.4409 - auc_21: 0.7581 - precision_21: 0.5350 - recall_21: 0.9950 - accuracy: 3.3176e-04 - val_loss: 2.8880 - val_auc_21: 0.9402 - val_precision_21: 0.0924 - val_recall_21: 1.0000 - val_accuracy: 0.0000e+00\n",
      "Epoch 17/20\n",
      "3109/3109 [==============================] - 58s 19ms/step - loss: 1.4447 - auc_21: 0.7599 - precision_21: 0.5347 - recall_21: 0.9951 - accuracy: 3.1166e-04 - val_loss: 4.3476 - val_auc_21: 0.8408 - val_precision_21: 0.0924 - val_recall_21: 1.0000 - val_accuracy: 0.0000e+00\n",
      "Epoch 18/20\n",
      "3109/3109 [==============================] - 59s 19ms/step - loss: 1.4447 - auc_21: 0.7561 - precision_21: 0.5351 - recall_21: 0.9951 - accuracy: 8.5455e-04 - val_loss: 2.2187 - val_auc_21: 0.9406 - val_precision_21: 0.0924 - val_recall_21: 1.0000 - val_accuracy: 0.0000e+00\n",
      "Epoch 19/20\n",
      "3109/3109 [==============================] - 60s 19ms/step - loss: 1.4416 - auc_21: 0.7576 - precision_21: 0.5357 - recall_21: 0.9952 - accuracy: 0.0010 - val_loss: 6.3567 - val_auc_21: 0.5076 - val_precision_21: 0.0924 - val_recall_21: 1.0000 - val_accuracy: 0.0000e+00\n",
      "Epoch 20/20\n",
      "3109/3109 [==============================] - 60s 19ms/step - loss: 1.4558 - auc_21: 0.7564 - precision_21: 0.5333 - recall_21: 0.9952 - accuracy: 9.4503e-04 - val_loss: 1.0653 - val_auc_21: 0.9466 - val_precision_21: 0.0927 - val_recall_21: 1.0000 - val_accuracy: 0.0000e+00\n",
      "416/416 [==============================] - 1s 3ms/step\n"
     ]
    },
    {
     "name": "stderr",
     "output_type": "stream",
     "text": [
      "[I 2024-02-21 09:43:11,055] Trial 19 finished with value: 0.7180180180180181 and parameters: {'num_of_layers': 4, 'num_of_neurons': 2, 'dropout': 0.42996801457879885, 'l2': 0.01320030349127959, 'learning_rate': 0.030581180961981713, 'scale_pos_weight_multiplier': 1}. Best is trial 15 with value: 0.7578454332552694.\n"
     ]
    },
    {
     "name": "stdout",
     "output_type": "stream",
     "text": [
      "Number of finished trials: 20\n",
      "Best trial: {'num_of_layers': 2, 'num_of_neurons': 4, 'dropout': 0.3078955107209812, 'l2': 0.0034225062459207157, 'learning_rate': 0.001597106032793918, 'scale_pos_weight_multiplier': 1}\n"
     ]
    }
   ],
   "source": [
    "import optuna\n",
    "from sklearn.model_selection import StratifiedKFold\n",
    "from sklearn.metrics import precision_recall_curve, f1_score\n",
    "\n",
    "\n",
    "def objective(trial):\n",
    "    num_of_layers = trial.suggest_int('num_of_layers', 2, 6, step = 1)\n",
    "    dense_num_of_neurons = trial.suggest_int('num_of_neurons', 1, 6, step = 1)\n",
    "    dense_num_of_neurons = 2 ** dense_num_of_neurons\n",
    "    dropout = trial.suggest_float('dropout', 0.2, 0.6)\n",
    "    l2 = trial.suggest_float('l2', 0.001, 1, log = True)\n",
    "    learning_rate = trial.suggest_float('learning_rate', 0.001, 1, log = True)\n",
    "    scale_pos_weight_multiplier = trial.suggest_int('scale_pos_weight_multiplier', 1, 4)\n",
    "    \n",
    "    model = DiabetesClassifier(X_train_scaled.shape[1], num_of_dense_layers =num_of_layers, dense_number =dense_num_of_neurons, dropout = dropout, l2 = l2)\n",
    "    tensorboard = keras.callbacks.TensorBoard(log_dir='logs')\n",
    "    optimizer = keras.optimizers.Adam(learning_rate = learning_rate)\n",
    "    model.compile(optimizer = optimizer, loss = 'binary_crossentropy', metrics = [metrics.AUC(), metrics.Precision(), metrics.Recall(), metrics.Accuracy()])\n",
    "    model.fit(X_train_scaled, y_train, validation_data = (X_val_scaled, y_val), batch_size =32, epochs = 20, class_weight = {1: scale_pos_weight/scale_pos_weight_multiplier, 0: 1}, callbacks = [tensorboard])\n",
    "\n",
    "    n_splits = 5  # Number of folds for StratifiedKFold\n",
    "    cv = StratifiedKFold(n_splits=n_splits, shuffle=True, random_state=42)\n",
    "    \n",
    "    opt_thresholds = []\n",
    "    f1_scores = []\n",
    "    \n",
    "    for train_index, val_index in cv.split(combined_X_train, combined_y_train):\n",
    "        # Split data into training and validation for the current fold\n",
    "        X_train_curr, X_val_curr = combined_X_train[train_index], combined_X_train[val_index]\n",
    "        y_train_curr, y_val_curr = combined_y_train[train_index], combined_y_train[val_index]\n",
    "    \n",
    "        # Predict probabilities for the positive class on the validation data\n",
    "        y_pred_prob = model.predict(X_val_curr).ravel()\n",
    "    \n",
    "        # Compute precision-recall curve\n",
    "        precision, recall, thresholds = precision_recall_curve(y_val_curr, y_pred_prob)\n",
    "    \n",
    "        # Calculate F1 scores for each threshold\n",
    "        f1_scores_fold = [2 * (p * r) / (p + r) if (p + r) > 0 else 0 for p, r in zip(precision, recall)]\n",
    "    \n",
    "        # Find the index of the maximum F1 score\n",
    "        opt_idx = np.argmax(f1_scores_fold)\n",
    "        opt_threshold = thresholds[opt_idx] if opt_idx < len(thresholds) else 1.0\n",
    "    \n",
    "        # Store the optimal threshold for this fold\n",
    "        opt_thresholds.append(opt_threshold)\n",
    "        f1_scores.append(f1_scores_fold[opt_idx])\n",
    "    \n",
    "        average_opt_threshold = np.mean(opt_thresholds)\n",
    "        average_f1_score = np.mean(f1_scores)\n",
    "        trial.set_user_attr('average_opt_threshold', average_opt_threshold)\n",
    "        return average_f1_score\n",
    "    \n",
    "study = optuna.create_study(direction='maximize')\n",
    "study.sampler = optuna.samplers.TPESampler(multivariate=True)\n",
    "study.optimize(objective, n_trials=20)\n",
    "\n",
    "print('Number of finished trials:', len(study.trials))\n",
    "print('Best result: ', study.best_trial.value)\n",
    "print('Best trial:', study.best_trial.params)\n",
    "# To use the best parameters:\n",
    "best_params = study.best_trial.params\n",
    "best_threshold = study.best_trial.user_attrs['average_opt_threshold']\n",
    "\n"
   ],
   "metadata": {
    "collapsed": false,
    "ExecuteTime": {
     "end_time": "2024-02-21T07:43:11.058257Z",
     "start_time": "2024-02-21T01:36:00.833951Z"
    }
   },
   "id": "8018fad01dc1b433",
   "execution_count": 14
  },
  {
   "cell_type": "code",
   "outputs": [
    {
     "name": "stdout",
     "output_type": "stream",
     "text": [
      "Epoch 1/20\n",
      "3109/3109 [==============================] - 44s 14ms/step - loss: 1.0195 - auc_22: 0.9162 - precision_22: 0.6719 - recall_22: 0.9767 - accuracy: 3.0160e-05 - val_loss: 0.9082 - val_auc_22: 0.9466 - val_precision_22: 0.1861 - val_recall_22: 0.9908 - val_accuracy: 0.0000e+00\n",
      "Epoch 2/20\n",
      "3109/3109 [==============================] - 42s 14ms/step - loss: 0.8168 - auc_22: 0.9389 - precision_22: 0.6899 - recall_22: 0.9890 - accuracy: 2.2118e-04 - val_loss: 0.6336 - val_auc_22: 0.9459 - val_precision_22: 0.2354 - val_recall_22: 0.9604 - val_accuracy: 0.0000e+00\n",
      "Epoch 3/20\n",
      "3109/3109 [==============================] - 42s 14ms/step - loss: 0.7756 - auc_22: 0.9420 - precision_22: 0.7000 - recall_22: 0.9906 - accuracy: 2.7144e-04 - val_loss: 0.8337 - val_auc_22: 0.9503 - val_precision_22: 0.2144 - val_recall_22: 0.9843 - val_accuracy: 0.0000e+00\n",
      "Epoch 4/20\n",
      "3109/3109 [==============================] - 43s 14ms/step - loss: 0.7463 - auc_22: 0.9439 - precision_22: 0.7122 - recall_22: 0.9914 - accuracy: 3.2171e-04 - val_loss: 0.8958 - val_auc_22: 0.9534 - val_precision_22: 0.2083 - val_recall_22: 0.9972 - val_accuracy: 0.0000e+00\n",
      "Epoch 5/20\n",
      "3109/3109 [==============================] - 42s 14ms/step - loss: 0.7255 - auc_22: 0.9440 - precision_22: 0.7184 - recall_22: 0.9929 - accuracy: 7.8417e-04 - val_loss: 0.7195 - val_auc_22: 0.9543 - val_precision_22: 0.2288 - val_recall_22: 0.9899 - val_accuracy: 0.0000e+00\n",
      "Epoch 6/20\n",
      "3109/3109 [==============================] - 42s 14ms/step - loss: 0.7113 - auc_22: 0.9453 - precision_22: 0.7213 - recall_22: 0.9937 - accuracy: 0.0034 - val_loss: 0.7014 - val_auc_22: 0.9525 - val_precision_22: 0.2376 - val_recall_22: 0.9917 - val_accuracy: 0.0000e+00\n",
      "Epoch 7/20\n",
      "3109/3109 [==============================] - 42s 13ms/step - loss: 0.7018 - auc_22: 0.9468 - precision_22: 0.7212 - recall_22: 0.9941 - accuracy: 0.0152 - val_loss: 0.9383 - val_auc_22: 0.9541 - val_precision_22: 0.2070 - val_recall_22: 0.9982 - val_accuracy: 0.0000e+00\n",
      "Epoch 8/20\n",
      "3109/3109 [==============================] - 42s 14ms/step - loss: 0.6954 - auc_22: 0.9474 - precision_22: 0.7254 - recall_22: 0.9945 - accuracy: 0.0223 - val_loss: 0.7254 - val_auc_22: 0.9550 - val_precision_22: 0.2231 - val_recall_22: 0.9945 - val_accuracy: 0.0000e+00\n",
      "Epoch 9/20\n",
      "3109/3109 [==============================] - 42s 13ms/step - loss: 0.6877 - auc_22: 0.9489 - precision_22: 0.7272 - recall_22: 0.9943 - accuracy: 0.0253 - val_loss: 0.7543 - val_auc_22: 0.9544 - val_precision_22: 0.2238 - val_recall_22: 0.9917 - val_accuracy: 8.5157e-05\n",
      "Epoch 10/20\n",
      "3109/3109 [==============================] - 41s 13ms/step - loss: 0.6877 - auc_22: 0.9492 - precision_22: 0.7250 - recall_22: 0.9944 - accuracy: 0.0312 - val_loss: 0.8272 - val_auc_22: 0.9553 - val_precision_22: 0.2171 - val_recall_22: 0.9972 - val_accuracy: 0.0000e+00\n",
      "Epoch 11/20\n",
      "3109/3109 [==============================] - 42s 13ms/step - loss: 0.6820 - auc_22: 0.9498 - precision_22: 0.7276 - recall_22: 0.9948 - accuracy: 0.0320 - val_loss: 0.7423 - val_auc_22: 0.9551 - val_precision_22: 0.2325 - val_recall_22: 0.9899 - val_accuracy: 0.0000e+00\n",
      "Epoch 12/20\n",
      "3109/3109 [==============================] - 42s 14ms/step - loss: 0.6795 - auc_22: 0.9501 - precision_22: 0.7259 - recall_22: 0.9945 - accuracy: 0.0282 - val_loss: 0.7297 - val_auc_22: 0.9552 - val_precision_22: 0.2333 - val_recall_22: 0.9871 - val_accuracy: 0.0000e+00\n",
      "Epoch 19/20\n",
      "3109/3109 [==============================] - 42s 14ms/step - loss: 0.6816 - auc_22: 0.9498 - precision_22: 0.7240 - recall_22: 0.9952 - accuracy: 0.0262 - val_loss: 0.7239 - val_auc_22: 0.9544 - val_precision_22: 0.2192 - val_recall_22: 0.9954 - val_accuracy: 0.0000e+00\n",
      "Epoch 20/20\n",
      "3109/3109 [==============================] - 42s 13ms/step - loss: 0.6809 - auc_22: 0.9505 - precision_22: 0.7255 - recall_22: 0.9946 - accuracy: 0.0284 - val_loss: 0.7206 - val_auc_22: 0.9567 - val_precision_22: 0.2201 - val_recall_22: 0.9945 - val_accuracy: 0.0000e+00\n"
     ]
    },
    {
     "data": {
      "text/plain": "<keras.src.callbacks.History at 0x7f9986b77130>"
     },
     "execution_count": 16,
     "metadata": {},
     "output_type": "execute_result"
    }
   ],
   "source": [
    "model = DiabetesClassifier(X_train_scaled.shape[1], num_of_dense_layers =best_params['num_of_layers'], dense_number = 2 ** best_params['num_of_neurons'], dropout = best_params['dropout'], l2 = best_params['l2'])\n",
    "tensorboard = keras.callbacks.TensorBoard(log_dir='logs')\n",
    "optimizer = keras.optimizers.Adam(learning_rate = best_params['learning_rate'])\n",
    "model.compile(optimizer = optimizer, loss = 'binary_crossentropy', metrics = [metrics.AUC(), metrics.Precision(), metrics.Recall(), metrics.Accuracy()])\n",
    "model.fit(X_train_scaled, y_train, validation_data = (X_val_scaled, y_val), batch_size =32, epochs = 20, class_weight = {1: scale_pos_weight/best_params['scale_pos_weight_multiplier'], 0: 1}, callbacks = [tensorboard])"
   ],
   "metadata": {
    "collapsed": false,
    "ExecuteTime": {
     "end_time": "2024-02-21T10:51:17.874960Z",
     "start_time": "2024-02-21T10:37:19.866583Z"
    }
   },
   "id": "f70db62ec72a909c",
   "execution_count": 16
  },
  {
   "cell_type": "code",
   "outputs": [
    {
     "name": "stdout",
     "output_type": "stream",
     "text": [
      "367/367 [==============================] - 1s 2ms/step\n",
      "              precision    recall  f1-score   support\n",
      "\n",
      "           0       0.96      0.99      0.97     10658\n",
      "           1       0.83      0.58      0.69      1085\n",
      "\n",
      "    accuracy                           0.95     11743\n",
      "   macro avg       0.90      0.78      0.83     11743\n",
      "weighted avg       0.95      0.95      0.95     11743\n",
      "\n",
      "367/367 [==============================] - 1s 2ms/step\n",
      "              precision    recall  f1-score   support\n",
      "\n",
      "           0       0.96      0.99      0.98     10658\n",
      "           1       0.86      0.61      0.72      1084\n",
      "\n",
      "    accuracy                           0.96     11742\n",
      "   macro avg       0.91      0.80      0.85     11742\n",
      "weighted avg       0.95      0.96      0.95     11742\n"
     ]
    }
   ],
   "source": [
    "y_pred_prob = (model.predict(X_val_scaled).ravel() >= best_threshold).astype(int)\n",
    "print(classification_report(y_val, y_pred_prob))\n",
    "y_pred_prob = (model.predict(X_test_scaled).ravel() >= best_threshold).astype(int)\n",
    "print(classification_report(y_test, y_pred_prob))"
   ],
   "metadata": {
    "collapsed": false,
    "ExecuteTime": {
     "end_time": "2024-02-21T10:51:19.333327Z",
     "start_time": "2024-02-21T10:51:17.876031Z"
    }
   },
   "id": "21db19c29c0ecab8",
   "execution_count": 17
  },
  {
   "cell_type": "code",
   "outputs": [
    {
     "name": "stdout",
     "output_type": "stream",
     "text": [
      "INFO:tensorflow:Assets written to: model/assets\n"
     ]
    },
    {
     "name": "stderr",
     "output_type": "stream",
     "text": [
      "INFO:tensorflow:Assets written to: model/assets\n"
     ]
    }
   ],
   "source": [
    "model.save('model')"
   ],
   "metadata": {
    "collapsed": false,
    "ExecuteTime": {
     "end_time": "2024-02-21T10:54:54.512058Z",
     "start_time": "2024-02-21T10:54:53.708153Z"
    }
   },
   "id": "cdbf591c6ded3d29",
   "execution_count": 21
  },
  {
   "cell_type": "code",
   "outputs": [],
   "source": [
    "# Create a converter object\n",
    "ae = tf.keras.models.load_model('model')\n",
    "converter = tf.lite.TFLiteConverter.from_keras_model(ae)\n",
    "converter.target_spec.supported_ops = [\n",
    "    tf.lite.OpsSet.TFLITE_BUILTINS,  # Enable TensorFlow Lite ops.\n",
    "    tf.lite.OpsSet.SELECT_TF_OPS  # Enable TensorFlow ops.\n",
    "]\n",
    "# This example enables dynamic range quantization\n",
    "converter.allow_custom_ops = True  # Allow for the possibility of custom operations\n",
    "\n",
    "# Enable verbose logging\n",
    "converter.experimental_new_converter = True\n",
    "converter.optimizations = [tf.lite.Optimize.DEFAULT]\n",
    "\n",
    "\n",
    "# Perform the conversion\n",
    "tflite_model = converter.convert()\n",
    "# Replace 'converted_model.tflite' with the desired path for your .tflite model\n",
    "with open('converted_model.tflite', 'wb') as f:\n",
    "    f.write(tflite_model)\n"
   ],
   "metadata": {
    "collapsed": false
   },
   "id": "72feffd99f6b7a07"
  }
 ],
 "metadata": {
  "kernelspec": {
   "display_name": "Python 3",
   "language": "python",
   "name": "python3"
  },
  "language_info": {
   "codemirror_mode": {
    "name": "ipython",
    "version": 2
   },
   "file_extension": ".py",
   "mimetype": "text/x-python",
   "name": "python",
   "nbconvert_exporter": "python",
   "pygments_lexer": "ipython2",
   "version": "2.7.6"
  }
 },
 "nbformat": 4,
 "nbformat_minor": 5
}
